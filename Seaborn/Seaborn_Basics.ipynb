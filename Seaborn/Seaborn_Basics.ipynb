{
 "cells": [
  {
   "cell_type": "markdown",
   "metadata": {},
   "source": [
    "# Introduction to Seaborn\n",
    "## What is Seaborn?\n",
    "Seaborn is a Python data visualization library based on Matplotlib. It provides a high-level interface for drawing attractive and informative statistical graphics."
   ]
  },
  {
   "cell_type": "markdown",
   "metadata": {},
   "source": [
    "## Brief Overview of Seaborn\n",
    "Seaborn is built on top of Matplotlib and tightly integrated with the Pandas data structures. It makes it easy to create complex and aesthetically pleasing visualizations with just a few lines of code. Seaborn also comes with several built-in themes and color palettes to make your plots look more professional."
   ]
  },
  {
   "cell_type": "markdown",
   "metadata": {},
   "source": [
    "## Differences Between Seaborn and Matplotlib\n",
    "- **Ease of Use**: Seaborn simplifies the process of creating common visualizations, whereas Matplotlib requires more code for the same tasks.\n",
    "- **Built-in Themes**: Seaborn comes with built-in themes for styling your plots, while Matplotlib requires manual customization.\n",
    "- **Statistical Plots**: Seaborn includes support for complex statistical plots such as violin plots, box plots, and heatmaps, which are either not available or more complex to implement in Matplotlib.\n",
    "- **DataFrame Support**: Seaborn works seamlessly with Pandas DataFrames, allowing for easier data manipulation and plotting."
   ]
  },
  {
   "cell_type": "markdown",
   "metadata": {},
   "source": [
    "## When to Use Seaborn\n",
    "Use Seaborn when you need to:\n",
    "- Create complex visualizations with minimal code.\n",
    "- Work with statistical data and need statistical plots.\n",
    "- Take advantage of its built-in themes and color palettes.\n",
    "- Work with Pandas DataFrames for data manipulation and visualization."
   ]
  },
  {
   "cell_type": "markdown",
   "metadata": {},
   "source": [
    "# Installation and Setup\n",
    "## Installing Seaborn\n",
    "Seaborn can be installed using pip, which is the package installer for Python. You can install Seaborn along with its dependencies by running the following command:"
   ]
  },
  {
   "cell_type": "code",
   "execution_count": 1,
   "metadata": {},
   "outputs": [],
   "source": [
    "!pip install seaborn"
   ]
  },
  {
   "cell_type": "markdown",
   "metadata": {},
   "source": [
    "## Importing Seaborn\n",
    "After installing Seaborn, you can import it into your Python script or Jupyter notebook as follows:"
   ]
  },
  {
   "cell_type": "code",
   "execution_count": 2,
   "metadata": {},
   "outputs": [],
   "source": [
    "import seaborn as sns\n",
    "import matplotlib.pyplot as plt\n",
    "\n",
    "# Load an example dataset\n",
    "data = sns.load_dataset(\"tips\")\n",
    "\n",
    "# Create a simple scatter plot\n",
    "sns.scatterplot(x=\"total_bill\", y=\"tip\", data=data)\n",
    "plt.show()"
   ]
  },
  {
   "cell_type": "markdown",
   "metadata": {},
   "source": [
    "The above code will produce a scatter plot using the `tips` dataset that comes with Seaborn. This dataset contains information about tips given in a restaurant, including the total bill and the tip amount."
   ]
  },
  {
   "cell_type": "markdown",
   "metadata": {},
   "source": [
    "# Basic Concepts in Seaborn\n",
    "## Seaborn Datasets\n",
    "Seaborn comes with several built-in datasets that you can use to practice data visualization. These datasets are well-known and commonly used in data analysis tutorials."
   ]
  },
  {
   "cell_type": "markdown",
   "metadata": {},
   "source": [
    "### Loading Built-in Datasets\n",
    "You can load these datasets using the `load_dataset` function. Let's start by loading the `tips` and `iris` datasets."
   ]
  },
  {
   "cell_type": "code",
   "execution_count": 1,
   "metadata": {},
   "outputs": [
    {
     "name": "stdout",
     "output_type": "stream",
     "text": [
      "Tips dataset:\n",
      "   total_bill   tip     sex smoker  day    time  size\n",
      "0       16.99  1.01  Female     No  Sun  Dinner     2\n",
      "1       10.34  1.66    Male     No  Sun  Dinner     3\n",
      "2       21.01  3.50    Male     No  Sun  Dinner     3\n",
      "3       23.68  3.31    Male     No  Sun  Dinner     2\n",
      "4       24.59  3.61  Female     No  Sun  Dinner     4\n",
      "\n",
      "Iris dataset:\n",
      "   sepal_length  sepal_width  petal_length  petal_width    species\n",
      "0           5.1          3.5           1.4          0.2     setosa\n",
      "1           4.9          3.0           1.4          0.2     setosa\n",
      "2           4.7          3.2           1.3          0.2     setosa\n",
      "3           4.6          3.1           1.5          0.2     setosa\n",
      "4           5.0          3.6           1.4          0.2     setosa\n"
     ]
    }
   ],
   "source": [
    "import seaborn as sns\n",
    "import pandas as pd\n",
    "\n",
    "# Load the 'tips' dataset\n",
    "tips = sns.load_dataset(\"tips\")\n",
    "print(\"Tips dataset:\")\n",
    "print(tips.head())\n",
    "\n",
    "# Load the 'iris' dataset\n",
    "iris = sns.load_dataset(\"iris\")\n",
    "print(\"\\nIris dataset:\")\n",
    "print(iris.head())"
   ]
  },
  {
   "cell_type": "markdown",
   "metadata": {},
   "source": [
    "### Overview of the `load_dataset` Function\n",
    "The `load_dataset` function is used to load built-in datasets. It takes the name of the dataset as an argument and returns a Pandas DataFrame."
   ]
  },
  {
   "cell_type": "markdown",
   "metadata": {},
   "source": [
    "```python\n",
    "tips = sns.load_dataset(\"tips\")\n",
    "```\n",
    "This will load the `tips` dataset into a Pandas DataFrame named `tips`."
   ]
  },
  {
   "cell_type": "markdown",
   "metadata": {},
   "source": [
    "## DataFrames and Seaborn\n",
    "### Importance of DataFrames in Seaborn\n",
    "Seaborn works seamlessly with Pandas DataFrames, which makes it easy to manipulate and visualize data. DataFrames allow you to store and manipulate tabular data in a format that is easy to use and understand."
   ]
  },
  {
   "cell_type": "markdown",
   "metadata": {},
   "source": [
    "### Basic DataFrame Operations with Pandas\n",
    "Here are some basic operations you can perform on DataFrames using Pandas."
   ]
  },
  {
   "cell_type": "markdown",
   "metadata": {},
   "source": [
    "#### Viewing the Data\n",
    "You can view the first few rows of the DataFrame using the `head` method."
   ]
  },
  {
   "cell_type": "code",
   "execution_count": 2,
   "metadata": {},
   "outputs": [],
   "source": [
    "# View the first few rows of the tips dataset\n",
    "tips.head()"
   ]
  },
  {
   "cell_type": "markdown",
   "metadata": {},
   "source": [
    "#### Descriptive Statistics\n",
    "You can get a summary of the dataset, including the mean, median, and standard deviation, using the `describe` method."
   ]
  },
  {
   "cell_type": "code",
   "execution_count": 3,
   "metadata": {},
   "outputs": [
    {
     "data": {
      "text/html": [
       "<div style=\"overflow:auto;\">\n",
       "<table border=\"1\" class=\"dataframe\">\n",
       "  <thead>\n",
       "    <tr style=\"text-align: right;\">\n",
       "      <th></th>\n",
       "      <th>total_bill</th>\n",
       "      <th>tip</th>\n",
       "      <th>size</th>\n",
       "    </tr>\n",
       "  </thead>\n",
       "  <tbody>\n",
       "    <tr>\n",
       "      <th>count</th>\n",
       "      <td>244.000000</td>\n",
       "      <td>244.000000</td>\n",
       "      <td>244.000000</td>\n",
       "    </tr>\n",
       "    <tr>\n",
       "      <th>mean</th>\n",
       "      <td>19.785943</td>\n",
       "      <td>2.998279</td>\n",
       "      <td>2.569672</td>\n",
       "    </tr>\n",
       "    <tr>\n",
       "      <th>std</th>\n",
       "      <td>8.902412</td>\n",
       "      <td>1.383638</td>\n",
       "      <td>0.951100</td>\n",
       "    </tr>\n",
       "    <tr>\n",
       "      <th>min</th>\n",
       "      <td>3.070000</td>\n",
       "      <td>1.000000</td>\n",
       "      <td>1.000000</td>\n",
       "    </tr>\n",
       "    <tr>\n",
       "      <th>25%</th>\n",
       "      <td>13.347500</td>\n",
       "      <td>2.000000</td>\n",
       "      <td>2.000000</td>\n",
       "    </tr>\n",
       "    <tr>\n",
       "      <th>50%</th>\n",
       "      <td>17.795000</td>\n",
       "      <td>2.900000</td>\n",
       "      <td>2.000000</td>\n",
       "    </tr>\n",
       "    <tr>\n",
       "      <th>75%</th>\n",
       "      <td>24.127500</td>\n",
       "      <td>3.562500</td>\n",
       "      <td>3.000000</td>\n",
       "    </tr>\n",
       "    <tr>\n",
       "      <th>max</th>\n",
       "      <td>50.810000</td>\n",
       "      <td>10.000000</td>\n",
       "      <td>6.000000</td>\n",
       "    </tr>\n",
       "  </tbody>\n",
       "</table>\n",
       "</div>"
      ],
      "text/plain": [
       "       total_bill         tip        size\n",
       "count  244.000000  244.000000  244.000000\n",
       "mean    19.785943    2.998279    2.569672\n",
       "std      8.902412    1.383638    0.951100\n",
       "min      3.070000    1.000000    1.000000\n",
       "25%     13.347500    2.000000    2.000000\n",
       "50%     17.795000    2.900000    2.000000\n",
       "75%     24.127500    3.562500    3.000000\n",
       "max     50.810000   10.000000    6.000000"
      ]
     },
     "execution_count": 3,
     "metadata": {},
     "output_type": "execute_result"
    }
   ],
   "source": [
    "# Get descriptive statistics\n",
    "tips.describe()"
   ]
  },
  {
   "cell_type": "markdown",
   "metadata": {},
   "source": [
    "#### Selecting Specific Columns\n",
    "You can select specific columns of the DataFrame."
   ]
  },
  {
   "cell_type": "code",
   "execution_count": 4,
   "metadata": {},
   "outputs": [
    {
     "data": {
      "text/html": [
       "<div style=\"overflow:auto;\">\n",
       "<table border=\"1\" class=\"dataframe\">\n",
       "  <thead>\n",
       "    <tr style=\"text-align: right;\">\n",
       "      <th></th>\n",
       "      <th>total_bill</th>\n",
       "      <th>tip</th>\n",
       "    </tr>\n",
       "  </thead>\n",
       "  <tbody>\n",
       "    <tr>\n",
       "      <th>0</th>\n",
       "      <td>16.99</td>\n",
       "      <td>1.01</td>\n",
       "    </tr>\n",
       "    <tr>\n",
       "      <th>1</th>\n",
       "      <td>10.34</td>\n",
       "      <td>1.66</td>\n",
       "    </tr>\n",
       "    <tr>\n",
       "      <th>2</th>\n",
       "      <td>21.01</td>\n",
       "      <td>3.50</td>\n",
       "    </tr>\n",
       "    <tr>\n",
       "      <th>3</th>\n",
       "      <td>23.68</td>\n",
       "      <td>3.31</td>\n",
       "    </tr>\n",
       "    <tr>\n",
       "      <th>4</th>\n",
       "      <td>24.59</td>\n",
       "      <td>3.61</td>\n",
       "    </tr>\n",
       "  </tbody>\n",
       "</table>\n",
       "</div>"
      ],
      "text/plain": [
       "   total_bill   tip\n",
       "0       16.99  1.01\n",
       "1       10.34  1.66\n",
       "2       21.01  3.50\n",
       "3       23.68  3.31\n",
       "4       24.59  3.61"
      ]
     },
     "execution_count": 4,
     "metadata": {},
     "output_type": "execute_result"
    }
   ],
   "source": [
    "# Select specific columns\n",
    "tips[['total_bill', 'tip']].head()"
   ]
  },
  {
   "cell_type": "markdown",
   "metadata": {},
   "source": [
    "#### Filtering Rows\n",
    "You can filter rows based on certain conditions."
   ]
  },
  {
   "cell_type": "code",
   "execution_count": 5,
   "metadata": {},
   "outputs": [
    {
     "data": {
      "text/html": [
       "<div style=\"overflow:auto;\">\n",
       "<table border=\"1\" class=\"dataframe\">\n",
       "  <thead>\n",
       "    <tr style=\"text-align: right;\">\n",
       "      <th></th>\n",
       "      <th>total_bill</th>\n",
       "      <th>tip</th>\n",
       "      <th>sex</th>\n",
       "      <th>smoker</th>\n",
       "      <th>day</th>\n",
       "      <th>time</th>\n",
       "      <th>size</th>\n",
       "    </tr>\n",
       "  </thead>\n",
       "  <tbody>\n",
       "    <tr>\n",
       "      <th>1</th>\n",
       "      <td>10.34</td>\n",
       "      <td>1.66</td>\n",
       "      <td>Male</td>\n",
       "      <td>No</td>\n",
       "      <td>Sun</td>\n",
       "      <td>Dinner</td>\n",
       "      <td>3</td>\n",
       "    </tr>\n",
       "    <tr>\n",
       "      <th>2</th>\n",
       "      <td>21.01</td>\n",
       "      <td>3.50</td>\n",
       "      <td>Male</td>\n",
       "      <td>No</td>\n",
       "      <td>Sun</td>\n",
       "      <td>Dinner</td>\n",
       "      <td>3</td>\n",
       "    </tr>\n",
       "    <tr>\n",
       "      <th>3</th>\n",
       "      <td>23.68</td>\n",
       "      <td>3.31</td>\n",
       "      <td>Male</td>\n",
       "      <td>No</td>\n",
       "      <td>Sun</td>\n",
       "      <td>Dinner</td>\n",
       "      <td>2</td>\n",
       "    </tr>\n",
       "    <tr>\n",
       "      <th>5</th>\n",
       "      <td>25.29</td>\n",
       "      <td>4.71</td>\n",
       "      <td>Male</td>\n",
       "      <td>No</td>\n",
       "      <td>Sun</td>\n",
       "      <td>Dinner</td>\n",
       "      <td>4</td>\n",
       "    </tr>\n",
       "    <tr>\n",
       "      <th>6</th>\n",
       "      <td>8.77</td>\n",
       "      <td>2.00</td>\n",
       "      <td>Male</td>\n",
       "      <td>No</td>\n",
       "      <td>Sun</td>\n",
       "      <td>Dinner</td>\n",
       "      <td>2</td>\n",
       "    </tr>\n",
       "  </tbody>\n",
       "</table>\n",
       "</div>"
      ],
      "text/plain": [
       "   total_bill   tip   sex smoker  day    time  size\n",
       "1       10.34  1.66  Male     No  Sun  Dinner     3\n",
       "2       21.01  3.50  Male     No  Sun  Dinner     3\n",
       "3       23.68  3.31  Male     No  Sun  Dinner     2\n",
       "5       25.29  4.71  Male     No  Sun  Dinner     4\n",
       "6        8.77  2.00  Male     No  Sun  Dinner     2"
      ]
     },
     "execution_count": 5,
     "metadata": {},
     "output_type": "execute_result"
    }
   ],
   "source": [
    "# Filter rows where the tip is greater than $5\n",
    "high_tips = tips[tips['tip'] > 5]\n",
    "high_tips.head()"
   ]
  },
  {
   "cell_type": "markdown",
   "metadata": {},
   "source": [
    "These are some of the basic operations you can perform on DataFrames using Pandas. DataFrames are crucial when working with Seaborn because they allow you to easily manipulate and visualize your data."
   ]
  },
  {
   "cell_type": "markdown",
   "metadata": {},
   "source": [
    "## Practical Example: Analyzing Tips Data\n",
    "Let's create some visualizations to analyze the tips data using Seaborn."
   ]
  },
  {
   "cell_type": "code",
   "execution_count": 6,
   "metadata": {},
   "outputs": [],
   "source": [
    "# Scatter plot of total bill vs tip\n",
    "sns.scatterplot(x='total_bill', y='tip', data=tips)\n",
    "plt.title('Scatter plot of Total Bill vs Tip')\n",
    "plt.show()"
   ]
  },
  {
   "cell_type": "code",
   "execution_count": 7,
   "metadata": {},
   "outputs": [],
   "source": [
    "# Box plot of tips by day\n",
    "sns.boxplot(x='day', y='tip', data=tips)\n",
    "plt.title('Box plot of Tips by Day')\n",
    "plt.show()"
   ]
  },
  {
   "cell_type": "code",
   "execution_count": 8,
   "metadata": {},
   "outputs": [],
   "source": [
    "# Violin plot of tips by day\n",
    "sns.violinplot(x='day', y='tip', data=tips)\n",
    "plt.title('Violin plot of Tips by Day')\n",
    "plt.show()"
   ]
  },
  {
   "cell_type": "markdown",
   "metadata": {},
   "source": [
    "These visualizations help us understand the distribution and relationship between different variables in the tips dataset. Seaborn makes it easy to create these plots with just a few lines of code."
   ]
  },
  {
   "cell_type": "markdown",
   "metadata": {},
   "source": [
    "# Basic Plotting Functions in Seaborn\n",
    "## Relational Plots\n",
    "Relational plots are used to show the relationship between two variables."
   ]
  },
  {
   "cell_type": "markdown",
   "metadata": {},
   "source": [
    "### scatterplot\n",
    "A scatter plot displays the relationship between two numerical variables."
   ]
  },
  {
   "cell_type": "code",
   "execution_count": null,
   "metadata": {},
   "outputs": [],
   "source": [
    "import seaborn as sns\n",
    "import matplotlib.pyplot as plt\n",
    "import pandas as pd\n",
    "\n",
    "# Load the 'tips' dataset\n",
    "tips = sns.load_dataset(\"tips\")\n",
    "\n",
    "# Scatter plot of total bill vs tip\n",
    "sns.scatterplot(x='total_bill', y='tip', data=tips)\n",
    "plt.title('Scatter plot of Total Bill vs Tip')\n",
    "plt.show()"
   ]
  },
  {
   "cell_type": "markdown",
   "metadata": {},
   "source": [
    "### lineplot\n",
    "A line plot displays the relationship between two numerical variables and connects data points with a line."
   ]
  },
  {
   "cell_type": "code",
   "execution_count": null,
   "metadata": {},
   "outputs": [],
   "source": [
    "# Load the 'flights' dataset\n",
    "flights = sns.load_dataset(\"flights\")\n",
    "\n",
    "# Line plot of passengers over time\n",
    "sns.lineplot(x='year', y='passengers', data=flights)\n",
    "plt.title('Line plot of Passengers over Time')\n",
    "plt.show()"
   ]
  },
  {
   "cell_type": "markdown",
   "metadata": {},
   "source": [
    "## Categorical Plots\n",
    "Categorical plots are used to visualize data where one of the variables is categorical."
   ]
  },
  {
   "cell_type": "markdown",
   "metadata": {},
   "source": [
    "### stripplot\n",
    "A strip plot shows individual observations along one axis."
   ]
  },
  {
   "cell_type": "code",
   "execution_count": null,
   "metadata": {},
   "outputs": [],
   "source": [
    "# Strip plot of tips by day\n",
    "sns.stripplot(x='day', y='tip', data=tips)\n",
    "plt.title('Strip plot of Tips by Day')\n",
    "plt.show()"
   ]
  },
  {
   "cell_type": "markdown",
   "metadata": {},
   "source": [
    "### swarmplot\n",
    "A swarm plot also shows individual observations but avoids overlap, making it easier to see each point."
   ]
  },
  {
   "cell_type": "code",
   "execution_count": null,
   "metadata": {},
   "outputs": [],
   "source": [
    "# Swarm plot of tips by day\n",
    "sns.swarmplot(x='day', y='tip', data=tips)\n",
    "plt.title('Swarm plot of Tips by Day')\n",
    "plt.show()"
   ]
  },
  {
   "cell_type": "markdown",
   "metadata": {},
   "source": [
    "### boxplot\n",
    "A box plot shows the distribution of a dataset based on a five-number summary: minimum, first quartile, median, third quartile, and maximum."
   ]
  },
  {
   "cell_type": "code",
   "execution_count": null,
   "metadata": {},
   "outputs": [],
   "source": [
    "# Box plot of tips by day\n",
    "sns.boxplot(x='day', y='tip', data=tips)\n",
    "plt.title('Box plot of Tips by Day')\n",
    "plt.show()"
   ]
  },
  {
   "cell_type": "markdown",
   "metadata": {},
   "source": [
    "### violinplot\n",
    "A violin plot combines aspects of a box plot and a kernel density plot. It shows the distribution of the data across different categories."
   ]
  },
  {
   "cell_type": "code",
   "execution_count": null,
   "metadata": {},
   "outputs": [],
   "source": [
    "# Violin plot of tips by day\n",
    "sns.violinplot(x='day', y='tip', data=tips)\n",
    "plt.title('Violin plot of Tips by Day')\n",
    "plt.show()"
   ]
  },
  {
   "cell_type": "markdown",
   "metadata": {},
   "source": [
    "### pointplot\n",
    "A point plot shows the mean value of a quantitative variable for one or more groups, represented by points."
   ]
  },
  {
   "cell_type": "code",
   "execution_count": null,
   "metadata": {},
   "outputs": [],
   "source": [
    "# Point plot of tips by day\n",
    "sns.pointplot(x='day', y='tip', data=tips)\n",
    "plt.title('Point plot of Tips by Day')\n",
    "plt.show()"
   ]
  },
  {
   "cell_type": "markdown",
   "metadata": {},
   "source": [
    "### barplot\n",
    "A bar plot shows the mean (or other estimate) of a quantitative variable for one or more groups, represented by bars."
   ]
  },
  {
   "cell_type": "code",
   "execution_count": null,
   "metadata": {},
   "outputs": [],
   "source": [
    "# Bar plot of average tip by day\n",
    "sns.barplot(x='day', y='tip', data=tips)\n",
    "plt.title('Bar plot of Average Tip by Day')\n",
    "plt.show()"
   ]
  },
  {
   "cell_type": "markdown",
   "metadata": {},
   "source": [
    "# Statistical Estimation Plots in Seaborn\n",
    "## Distribution Plots\n",
    "Distribution plots are used to visualize the distribution of a dataset."
   ]
  },
  {
   "cell_type": "markdown",
   "metadata": {},
   "source": [
    "### histplot\n",
    "A histogram plot displays the distribution of a dataset by counting the number of observations that fall within each bin."
   ]
  },
  {
   "cell_type": "code",
   "execution_count": null,
   "metadata": {},
   "outputs": [],
   "source": [
    "import seaborn as sns\n",
    "import matplotlib.pyplot as plt\n",
    "\n",
    "# Load the 'tips' dataset\n",
    "tips = sns.load_dataset(\"tips\")\n",
    "\n",
    "# Histogram plot of total bill\n",
    "sns.histplot(tips['total_bill'], bins=30, kde=True)\n",
    "plt.title('Histogram of Total Bill')\n",
    "plt.show()"
   ]
  },
  {
   "cell_type": "markdown",
   "metadata": {},
   "source": [
    "### kdeplot\n",
    "A kernel density estimate (KDE) plot displays the distribution of a dataset by smoothing the histogram."
   ]
  },
  {
   "cell_type": "code",
   "execution_count": null,
   "metadata": {},
   "outputs": [],
   "source": [
    "# KDE plot of total bill\n",
    "sns.kdeplot(tips['total_bill'], shade=True)\n",
    "plt.title('KDE plot of Total Bill')\n",
    "plt.show()"
   ]
  },
  {
   "cell_type": "markdown",
   "metadata": {},
   "source": [
    "### ecdfplot\n",
    "An empirical cumulative distribution function (ECDF) plot displays the proportion or count of observations falling below each unique value in a dataset."
   ]
  },
  {
   "cell_type": "code",
   "execution_count": null,
   "metadata": {},
   "outputs": [],
   "source": [
    "# ECDF plot of total bill\n",
    "sns.ecdfplot(tips['total_bill'])\n",
    "plt.title('ECDF plot of Total Bill')\n",
    "plt.show()"
   ]
  },
  {
   "cell_type": "markdown",
   "metadata": {},
   "source": [
    "## Joint Plot\n",
    "A joint plot allows you to examine the relationship between two variables and their individual distributions."
   ]
  },
  {
   "cell_type": "markdown",
   "metadata": {},
   "source": [
    "### jointplot\n",
    "A joint plot combines scatter plots and histograms/KDE plots to show the relationship between two variables and their distributions."
   ]
  },
  {
   "cell_type": "code",
   "execution_count": null,
   "metadata": {},
   "outputs": [],
   "source": [
    "# Joint plot of total bill and tip\n",
    "sns.jointplot(x='total_bill', y='tip', data=tips, kind='scatter')\n",
    "plt.title('Joint plot of Total Bill and Tip')\n",
    "plt.show()"
   ]
  },
  {
   "cell_type": "markdown",
   "metadata": {},
   "source": [
    "#### Different kinds of joint plots\n",
    "Seaborn's `jointplot` function allows you to create different types of joint plots by specifying the `kind` parameter."
   ]
  },
  {
   "cell_type": "markdown",
   "metadata": {},
   "source": [
    "#### Scatter Plot\n",
    "A scatter plot in a joint plot shows individual data points."
   ]
  },
  {
   "cell_type": "code",
   "execution_count": null,
   "metadata": {},
   "outputs": [],
   "source": [
    "# Scatter joint plot of total bill and tip\n",
    "sns.jointplot(x='total_bill', y='tip', data=tips, kind='scatter')\n",
    "plt.title('Scatter Joint plot of Total Bill and Tip')\n",
    "plt.show()"
   ]
  },
  {
   "cell_type": "markdown",
   "metadata": {},
   "source": [
    "#### KDE Plot\n",
    "A KDE plot in a joint plot shows the density of data points."
   ]
  },
  {
   "cell_type": "code",
   "execution_count": null,
   "metadata": {},
   "outputs": [],
   "source": [
    "# KDE joint plot of total bill and tip\n",
    "sns.jointplot(x='total_bill', y='tip', data=tips, kind='kde')\n",
    "plt.title('KDE Joint plot of Total Bill and Tip')\n",
    "plt.show()"
   ]
  },
  {
   "cell_type": "markdown",
   "metadata": {},
   "source": [
    "#### Hex Plot\n",
    "A hex plot in a joint plot shows the density of data points using hexagonal bins."
   ]
  },
  {
   "cell_type": "code",
   "execution_count": null,
   "metadata": {},
   "outputs": [],
   "source": [
    "# Hex joint plot of total bill and tip\n",
    "sns.jointplot(x='total_bill', y='tip', data=tips, kind='hex')\n",
    "plt.title('Hex Joint plot of Total Bill and Tip')\n",
    "plt.show()"
   ]
  },
  {
   "cell_type": "markdown",
   "metadata": {},
   "source": [
    "# Matrix Plots in Seaborn\n",
    "Matrix plots are used to visualize data in a matrix form, typically to show relationships or data distributions."
   ]
  },
  {
   "cell_type": "markdown",
   "metadata": {},
   "source": [
    "## Heatmap\n",
    "A heatmap is a data visualization technique that shows the magnitude of a phenomenon as color in two dimensions."
   ]
  },
  {
   "cell_type": "markdown",
   "metadata": {},
   "source": [
    "### Creating Heatmaps\n",
    "Heatmaps can be created using Seaborn's `heatmap` function."
   ]
  },
  {
   "cell_type": "code",
   "execution_count": null,
   "metadata": {},
   "outputs": [],
   "source": [
    "import seaborn as sns\n",
    "import matplotlib.pyplot as plt\n",
    "\n",
    "# Load the 'flights' dataset\n",
    "flights = sns.load_dataset(\"flights\")\n",
    "\n",
    "# Pivot the dataset to create a matrix\n",
    "flights_pivot = flights.pivot('month', 'year', 'passengers')\n",
    "\n",
    "# Create a heatmap\n",
    "sns.heatmap(flights_pivot)\n",
    "plt.title('Heatmap of Flights Data')\n",
    "plt.show()"
   ]
  },
  {
   "cell_type": "markdown",
   "metadata": {},
   "source": [
    "### Customizing Heatmaps\n",
    "Heatmaps can be customized in various ways, such as adding annotations, changing color palettes, and adjusting heatmap properties."
   ]
  },
  {
   "cell_type": "code",
   "execution_count": null,
   "metadata": {},
   "outputs": [],
   "source": [
    "# Customized heatmap with annotations and a different color palette\n",
    "sns.heatmap(flights_pivot, annot=True, fmt='d', cmap='YlGnBu')\n",
    "plt.title('Customized Heatmap of Flights Data')\n",
    "plt.show()"
   ]
  },
  {
   "cell_type": "markdown",
   "metadata": {},
   "source": [
    "## Cluster Map\n",
    "A cluster map is a matrix plot with clustering that groups similar data points together."
   ]
  },
  {
   "cell_type": "markdown",
   "metadata": {},
   "source": [
    "### Creating and Interpreting Cluster Maps\n",
    "Cluster maps can be created using Seaborn's `clustermap` function."
   ]
  },
  {
   "cell_type": "code",
   "execution_count": null,
   "metadata": {},
   "outputs": [],
   "source": [
    "# Create a cluster map\n",
    "sns.clustermap(flights_pivot, cmap='mako', standard_scale=1)\n",
    "plt.title('Cluster Map of Flights Data')\n",
    "plt.show()"
   ]
  },
  {
   "cell_type": "markdown",
   "metadata": {},
   "source": [
    "In the cluster map, data points are grouped based on their similarity. Rows and columns are reordered to highlight patterns. The color intensity represents the magnitude of values in the dataset, and dendrograms show the hierarchical relationship between data points."
   ]
  },
  {
   "cell_type": "markdown",
   "metadata": {},
   "source": [
    "# Multi-Plot Grids in Seaborn\n",
    "Multi-plot grids allow you to create complex visualizations by combining multiple plots into a single figure."
   ]
  },
  {
   "cell_type": "markdown",
   "metadata": {},
   "source": [
    "## FacetGrid\n",
    "A `FacetGrid` is a multi-plot grid for plotting conditional relationships."
   ]
  },
  {
   "cell_type": "markdown",
   "metadata": {},
   "source": [
    "### Understanding and Using FacetGrid\n",
    "`FacetGrid` allows you to create a grid of plots based on the values of one or more categorical variables."
   ]
  },
  {
   "cell_type": "code",
   "execution_count": null,
   "metadata": {},
   "outputs": [],
   "source": [
    "import seaborn as sns\n",
    "import matplotlib.pyplot as plt\n",
    "\n",
    "# Load the 'tips' dataset\n",
    "tips = sns.load_dataset(\"tips\")\n",
    "\n",
    "# Create a FacetGrid with total bill and tips, split by day and smoker status\n",
    "g = sns.FacetGrid(tips, col='day', row='smoker')\n",
    "g.map(sns.scatterplot, 'total_bill', 'tip')\n",
    "plt.show()"
   ]
  },
  {
   "cell_type": "markdown",
   "metadata": {},
   "source": [
    "### Creating Complex Visualizations\n",
    "FacetGrid can be used to create more complex visualizations by mapping different functions to the grid."
   ]
  },
  {
   "cell_type": "code",
   "execution_count": null,
   "metadata": {},
   "outputs": [],
   "source": [
    "# Create a FacetGrid with total bill and tips, split by time and sex, and add a regression line\n",
    "g = sns.FacetGrid(tips, col='time', row='sex')\n",
    "g.map(sns.scatterplot, 'total_bill', 'tip')\n",
    "g.map(sns.lineplot, 'total_bill', 'tip', color='red')\n",
    "plt.show()"
   ]
  },
  {
   "cell_type": "markdown",
   "metadata": {},
   "source": [
    "## PairGrid\n",
    "A `PairGrid` is a grid for plotting pairwise relationships in a dataset."
   ]
  },
  {
   "cell_type": "markdown",
   "metadata": {},
   "source": [
    "### Using PairGrid for Pairwise Plots\n",
    "`PairGrid` allows you to create a matrix of plots to visualize pairwise relationships in a dataset."
   ]
  },
  {
   "cell_type": "code",
   "execution_count": null,
   "metadata": {},
   "outputs": [],
   "source": [
    "# Load the 'iris' dataset\n",
    "iris = sns.load_dataset(\"iris\")\n",
    "\n",
    "# Create a PairGrid with the iris dataset\n",
    "g = sns.PairGrid(iris)\n",
    "g.map_diag(sns.histplot)\n",
    "g.map_offdiag(sns.scatterplot)\n",
    "plt.show()"
   ]
  },
  {
   "cell_type": "markdown",
   "metadata": {},
   "source": [
    "### Customizing PairGrid\n",
    "You can customize `PairGrid` by mapping different functions to the diagonal and off-diagonal plots."
   ]
  },
  {
   "cell_type": "code",
   "execution_count": null,
   "metadata": {},
   "outputs": [],
   "source": [
    "# Create a customized PairGrid with the iris dataset\n",
    "g = sns.PairGrid(iris, hue='species')\n",
    "g.map_diag(sns.histplot)\n",
    "g.map_upper(sns.scatterplot)\n",
    "g.map_lower(sns.kdeplot, cmap='Blues_d')\n",
    "g.add_legend()\n",
    "plt.show()"
   ]
  },
    {
   "cell_type": "markdown",
   "metadata": {},
   "source": [
    "# Customization and Styling in Seaborn\n",
    "Seaborn allows for extensive customization and styling of plots to make them visually appealing and informative."
   ]
  },
  {
   "cell_type": "markdown",
   "metadata": {},
   "source": [
    "## Aesthetics and Themes\n",
    "Seaborn comes with several built-in themes to style your plots."
   ]
  },
  {
   "cell_type": "markdown",
   "metadata": {},
   "source": [
    "### Seaborn Themes\n",
    "Seaborn offers five built-in themes: `darkgrid`, `whitegrid`, `dark`, `white`, and `ticks`."
   ]
  },
  {
   "cell_type": "code",
   "execution_count": null,
   "metadata": {},
   "outputs": [],
   "source": [
    "import seaborn as sns\n",
    "import matplotlib.pyplot as plt\n",
    "\n",
    "# Load the 'tips' dataset\n",
    "tips = sns.load_dataset(\"tips\")\n",
    "\n",
    "# Apply different themes and plot\n",
    "for theme in ['darkgrid', 'whitegrid', 'dark', 'white', 'ticks']:\n",
    "    sns.set_theme(style=theme)\n",
    "    sns.scatterplot(x='total_bill', y='tip', data=tips)\n",
    "    plt.title(f'Seaborn Theme: {theme}')\n",
    "    plt.show()"
   ]
  },
  {
   "cell_type": "markdown",
   "metadata": {},
   "source": [
    "### Customizing Plot Styles and Color Palettes\n",
    "You can further customize the look of your plots by setting different plot styles and color palettes."
   ]
  },
  {
   "cell_type": "code",
   "execution_count": null,
   "metadata": {},
   "outputs": [],
   "source": [
    "# Set a custom plot style and color palette\n",
    "sns.set_style('whitegrid')\n",
    "sns.set_palette('husl')\n",
    "sns.scatterplot(x='total_bill', y='tip', data=tips)\n",
    "plt.title('Custom Plot Style and Color Palette')\n",
    "plt.show()"
   ]
  },
  {
   "cell_type": "markdown",
   "metadata": {},
   "source": [
    "## Advanced Customization\n",
    "Seaborn plots can be customized with titles, labels, annotations, axis limits, scales, and legends."
   ]
  },
  {
   "cell_type": "markdown",
   "metadata": {},
   "source": [
    "### Adding Titles, Labels, and Annotations\n",
    "You can add titles, labels, and annotations to your Seaborn plots for better readability and context."
   ]
  },
  {
   "cell_type": "code",
   "execution_count": null,
   "metadata": {},
   "outputs": [],
   "source": [
    "# Add titles, labels, and annotations\n",
    "sns.set_style('darkgrid')\n",
    "plot = sns.scatterplot(x='total_bill', y='tip', data=tips)\n",
    "plot.set_title('Scatter plot of Total Bill vs Tip')\n",
    "plot.set_xlabel('Total Bill')\n",
    "plot.set_ylabel('Tip')\n",
    "\n",
    "# Annotate a specific point\n",
    "plot.annotate('Highest Tip', xy=(50, 10), xytext=(40, 15),\n",
    "             arrowprops=dict(facecolor='black', shrink=0.05))\n",
    "plt.show()"
   ]
  },
  {
   "cell_type": "markdown",
   "metadata": {},
   "source": [
    "### Modifying Axis Limits and Scales\n",
    "You can modify the axis limits and scales to focus on specific parts of the data."
   ]
  },
  {
   "cell_type": "code",
   "execution_count": null,
   "metadata": {},
   "outputs": [],
   "source": [
    "# Modify axis limits and scales\n",
    "plot = sns.scatterplot(x='total_bill', y='tip', data=tips)\n",
    "plot.set_xlim(0, 60)\n",
    "plot.set_ylim(0, 12)\n",
    "plot.set_yscale('linear')\n",
    "plt.title('Scatter plot with Modified Axis Limits and Scale')\n",
    "plt.show()"
   ]
  },
  {
   "cell_type": "markdown",
   "metadata": {},
   "source": [
    "### Customizing Legends\n",
    "You can customize the legend to improve the presentation of your plot."
   ]
  },
  {
   "cell_type": "code",
   "execution_count": null,
   "metadata": {},
   "outputs": [],
   "source": [
    "# Customize the legend\n",
    "plot = sns.scatterplot(x='total_bill', y='tip', hue='time', data=tips)\n",
    "plot.legend(title='Meal Time', loc='upper left')\n",
    "plt.title('Scatter plot with Customized Legend')\n",
    "plt.show()"
   ]
  },
  {
   "cell_type": "markdown",
   "metadata": {},
   "source": [
    "## Integration with Matplotlib\n",
    "Seaborn is built on top of Matplotlib, so you can combine Seaborn with Matplotlib for more customization."
   ]
  },
  {
   "cell_type": "markdown",
   "metadata": {},
   "source": [
    "### Combining Seaborn with Matplotlib\n",
    "You can add Matplotlib elements to Seaborn plots for additional customization."
   ]
  },
  {
   "cell_type": "code",
   "execution_count": null,
   "metadata": {},
   "outputs": [],
   "source": [
    "# Add Matplotlib elements to Seaborn plot\n",
    "sns.set_style('whitegrid')\n",
    "plot = sns.scatterplot(x='total_bill', y='tip', hue='time', data=tips)\n",
    "\n",
    "# Add a horizontal line\n",
    "plt.axhline(y=5, color='r', linestyle='--')\n",
    "\n",
    "# Add a vertical line\n",
    "plt.axvline(x=20, color='b', linestyle='-.')\n",
    "\n",
    "plt.title('Scatter plot with Matplotlib Elements')\n",
    "plt.show()"
   ]
  },
  {
   "cell_type": "markdown",
   "metadata": {},
   "source": [
    "### Customizing Seaborn Plots using Matplotlib Functionalities\n",
    "You can use Matplotlib functionalities to further customize Seaborn plots."
   ]
  },
  {
   "cell_type": "code",
   "execution_count": null,
   "metadata": {},
   "outputs": [],
   "source": [
    "# Customize Seaborn plot using Matplotlib functionalities\n",
    "sns.set_style('darkgrid')\n",
    "plot = sns.scatterplot(x='total_bill', y='tip', hue='time', data=tips)\n",
    "plot.set_title('Customized Scatter Plot')\n",
    "plot.set_xlabel('Total Bill ($)')\n",
    "plot.set_ylabel('Tip ($)')\n",
    "plot.legend(title='Time of Day')\n",
    "\n",
    "# Rotate x-axis labels\n",
    "plt.xticks(rotation=45)\n",
    "\n",
    "# Add grid lines\n",
    "plt.grid(True)\n",
    "plt.show()"
   ]
  },
    {
   "cell_type": "markdown",
   "metadata": {},
   "source": [
    "# Resources and Further Learning for Seaborn\n",
    "Seaborn offers various resources and avenues for further learning to help you master data visualization with Seaborn."
   ]
  },
  {
   "cell_type": "markdown",
   "metadata": {},
   "source": [
    "## Documentation and Tutorials\n",
    "The official Seaborn documentation and tutorials provide comprehensive guidance on using Seaborn for data visualization."
   ]
  },
  {
   "cell_type": "markdown",
   "metadata": {},
   "source": [
    "### Official Seaborn Documentation\n",
    "The official Seaborn documentation is a valuable resource for understanding the functionalities and capabilities of Seaborn."
   ]
  },
  {
   "cell_type": "markdown",
   "metadata": {},
   "source": [
    "[Seaborn Documentation](https://seaborn.pydata.org/)"
   ]
  },
  {
   "cell_type": "markdown",
   "metadata": {},
   "source": [
    "### Recommended Books and Online Courses\n",
    "Books and online courses can provide in-depth knowledge and practical examples to enhance your skills in Seaborn."
   ]
  },
  {
   "cell_type": "markdown",
   "metadata": {},
   "source": [
    "#### Books\n",
    "- \"Python for Data Analysis\" by Wes McKinney\n",
    "- \"Data Science Handbook\" by Jake VanderPlas\n",
    "\n",
    "#### Online Courses\n",
    "- [Data Visualization with Seaborn](https://www.datacamp.com/courses/data-visualization-with-seaborn) on DataCamp\n",
    "- [Introduction to Data Visualization with Seaborn](https://www.coursera.org/learn/data-visualization-with-seaborn) on Coursera"
   ]
  },
  {
   "cell_type": "markdown",
   "metadata": {},
   "source": [
    "## Community and Support\n",
    "Joining the Seaborn community provides opportunities for learning, collaboration, and support."
   ]
  },
  {
   "cell_type": "markdown",
   "metadata": {},
   "source": [
    "### Seaborn Community Forums\n",
    "The Seaborn community forums are a place to ask questions, share insights, and engage with other Seaborn users."
   ]
  },
  {
   "cell_type": "markdown",
   "metadata": {},
   "source": [
    "[Seaborn Community Forums](https://discourse.matplotlib.org/c/seaborn/8)"
   ]
  },
  {
   "cell_type": "markdown",
   "metadata": {},
   "source": [
    "### How to Get Help and Contribute to Seaborn\n",
    "If you need help with Seaborn or want to contribute to its development, refer to the following resources:"
   ]
  },
  {
   "cell_type": "markdown",
   "metadata": {},
   "source": [
    "- [Seaborn GitHub Repository](https://github.com/mwaskom/seaborn): Report issues, suggest features, and contribute code.\n",
    "- [Contributing to Seaborn](https://seaborn.pydata.org/contributing.html): Guidelines for contributing to the Seaborn project.\n",
    "- [Seaborn Developer Mailing List](https://groups.google.com/g/seaborn-dev): Join the mailing list to discuss development topics."
   ]
  }
 ],
 "metadata": {
  "kernelspec": {
   "display_name": "Python 3",
   "language": "python",
   "name": "python3"
  },
  "language_info": {
   "codemirror_mode": {
    "name": "ipython",
    "version": 3
   },
   "file_extension": ".py",
   "mimetype": "text/x-python",
   "name": "python",
   "nbconvert_exporter": "python",
   "pygments_lexer": "ipython3",
   "version": "3.8.5"
  }
 },
 "nbformat": 4,
 "nbformat_minor": 4
}

