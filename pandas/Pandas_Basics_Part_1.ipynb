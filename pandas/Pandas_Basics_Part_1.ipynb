{
 "cells": [
  {
   "cell_type": "markdown",
   "metadata": {},
   "source": [
    "# Introduction to pandas"
   ]
  },
  {
   "cell_type": "markdown",
   "metadata": {},
   "source": [
    "## What is pandas?\n",
    "\n",
    "Pandas is a popular open-source Python library for data manipulation and analysis. It provides powerful data structures and data analysis tools built on top of NumPy, a library for scientific computing in Python. Pandas was created by Wes McKinney in 2008 and is widely used in various fields, including finance, economics, statistics, and data science.\n",
    "\n",
    "The name \"pandas\" is derived from the term \"panel data,\" which is a multidimensional data structure commonly used in econometrics and statistics. However, the library is not limited to panel data and can handle a wide range of data structures and formats."
   ]
  },
  {
   "cell_type": "markdown",
   "metadata": {},
   "source": [
    "## Why use pandas?\n",
    "\n",
    "Pandas provides several advantages for working with structured (tabular, multidimensional, potentially heterogeneous) and time series data:\n",
    "\n",
    "1. **Easy to use**: Pandas has a clean and intuitive syntax for data manipulation and analysis, making it accessible to both novice and experienced users.\n",
    "\n",
    "2. **High-performance**: Pandas is built on top of NumPy, which is highly optimized for numerical operations. This makes pandas efficient for working with large datasets.\n",
    "\n",
    "3. **Powerful data structures**: Pandas provides two main data structures: Series (1D labeled homogeneous array) and DataFrame (2D labeled data structure with columns of potentially different types). These data structures make it easy to work with structured data.\n",
    "\n",
    "4. **Data cleaning and preprocessing**: Pandas offers a wide range of functions and methods for data cleaning, preprocessing, merging, reshaping, and handling missing data.\n",
    "\n",
    "5. **Data analysis and visualization**: Pandas integrates well with other libraries like Matplotlib, Seaborn, and Plotly for data visualization. It also supports advanced statistical and analytical operations.\n",
    "\n",
    "6. **Interoperability**: Pandas can read and write data in various formats, such as CSV, Excel, SQL databases, and more, making it easy to work with data from different sources.\n",
    "\n",
    "7. **Time series analysis**: Pandas has strong support for working with time series data, including handling dates and time zones, resampling, and time-based operations.\n",
    "\n",
    "These features make pandas a powerful and versatile library for data manipulation, analysis, and exploration, making it a go-to choice for data scientists, analysts, and researchers."
   ]
  },
  {
   "cell_type": "markdown",
   "metadata": {},
   "source": [
    "## Importing pandas and other necessary libraries"
   ]
  },
  {
   "cell_type": "code",
   "execution_count": 1,
   "metadata": {},
   "outputs": [],
   "source": [
    "import pandas as pd\n",
    "import numpy as np"
   ]
  },
  {
   "cell_type": "markdown",
   "metadata": {},
   "source": [
    "In this notebook, we import the pandas library and assign it the conventional alias `pd`. We also import the NumPy library, which is commonly used alongside pandas for numerical operations."
   ]
  },
  {
   "cell_type": "markdown",
   "metadata": {},
   "source": [
    "# pandas Data Structures"
   ]
  },
  {
   "cell_type": "markdown",
   "metadata": {},
   "source": [
    "Pandas provides two main data structures: Series and DataFrame. These data structures are designed to handle structured data efficiently and provide powerful tools for data manipulation and analysis."
   ]
  },
  {
   "cell_type": "markdown",
   "metadata": {},
   "source": [
    "## Series (1D labeled homogeneous array)"
   ]
  },
  {
   "cell_type": "markdown",
   "metadata": {},
   "source": [
    "A Series is a one-dimensional labeled array that can hold any data type. It is similar to a column in a spreadsheet or a SQL table, where each entry has a corresponding label (index). A Series can be created from a list, a NumPy array, a dictionary, or a scalar value."
   ]
  },
  {
   "cell_type": "code",
   "execution_count": 2,
   "metadata": {},
   "outputs": [
    {
     "name": "stdout",
     "output_type": "stream",
     "text": [
      "0    1\n",
      "1    2\n",
      "2    3\n",
      "3    4\n",
      "dtype: int64\n"
     ]
    }
   ],
   "source": [
    "# Creating a Series from a list\n",
    "data = [1, 2, 3, 4]\n",
    "series = pd.Series(data)\n",
    "print(series)"
   ]
  },
  {
   "cell_type": "markdown",
   "metadata": {},
   "source": [
    "In this example, we create a Series from a list of integers. The Series has default integer indices (0, 1, 2, 3) assigned automatically. You can access individual elements of a Series using their index or label.\n",
    "\n",
    "Series can also be created from dictionaries, where the keys become the labels, and the values become the data:"
   ]
  },
  {
   "cell_type": "code",
   "execution_count": 3,
   "metadata": {},
   "outputs": [
    {
     "name": "stdout",
     "output_type": "stream",
     "text": [
      "a    10\n",
      "b    20\n",
      "c    30\n",
      "dtype: int64\n"
     ]
    }
   ],
   "source": [
    "# Creating a Series from a dictionary\n",
    "data = {'a': 10, 'b': 20, 'c': 30}\n",
    "series = pd.Series(data)\n",
    "print(series)"
   ]
  },
  {
   "cell_type": "markdown",
   "metadata": {},
   "source": [
    "Series are useful for representing and manipulating one-dimensional data, such as a list of values or a column from a table."
   ]
  },
  {
 "cells": [
  {
   "cell_type": "markdown",
   "metadata": {},
   "source": [
    "## DataFrame (2D labeled data structure with columns of potentially different types)"
   ]
  },
  {
   "cell_type": "markdown",
   "metadata": {},
   "source": [
    "A DataFrame is a two-dimensional labeled data structure, similar to a spreadsheet or a SQL table. It is a collection of Series objects, where each Series represents a column, and each row represents a unique entry with a label (index)."
   ]
  },
  {
   "cell_type": "code",
   "execution_count": 1,
   "metadata": {},
   "outputs": [
    {
     "name": "stdout",
     "output_type": "stream",
     "text": [
      "   Name  Age    City\n",
      "0  John   25  New York\n",
      "1  Emily   32   London\n",
      "2  Michael   38   Paris\n",
      "3  Sarah   27   Berlin\n"
     ]
    }
   ],
   "source": [
    "# Creating a DataFrame from a dictionary of lists\n",
    "import pandas as pd\n",
    "\n",
    "data = {'Name': ['John', 'Emily', 'Michael', 'Sarah'],\n",
    "        'Age': [25, 32, 38, 27],\n",
    "        'City': ['New York', 'London', 'Paris', 'Berlin']}\n",
    "\n",
    "df = pd.DataFrame(data)\n",
    "print(df)"
   ]
  },
  {
   "cell_type": "markdown",
   "metadata": {},
   "source": [
    "In this example, we create a DataFrame from a dictionary where the keys represent the column names, and the values are lists containing the data for each column.\n",
    "\n",
    "DataFrames can also be created from lists of lists, NumPy arrays, or other data structures. You can specify column names explicitly or let pandas automatically assign default column names (0, 1, 2, ...)."
   ]
  },
  {
   "cell_type": "code",
   "execution_count": 2,
   "metadata": {},
   "outputs": [
    {
     "name": "stdout",
     "output_type": "stream",
     "text": [
      "   Numbers Letters\n",
      "0        1       a\n",
      "1        2       b\n",
      "2        3       c\n"
     ]
    }
   ],
   "source": [
    "# Creating a DataFrame from a list of lists\n",
    "data = [[1, 'a'], [2, 'b'], [3, 'c']]\n",
    "df = pd.DataFrame(data, columns=['Numbers', 'Letters'])\n",
    "print(df)"
   ]
  },
  {
   "cell_type": "markdown",
   "metadata": {},
   "source": [
    "DataFrames are powerful data structures that allow you to store and manipulate tabular data efficiently. You can access and manipulate columns and rows using various indexing techniques, perform operations on the data, and apply functions across rows or columns."
   ]
  },
  {
   "cell_type": "code",
   "execution_count": 3,
   "metadata": {},
   "outputs": [
    {
     "name": "stdout",
     "output_type": "stream",
     "text": [
      "0    1\n",
      "1    2\n",
      "2    3\n",
      "Name: Numbers, dtype: int64\n",
      "   Age    City\n",
      "0   25  New York\n",
      "1   32   London\n",
      "2   38   Paris\n",
      "3   27   Berlin\n"
     ]
    }
   ],
   "source": [
    "# Accessing a column (Series)\n",
    "print(df['Numbers'])\n",
    "\n",
    "# Selecting multiple columns\n",
    "print(df[['Age', 'City']])"
   ]
  },
  {
   "cell_type": "markdown",
   "metadata": {},
   "source": [
    "DataFrames are widely used in data analysis, data cleaning, and data manipulation tasks due to their flexibility and powerful features. They provide a convenient way to work with structured data and perform various operations, such as filtering, sorting, grouping, and merging data."
   ]
  }
 ],
 "metadata": {
  "kernelspec": {
   "display_name": "Python 3",
   "language": "python",
   "name": "python3"
  },
  "language_info": {
   "codemirror_mode": {
    "name": "ipython",
    "version": 3
   },
   "file_extension": ".py",
   "mimetype": "text/x-python",
   "name": "python",
   "nbconvert_exporter": "python",
   "pygments_lexer": "ipython3",
   "version": "3.8.5"
  }
 },
 "nbformat": 4,
 "nbformat_minor": 4
}
