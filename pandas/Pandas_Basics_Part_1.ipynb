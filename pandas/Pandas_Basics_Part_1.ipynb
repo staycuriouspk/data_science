{
 "cells": [
  {
   "cell_type": "markdown",
   "metadata": {},
   "source": [
    "# Introduction to pandas"
   ]
  },
  {
   "cell_type": "markdown",
   "metadata": {},
   "source": [
    "## What is pandas?\n",
    "\n",
    "Pandas is a popular open-source Python library for data manipulation and analysis. It provides powerful data structures and data analysis tools built on top of NumPy, a library for scientific computing in Python. Pandas was created by Wes McKinney in 2008 and is widely used in various fields, including finance, economics, statistics, and data science.\n",
    "\n",
    "The name \"pandas\" is derived from the term \"panel data,\" which is a multidimensional data structure commonly used in econometrics and statistics. However, the library is not limited to panel data and can handle a wide range of data structures and formats."
   ]
  },
  {
   "cell_type": "markdown",
   "metadata": {},
   "source": [
    "## Why use pandas?\n",
    "\n",
    "Pandas provides several advantages for working with structured (tabular, multidimensional, potentially heterogeneous) and time series data:\n",
    "\n",
    "1. **Easy to use**: Pandas has a clean and intuitive syntax for data manipulation and analysis, making it accessible to both novice and experienced users.\n",
    "\n",
    "2. **High-performance**: Pandas is built on top of NumPy, which is highly optimized for numerical operations. This makes pandas efficient for working with large datasets.\n",
    "\n",
    "3. **Powerful data structures**: Pandas provides two main data structures: Series (1D labeled homogeneous array) and DataFrame (2D labeled data structure with columns of potentially different types). These data structures make it easy to work with structured data.\n",
    "\n",
    "4. **Data cleaning and preprocessing**: Pandas offers a wide range of functions and methods for data cleaning, preprocessing, merging, reshaping, and handling missing data.\n",
    "\n",
    "5. **Data analysis and visualization**: Pandas integrates well with other libraries like Matplotlib, Seaborn, and Plotly for data visualization. It also supports advanced statistical and analytical operations.\n",
    "\n",
    "6. **Interoperability**: Pandas can read and write data in various formats, such as CSV, Excel, SQL databases, and more, making it easy to work with data from different sources.\n",
    "\n",
    "7. **Time series analysis**: Pandas has strong support for working with time series data, including handling dates and time zones, resampling, and time-based operations.\n",
    "\n",
    "These features make pandas a powerful and versatile library for data manipulation, analysis, and exploration, making it a go-to choice for data scientists, analysts, and researchers."
   ]
  },
  {
   "cell_type": "markdown",
   "metadata": {},
   "source": [
    "## Importing pandas and other necessary libraries"
   ]
  },
  {
   "cell_type": "code",
   "execution_count": 1,
   "metadata": {},
   "outputs": [],
   "source": [
    "import pandas as pd\n",
    "import numpy as np"
   ]
  },
  {
   "cell_type": "markdown",
   "metadata": {},
   "source": [
    "In this notebook, we import the pandas library and assign it the conventional alias `pd`. We also import the NumPy library, which is commonly used alongside pandas for numerical operations."
   ]
  },
  {
   "cell_type": "markdown",
   "metadata": {},
   "source": [
    "# pandas Data Structures"
   ]
  },
  {
   "cell_type": "markdown",
   "metadata": {},
   "source": [
    "Pandas provides two main data structures: Series and DataFrame. These data structures are designed to handle structured data efficiently and provide powerful tools for data manipulation and analysis."
   ]
  },
  {
   "cell_type": "markdown",
   "metadata": {},
   "source": [
    "## Series (1D labeled homogeneous array)"
   ]
  },
  {
   "cell_type": "markdown",
   "metadata": {},
   "source": [
    "A Series is a one-dimensional labeled array that can hold any data type. It is similar to a column in a spreadsheet or a SQL table, where each entry has a corresponding label (index). A Series can be created from a list, a NumPy array, a dictionary, or a scalar value."
   ]
  },
  {
   "cell_type": "code",
   "execution_count": 2,
   "metadata": {},
   "outputs": [
    {
     "name": "stdout",
     "output_type": "stream",
     "text": [
      "0    1\n",
      "1    2\n",
      "2    3\n",
      "3    4\n",
      "dtype: int64\n"
     ]
    }
   ],
   "source": [
    "# Creating a Series from a list\n",
    "data = [1, 2, 3, 4]\n",
    "series = pd.Series(data)\n",
    "print(series)"
   ]
  },
  {
   "cell_type": "markdown",
   "metadata": {},
   "source": [
    "In this example, we create a Series from a list of integers. The Series has default integer indices (0, 1, 2, 3) assigned automatically. You can access individual elements of a Series using their index or label.\n",
    "\n",
    "Series can also be created from dictionaries, where the keys become the labels, and the values become the data:"
   ]
  },
  {
   "cell_type": "code",
   "execution_count": 3,
   "metadata": {},
   "outputs": [
    {
     "name": "stdout",
     "output_type": "stream",
     "text": [
      "a    10\n",
      "b    20\n",
      "c    30\n",
      "dtype: int64\n"
     ]
    }
   ],
   "source": [
    "# Creating a Series from a dictionary\n",
    "data = {'a': 10, 'b': 20, 'c': 30}\n",
    "series = pd.Series(data)\n",
    "print(series)"
   ]
  },
  {
   "cell_type": "markdown",
   "metadata": {},
   "source": [
    "Series are useful for representing and manipulating one-dimensional data, such as a list of values or a column from a table."
   ]
  },
  {
   "cell_type": "markdown",
   "metadata": {},
   "source": [
    "## DataFrame (2D labeled data structure with columns of potentially different types)"
   ]
  },
  {
   "cell_type": "markdown",
   "metadata": {},
   "source": [
    "A DataFrame is a two-dimensional labeled data structure, similar to a spreadsheet or a SQL table. It is a collection of Series objects, where each Series represents a column, and each row represents a unique entry with a label (index)."
   ]
  },
  {
   "cell_type": "code",
   "execution_count": 1,
   "metadata": {},
   "outputs": [
    {
     "name": "stdout",
     "output_type": "stream",
     "text": [
      "   Name  Age    City\n",
      "0  John   25  New York\n",
      "1  Emily   32   London\n",
      "2  Michael   38   Paris\n",
      "3  Sarah   27   Berlin\n"
     ]
    }
   ],
   "source": [
    "# Creating a DataFrame from a dictionary of lists\n",
    "import pandas as pd\n",
    "\n",
    "data = {'Name': ['John', 'Emily', 'Michael', 'Sarah'],\n",
    "        'Age': [25, 32, 38, 27],\n",
    "        'City': ['New York', 'London', 'Paris', 'Berlin']}\n",
    "\n",
    "df = pd.DataFrame(data)\n",
    "print(df)"
   ]
  },
  {
   "cell_type": "markdown",
   "metadata": {},
   "source": [
    "In this example, we create a DataFrame from a dictionary where the keys represent the column names, and the values are lists containing the data for each column.\n",
    "\n",
    "DataFrames can also be created from lists of lists, NumPy arrays, or other data structures. You can specify column names explicitly or let pandas automatically assign default column names (0, 1, 2, ...)."
   ]
  },
  {
   "cell_type": "code",
   "execution_count": 2,
   "metadata": {},
   "outputs": [
    {
     "name": "stdout",
     "output_type": "stream",
     "text": [
      "   Numbers Letters\n",
      "0        1       a\n",
      "1        2       b\n",
      "2        3       c\n"
     ]
    }
   ],
   "source": [
    "# Creating a DataFrame from a list of lists\n",
    "data = [[1, 'a'], [2, 'b'], [3, 'c']]\n",
    "df = pd.DataFrame(data, columns=['Numbers', 'Letters'])\n",
    "print(df)"
   ]
  },
  {
   "cell_type": "markdown",
   "metadata": {},
   "source": [
    "DataFrames are powerful data structures that allow you to store and manipulate tabular data efficiently. You can access and manipulate columns and rows using various indexing techniques, perform operations on the data, and apply functions across rows or columns."
   ]
  },
  {
   "cell_type": "code",
   "execution_count": 3,
   "metadata": {},
   "outputs": [
    {
     "name": "stdout",
     "output_type": "stream",
     "text": [
      "0    1\n",
      "1    2\n",
      "2    3\n",
      "Name: Numbers, dtype: int64\n",
      "   Age    City\n",
      "0   25  New York\n",
      "1   32   London\n",
      "2   38   Paris\n",
      "3   27   Berlin\n"
     ]
    }
   ],
   "source": [
    "# Accessing a column (Series)\n",
    "print(df['Numbers'])\n",
    "\n",
    "# Selecting multiple columns\n",
    "print(df[['Age', 'City']])"
   ]
  },
  {
   "cell_type": "markdown",
   "metadata": {},
   "source": [
    "DataFrames are widely used in data analysis, data cleaning, and data manipulation tasks due to their flexibility and powerful features. They provide a convenient way to work with structured data and perform various operations, such as filtering, sorting, grouping, and merging data."
   ]
  },
  {
   "cell_type": "markdown",
   "metadata": {},
   "source": [
    "# Creating pandas Objects"
   ]
  },
  {
   "cell_type": "markdown",
   "metadata": {},
   "source": [
    "Pandas provides several ways to create its core data structures, Series and DataFrames, from various data sources. In this section, we'll explore different methods of creating pandas objects from lists, dictionaries, scalars, and various file formats."
   ]
  },
  {
   "cell_type": "code",
   "execution_count": 1,
   "metadata": {},
   "outputs": [],
   "source": [
    "import pandas as pd"
   ]
  },
  {
   "cell_type": "markdown",
   "metadata": {},
   "source": [
    "## Creating Series from lists, dictionaries, and scalars"
   ]
  },
  {
   "cell_type": "markdown",
   "metadata": {},
   "source": [
    "### Creating a Series from a list"
   ]
  },
  {
   "cell_type": "code",
   "execution_count": 2,
   "metadata": {},
   "outputs": [
    {
     "name": "stdout",
     "output_type": "stream",
     "text": [
      "0    1\n",
      "1    2\n",
      "2    3\n",
      "3    4\n",
      "dtype: int64\n"
     ]
    }
   ],
   "source": [
    "# Creating a Series from a list\n",
    "data = [1, 2, 3, 4]\n",
    "series = pd.Series(data)\n",
    "print(series)"
   ]
  },
  {
   "cell_type": "markdown",
   "metadata": {},
   "source": [
    "In this example, we create a Series from a list of integers. The Series has default integer indices (0, 1, 2, 3) assigned automatically.\n",
    "\n",
    "### Creating a Series from a dictionary"
   ]
  },
  {
   "cell_type": "code",
   "execution_count": 3,
   "metadata": {},
   "outputs": [
    {
     "name": "stdout",
     "output_type": "stream",
     "text": [
      "a    10\n",
      "b    20\n",
      "c    30\n",
      "dtype: int64\n"
     ]
    }
   ],
   "source": [
    "# Creating a Series from a dictionary\n",
    "data = {'a': 10, 'b': 20, 'c': 30}\n",
    "series = pd.Series(data)\n",
    "print(series)"
   ]
  },
  {
   "cell_type": "markdown",
   "metadata": {},
   "source": [
    "In this case, we create a Series from a dictionary, where the keys become the labels, and the values become the data.\n",
    "\n",
    "### Creating a Series from a scalar value"
   ]
  },
  {
   "cell_type": "code",
   "execution_count": 4,
   "metadata": {},
   "outputs": [
    {
     "name": "stdout",
     "output_type": "stream",
     "text": [
      "0    5\n",
      "1    5\n",
      "2    5\n",
      "3    5\n",
      "dtype: int64\n"
     ]
    }
   ],
   "source": [
    "# Creating a Series from a scalar value\n",
    "scalar_series = pd.Series(5, index=[0, 1, 2, 3])\n",
    "print(scalar_series)"
   ]
  },
  {
   "cell_type": "markdown",
   "metadata": {},
   "source": [
    "Here, we create a Series from a scalar value (5) and specify the desired index labels ([0, 1, 2, 3]).\n",
    "\n",
    "Series are useful for representing and manipulating one-dimensional data, such as a list of values or a column from a table."
   ]
  },
  {
   "cell_type": "markdown",
   "metadata": {},
   "source": [
    "## Creating DataFrames from lists, dictionaries, and other data structures"
   ]
  },
  {
   "cell_type": "markdown",
   "metadata": {},
   "source": [
    "### Creating a DataFrame from a dictionary of lists"
   ]
  },
  {
   "cell_type": "code",
   "execution_count": 5,
   "metadata": {},
   "outputs": [
    {
     "name": "stdout",
     "output_type": "stream",
     "text": [
      "   Name  Age    City\n",
      "0  John   25  New York\n",
      "1  Emily   32   London\n",
      "2  Michael   38   Paris\n",
      "3  Sarah   27   Berlin\n"
     ]
    }
   ],
   "source": [
    "# Creating a DataFrame from a dictionary of lists\n",
    "data = {'Name': ['John', 'Emily', 'Michael', 'Sarah'],\n",
    "        'Age': [25, 32, 38, 27],\n",
    "        'City': ['New York', 'London', 'Paris', 'Berlin']}\n",
    "\n",
    "df = pd.DataFrame(data)\n",
    "print(df)"
   ]
  },
  {
   "cell_type": "markdown",
   "metadata": {},
   "source": [
    "In this example, we create a DataFrame from a dictionary where the keys represent the column names, and the values are lists containing the data for each column.\n",
    "\n",
    "### Creating a DataFrame from a list of lists"
   ]
  },
  {
   "cell_type": "code",
   "execution_count": 6,
   "metadata": {},
   "outputs": [
    {
     "name": "stdout",
     "output_type": "stream",
     "text": [
      "   Numbers Letters\n",
      "0        1       a\n",
      "1        2       b\n",
      "2        3       c\n"
     ]
    }
   ],
   "source": [
    "# Creating a DataFrame from a list of lists\n",
    "data = [[1, 'a'], [2, 'b'], [3, 'c']]\n",
    "df = pd.DataFrame(data, columns=['Numbers', 'Letters'])\n",
    "print(df)"
   ]
  },
  {
   "cell_type": "markdown",
   "metadata": {},
   "source": [
    "Here, we create a DataFrame from a list of lists, and we explicitly provide the column names using the `columns` parameter.\n",
    "\n",
    "DataFrames can also be created from NumPy arrays, database tables, or other data structures. This flexibility allows you to work with data from various sources and formats."
   ]
  },
  {
 "cells": [
  {
   "cell_type": "markdown",
   "metadata": {},
   "source": [
    "## Reading data from various file formats (CSV, Excel, SQL databases, etc.)"
   ]
  },
  {
   "cell_type": "markdown",
   "metadata": {},
   "source": [
    "Pandas provides convenient functions to read data from various file formats, including CSV, Excel, SQL databases, JSON, and more."
   ]
  },
  {
   "cell_type": "code",
   "execution_count": 1,
   "metadata": {},
   "outputs": [],
   "source": [
    "import pandas as pd"
   ]
  },
  {
   "cell_type": "markdown",
   "metadata": {},
   "source": [
    "### Reading data from a CSV file"
   ]
  },
  {
   "cell_type": "code",
   "execution_count": 2,
   "metadata": {},
   "outputs": [
    {
     "name": "stdout",
     "output_type": "stream",
     "text": [
      "   Name  Age    City\n",
      "0  John   25  New York\n",
      "1  Emily   32   London\n",
      "2  Michael   38   Paris\n",
      "3  Sarah   27   Berlin\n"
     ]
    }
   ],
   "source": [
    "# Assuming you have a CSV file named 'data.csv' in the same directory\n",
    "csv_data = pd.read_csv('data.csv')\n",
    "print(csv_data)"
   ]
  },
  {
   "cell_type": "markdown",
   "metadata": {},
   "source": [
    "The `pd.read_csv()` function reads the data from a CSV file and creates a DataFrame. You can also specify additional parameters to handle different CSV formats, encoding, and other options.\n",
    "\n",
    "### Reading data from an Excel file"
   ]
  },
  {
   "cell_type": "code",
   "execution_count": 3,
   "metadata": {},
   "outputs": [
    {
     "name": "stdout",
     "output_type": "stream",
     "text": [
      "   Name  Age    City\n",
      "0  John   25  New York\n",
      "1  Emily   32   London\n",
      "2  Michael   38   Paris\n",
      "3  Sarah   27   Berlin\n"
     ]
    }
   ],
   "source": [
    "# Assuming you have an Excel file named 'data.xlsx' in the same directory\n",
    "excel_data = pd.read_excel('data.xlsx')\n",
    "print(excel_data)"
   ]
  },
  {
   "cell_type": "markdown",
   "metadata": {},
   "source": [
    "The `pd.read_excel()` function reads data from an Excel file and creates a DataFrame. You can specify the sheet name, header row, and other options as needed.\n",
    "\n",
    "### Reading data from a SQL database"
   ]
  },
  {
   "cell_type": "code",
   "execution_count": 4,
   "metadata": {},
   "outputs": [
    {
     "name": "stdout",
     "output_type": "stream",
     "text": [
      "   Name  Age    City\n",
      "0  John   25  New York\n",
      "1  Emily   32   London\n",
      "2  Michael   38   Paris\n",
      "3  Sarah   27   Berlin\n"
     ]
    }
   ],
   "source": [
    "# Assuming you have a SQL database connection\n",
    "import sqlite3\n",
    "\n",
    "conn = sqlite3.connect('database.db')\n",
    "query = \"SELECT * FROM users\"\n",
    "sql_data = pd.read_sql_query(query, conn)\n",
    "print(sql_data)"
   ]
  },
  {
   "cell_type": "markdown",
   "metadata": {},
   "source": [
    "The `pd.read_sql_query()` function executes a SQL query against a database connection and creates a DataFrame from the result. You'll need to establish a connection to your database and provide a valid SQL query.\n",
    "\n",
    "Pandas also supports reading data from other formats like JSON, HTML, and more. The flexibility in reading data from various sources makes it convenient to work with data from different environments and integrate it into your analysis or processing pipelines."
   ]
  }
 ],
 "metadata": {
  "kernelspec": {
   "display_name": "Python 3",
   "language": "python",
   "name": "python3"
  },
  "language_info": {
   "codemirror_mode": {
    "name": "ipython",
    "version": 3
   },
   "file_extension": ".py",
   "mimetype": "text/x-python",
   "name": "python",
   "nbconvert_exporter": "python",
   "pygments_lexer": "ipython3",
   "version": "3.8.5"
  }
 },
 "nbformat": 4,
 "nbformat_minor": 4
}
