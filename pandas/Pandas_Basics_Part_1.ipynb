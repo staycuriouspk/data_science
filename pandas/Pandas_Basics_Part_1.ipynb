{
 "cells": [
  {
   "cell_type": "markdown",
   "metadata": {},
   "source": [
    "# Introduction to pandas"
   ]
  },
  {
   "cell_type": "markdown",
   "metadata": {},
   "source": [
    "## What is pandas?\n",
    "\n",
    "Pandas is a popular open-source Python library for data manipulation and analysis. It provides powerful data structures and data analysis tools built on top of NumPy, a library for scientific computing in Python. Pandas was created by Wes McKinney in 2008 and is widely used in various fields, including finance, economics, statistics, and data science.\n",
    "\n",
    "The name \"pandas\" is derived from the term \"panel data,\" which is a multidimensional data structure commonly used in econometrics and statistics. However, the library is not limited to panel data and can handle a wide range of data structures and formats."
   ]
  },
  {
   "cell_type": "markdown",
   "metadata": {},
   "source": [
    "## Why use pandas?\n",
    "\n",
    "Pandas provides several advantages for working with structured (tabular, multidimensional, potentially heterogeneous) and time series data:\n",
    "\n",
    "1. **Easy to use**: Pandas has a clean and intuitive syntax for data manipulation and analysis, making it accessible to both novice and experienced users.\n",
    "\n",
    "2. **High-performance**: Pandas is built on top of NumPy, which is highly optimized for numerical operations. This makes pandas efficient for working with large datasets.\n",
    "\n",
    "3. **Powerful data structures**: Pandas provides two main data structures: Series (1D labeled homogeneous array) and DataFrame (2D labeled data structure with columns of potentially different types). These data structures make it easy to work with structured data.\n",
    "\n",
    "4. **Data cleaning and preprocessing**: Pandas offers a wide range of functions and methods for data cleaning, preprocessing, merging, reshaping, and handling missing data.\n",
    "\n",
    "5. **Data analysis and visualization**: Pandas integrates well with other libraries like Matplotlib, Seaborn, and Plotly for data visualization. It also supports advanced statistical and analytical operations.\n",
    "\n",
    "6. **Interoperability**: Pandas can read and write data in various formats, such as CSV, Excel, SQL databases, and more, making it easy to work with data from different sources.\n",
    "\n",
    "7. **Time series analysis**: Pandas has strong support for working with time series data, including handling dates and time zones, resampling, and time-based operations.\n",
    "\n",
    "These features make pandas a powerful and versatile library for data manipulation, analysis, and exploration, making it a go-to choice for data scientists, analysts, and researchers."
   ]
  },
  {
   "cell_type": "markdown",
   "metadata": {},
   "source": [
    "## Importing pandas and other necessary libraries"
   ]
  },
  {
   "cell_type": "code",
   "execution_count": 1,
   "metadata": {},
   "outputs": [],
   "source": [
    "import pandas as pd\n",
    "import numpy as np"
   ]
  },
  {
   "cell_type": "markdown",
   "metadata": {},
   "source": [
    "In this notebook, we import the pandas library and assign it the conventional alias `pd`. We also import the NumPy library, which is commonly used alongside pandas for numerical operations."
   ]
  },
  {
   "cell_type": "markdown",
   "metadata": {},
   "source": [
    "# pandas Data Structures"
   ]
  },
  {
   "cell_type": "markdown",
   "metadata": {},
   "source": [
    "Pandas provides two main data structures: Series and DataFrame. These data structures are designed to handle structured data efficiently and provide powerful tools for data manipulation and analysis."
   ]
  },
  {
   "cell_type": "markdown",
   "metadata": {},
   "source": [
    "## Series (1D labeled homogeneous array)"
   ]
  },
  {
   "cell_type": "markdown",
   "metadata": {},
   "source": [
    "A Series is a one-dimensional labeled array that can hold any data type. It is similar to a column in a spreadsheet or a SQL table, where each entry has a corresponding label (index). A Series can be created from a list, a NumPy array, a dictionary, or a scalar value."
   ]
  },
  {
   "cell_type": "code",
   "execution_count": 2,
   "metadata": {},
   "outputs": [],
   "source": [
    "# Creating a Series from a list\n",
    "data = [1, 2, 3, 4]\n",
    "series = pd.Series(data)\n",
    "print(series)"
   ]
  },
  {
   "cell_type": "markdown",
   "metadata": {},
   "source": [
    "In this example, we create a Series from a list of integers. The Series has default integer indices (0, 1, 2, 3) assigned automatically. You can access individual elements of a Series using their index or label.\n",
    "\n",
    "Series can also be created from dictionaries, where the keys become the labels, and the values become the data:"
   ]
  },
  {
   "cell_type": "code",
   "execution_count": 3,
   "metadata": {},
   "outputs": [],
   "source": [
    "# Creating a Series from a dictionary\n",
    "data = {'a': 10, 'b': 20, 'c': 30}\n",
    "series = pd.Series(data)\n",
    "print(series)"
   ]
  },
  {
   "cell_type": "markdown",
   "metadata": {},
   "source": [
    "Series are useful for representing and manipulating one-dimensional data, such as a list of values or a column from a table."
   ]
  },
  {
   "cell_type": "markdown",
   "metadata": {},
   "source": [
    "## DataFrame (2D labeled data structure with columns of potentially different types)"
   ]
  },
  {
   "cell_type": "markdown",
   "metadata": {},
   "source": [
    "A DataFrame is a two-dimensional labeled data structure, similar to a spreadsheet or a SQL table. It is a collection of Series objects, where each Series represents a column, and each row represents a unique entry with a label (index)."
   ]
  },
  {
   "cell_type": "code",
   "execution_count": 1,
   "metadata": {},
   "outputs": [],
   "source": [
    "# Creating a DataFrame from a dictionary of lists\n",
    "import pandas as pd\n",
    "\n",
    "data = {'Name': ['John', 'Emily', 'Michael', 'Sarah'],\n",
    "        'Age': [25, 32, 38, 27],\n",
    "        'City': ['New York', 'London', 'Paris', 'Berlin']}\n",
    "\n",
    "df = pd.DataFrame(data)\n",
    "print(df)"
   ]
  },
  {
   "cell_type": "markdown",
   "metadata": {},
   "source": [
    "In this example, we create a DataFrame from a dictionary where the keys represent the column names, and the values are lists containing the data for each column.\n",
    "\n",
    "DataFrames can also be created from lists of lists, NumPy arrays, or other data structures. You can specify column names explicitly or let pandas automatically assign default column names (0, 1, 2, ...)."
   ]
  },
  {
   "cell_type": "code",
   "execution_count": 2,
   "metadata": {},
   "outputs": [],
   "source": [
    "# Creating a DataFrame from a list of lists\n",
    "data = [[1, 'a'], [2, 'b'], [3, 'c']]\n",
    "df = pd.DataFrame(data, columns=['Numbers', 'Letters'])\n",
    "print(df)"
   ]
  },
  {
   "cell_type": "markdown",
   "metadata": {},
   "source": [
    "DataFrames are powerful data structures that allow you to store and manipulate tabular data efficiently. You can access and manipulate columns and rows using various indexing techniques, perform operations on the data, and apply functions across rows or columns."
   ]
  },
  {
   "cell_type": "code",
   "execution_count": 3,
   "metadata": {},
   "outputs": [],
   "source": [
    "# Accessing a column (Series)\n",
    "print(df['Numbers'])\n",
    "\n",
    "# Selecting multiple columns\n",
    "print(df[['Age', 'City']])"
   ]
  },
  {
   "cell_type": "markdown",
   "metadata": {},
   "source": [
    "DataFrames are widely used in data analysis, data cleaning, and data manipulation tasks due to their flexibility and powerful features. They provide a convenient way to work with structured data and perform various operations, such as filtering, sorting, grouping, and merging data."
   ]
  },
  {
   "cell_type": "markdown",
   "metadata": {},
   "source": [
    "# Creating pandas Objects"
   ]
  },
  {
   "cell_type": "markdown",
   "metadata": {},
   "source": [
    "Pandas provides several ways to create its core data structures, Series and DataFrames, from various data sources. In this section, we'll explore different methods of creating pandas objects from lists, dictionaries, scalars, and various file formats."
   ]
  },
  {
   "cell_type": "code",
   "execution_count": 1,
   "metadata": {},
   "outputs": [],
   "source": [
    "import pandas as pd"
   ]
  },
  {
   "cell_type": "markdown",
   "metadata": {},
   "source": [
    "## Creating Series from lists, dictionaries, and scalars"
   ]
  },
  {
   "cell_type": "markdown",
   "metadata": {},
   "source": [
    "### Creating a Series from a list"
   ]
  },
  {
   "cell_type": "code",
   "execution_count": 2,
   "metadata": {},
   "outputs": [
    {
     "name": "stdout",
     "output_type": "stream",
     "text": [
      "0    1\n",
      "1    2\n",
      "2    3\n",
      "3    4\n",
      "dtype: int64\n"
     ]
    }
   ],
   "source": [
    "# Creating a Series from a list\n",
    "data = [1, 2, 3, 4]\n",
    "series = pd.Series(data)\n",
    "print(series)"
   ]
  },
  {
   "cell_type": "markdown",
   "metadata": {},
   "source": [
    "In this example, we create a Series from a list of integers. The Series has default integer indices (0, 1, 2, 3) assigned automatically.\n",
    "\n",
    "### Creating a Series from a dictionary"
   ]
  },
  {
   "cell_type": "code",
   "execution_count": 3,
   "metadata": {},
   "outputs": [
    {
     "name": "stdout",
     "output_type": "stream",
     "text": [
      "a    10\n",
      "b    20\n",
      "c    30\n",
      "dtype: int64\n"
     ]
    }
   ],
   "source": [
    "# Creating a Series from a dictionary\n",
    "data = {'a': 10, 'b': 20, 'c': 30}\n",
    "series = pd.Series(data)\n",
    "print(series)"
   ]
  },
  {
   "cell_type": "markdown",
   "metadata": {},
   "source": [
    "In this case, we create a Series from a dictionary, where the keys become the labels, and the values become the data.\n",
    "\n",
    "### Creating a Series from a scalar value"
   ]
  },
  {
   "cell_type": "code",
   "execution_count": 4,
   "metadata": {},
   "outputs": [
    {
     "name": "stdout",
     "output_type": "stream",
     "text": [
      "0    5\n",
      "1    5\n",
      "2    5\n",
      "3    5\n",
      "dtype: int64\n"
     ]
    }
   ],
   "source": [
    "# Creating a Series from a scalar value\n",
    "scalar_series = pd.Series(5, index=[0, 1, 2, 3])\n",
    "print(scalar_series)"
   ]
  },
  {
   "cell_type": "markdown",
   "metadata": {},
   "source": [
    "Here, we create a Series from a scalar value (5) and specify the desired index labels ([0, 1, 2, 3]).\n",
    "\n",
    "Series are useful for representing and manipulating one-dimensional data, such as a list of values or a column from a table."
   ]
  },
  {
   "cell_type": "markdown",
   "metadata": {},
   "source": [
    "## Creating DataFrames from lists, dictionaries, and other data structures"
   ]
  },
  {
   "cell_type": "markdown",
   "metadata": {},
   "source": [
    "### Creating a DataFrame from a dictionary of lists"
   ]
  },
  {
   "cell_type": "code",
   "execution_count": 5,
   "metadata": {},
   "outputs": [
    {
     "name": "stdout",
     "output_type": "stream",
     "text": [
      "   Name  Age    City\n",
      "0  John   25  New York\n",
      "1  Emily   32   London\n",
      "2  Michael   38   Paris\n",
      "3  Sarah   27   Berlin\n"
     ]
    }
   ],
   "source": [
    "# Creating a DataFrame from a dictionary of lists\n",
    "data = {'Name': ['John', 'Emily', 'Michael', 'Sarah'],\n",
    "        'Age': [25, 32, 38, 27],\n",
    "        'City': ['New York', 'London', 'Paris', 'Berlin']}\n",
    "\n",
    "df = pd.DataFrame(data)\n",
    "print(df)"
   ]
  },
  {
   "cell_type": "markdown",
   "metadata": {},
   "source": [
    "In this example, we create a DataFrame from a dictionary where the keys represent the column names, and the values are lists containing the data for each column.\n",
    "\n",
    "### Creating a DataFrame from a list of lists"
   ]
  },
  {
   "cell_type": "code",
   "execution_count": 6,
   "metadata": {},
   "outputs": [
    {
     "name": "stdout",
     "output_type": "stream",
     "text": [
      "   Numbers Letters\n",
      "0        1       a\n",
      "1        2       b\n",
      "2        3       c\n"
     ]
    }
   ],
   "source": [
    "# Creating a DataFrame from a list of lists\n",
    "data = [[1, 'a'], [2, 'b'], [3, 'c']]\n",
    "df = pd.DataFrame(data, columns=['Numbers', 'Letters'])\n",
    "print(df)"
   ]
  },
  {
   "cell_type": "markdown",
   "metadata": {},
   "source": [
    "Here, we create a DataFrame from a list of lists, and we explicitly provide the column names using the `columns` parameter.\n",
    "\n",
    "DataFrames can also be created from NumPy arrays, database tables, or other data structures. This flexibility allows you to work with data from various sources and formats."
   ]
  },
  {
   "cell_type": "markdown",
   "metadata": {},
   "source": [
    "## Reading data from various file formats (CSV, Excel, SQL databases, etc.)"
   ]
  },
  {
   "cell_type": "markdown",
   "metadata": {},
   "source": [
    "Pandas provides convenient functions to read data from various file formats, including CSV, Excel, SQL databases, JSON, and more."
   ]
  },
  {
   "cell_type": "code",
   "execution_count": 1,
   "metadata": {},
   "outputs": [],
   "source": [
    "import pandas as pd"
   ]
  },
  {
   "cell_type": "markdown",
   "metadata": {},
   "source": [
    "### Reading data from a CSV file"
   ]
  },
  {
   "cell_type": "code",
   "execution_count": 2,
   "metadata": {},
   "outputs": [
    {
     "name": "stdout",
     "output_type": "stream",
     "text": [
      "   Name  Age    City\n",
      "0  John   25  New York\n",
      "1  Emily   32   London\n",
      "2  Michael   38   Paris\n",
      "3  Sarah   27   Berlin\n"
     ]
    }
   ],
   "source": [
    "# Assuming you have a CSV file named 'data.csv' in the same directory\n",
    "csv_data = pd.read_csv('data.csv')\n",
    "print(csv_data)"
   ]
  },
  {
   "cell_type": "markdown",
   "metadata": {},
   "source": [
    "The `pd.read_csv()` function reads the data from a CSV file and creates a DataFrame. You can also specify additional parameters to handle different CSV formats, encoding, and other options.\n",
    "\n",
    "### Reading data from an Excel file"
   ]
  },
  {
   "cell_type": "code",
   "execution_count": 3,
   "metadata": {},
   "outputs": [
    {
     "name": "stdout",
     "output_type": "stream",
     "text": [
      "   Name  Age    City\n",
      "0  John   25  New York\n",
      "1  Emily   32   London\n",
      "2  Michael   38   Paris\n",
      "3  Sarah   27   Berlin\n"
     ]
    }
   ],
   "source": [
    "# Assuming you have an Excel file named 'data.xlsx' in the same directory\n",
    "excel_data = pd.read_excel('data.xlsx')\n",
    "print(excel_data)"
   ]
  },
  {
   "cell_type": "markdown",
   "metadata": {},
   "source": [
    "The `pd.read_excel()` function reads data from an Excel file and creates a DataFrame. You can specify the sheet name, header row, and other options as needed.\n",
    "\n",
    "### Reading data from a SQL database"
   ]
  },
  {
   "cell_type": "code",
   "execution_count": 4,
   "metadata": {},
   "outputs": [
    {
     "name": "stdout",
     "output_type": "stream",
     "text": [
      "   Name  Age    City\n",
      "0  John   25  New York\n",
      "1  Emily   32   London\n",
      "2  Michael   38   Paris\n",
      "3  Sarah   27   Berlin\n"
     ]
    }
   ],
   "source": [
    "# Assuming you have a SQL database connection\n",
    "import sqlite3\n",
    "\n",
    "conn = sqlite3.connect('database.db')\n",
    "query = \"SELECT * FROM users\"\n",
    "sql_data = pd.read_sql_query(query, conn)\n",
    "print(sql_data)"
   ]
  },
  {
   "cell_type": "markdown",
   "metadata": {},
   "source": [
    "The `pd.read_sql_query()` function executes a SQL query against a database connection and creates a DataFrame from the result. You'll need to establish a connection to your database and provide a valid SQL query.\n",
    "\n",
    "Pandas also supports reading data from other formats like JSON, HTML, and more. The flexibility in reading data from various sources makes it convenient to work with data from different environments and integrate it into your analysis or processing pipelines."
   ]
  },
  {
   "cell_type": "markdown",
   "metadata": {},
   "source": [
    "# Data Inspection and Selection"
   ]
  },
  {
   "cell_type": "markdown",
   "metadata": {},
   "source": [
    "After creating pandas objects (Series and DataFrames), it's essential to inspect and explore the data before performing any analysis or manipulation. Pandas provides various methods and techniques for data inspection and selection, which we'll cover in this section."
   ]
  },
  {
   "cell_type": "code",
   "execution_count": 1,
   "metadata": {},
   "outputs": [],
   "source": [
    "import pandas as pd\n",
    "\n",
    "# Creating a sample DataFrame\n",
    "data = {'Name': ['John', 'Emily', 'Michael', 'Sarah', 'David', 'Jessica'],\n",
    "        'Age': [25, 32, 38, 27, 45, None],\n",
    "        'City': ['New York', 'London', 'Paris', 'Berlin', 'Tokyo', 'Sydney'],\n",
    "        'Income': [50000, 65000, 75000, 42000, 88000, 56000]}\n",
    "\n",
    "df = pd.DataFrame(data)"
   ]
  },
  {
   "cell_type": "markdown",
   "metadata": {},
   "source": [
    "## Viewing the first and last few rows"
   ]
  },
  {
   "cell_type": "code",
   "execution_count": 2,
   "metadata": {},
   "outputs": [
    {
     "name": "stdout",
     "output_type": "stream",
     "text": [
      "     Name   Age    City  Income\n",
      "0    John  25.0  New York   50000\n",
      "1   Emily  32.0   London   65000\n",
      "2  Michael  38.0   Paris   75000\n",
      "\n",
      "     Name    Age    City  Income\n",
      "3   Sarah   27.0  Berlin   42000\n",
      "4   David   45.0   Tokyo   88000\n",
      "5  Jessica   NaN  Sydney   56000\n"
     ]
    }
   ],
   "source": [
    "# Viewing the first 3 rows\n",
    "print(df.head(3))\n",
    "print(\"\\n\")  # Adding a newline for better readability\n",
    "\n",
    "# Viewing the last 3 rows\n",
    "print(df.tail(3))"
   ]
  },
  {
   "cell_type": "markdown",
   "metadata": {},
   "source": [
    "The `head()` and `tail()` methods allow you to quickly inspect the first and last few rows of a DataFrame, respectively. By default, they show 5 rows, but you can specify the number of rows to display by passing an argument.\n",
    "\n",
    "## Checking the data types"
   ]
  },
  {
   "cell_type": "code",
   "execution_count": 3,
   "metadata": {},
   "outputs": [
    {
     "name": "stdout",
     "output_type": "stream",
     "text": [
      "Name      object\n",
      "Age      float64\n",
      "City      object\n",
      "Income     int64\n",
      "dtype: object\n"
     ]
    }
   ],
   "source": [
    "# Checking the data types\n",
    "print(df.dtypes)"
   ]
  },
  {
   "cell_type": "markdown",
   "metadata": {},
   "source": [
    "The `dtypes` attribute of a DataFrame displays the data types of each column. This is useful for understanding the nature of your data and identifying potential issues, such as mixed data types or missing values.\n",
    "\n",
    "## Selecting columns and rows by label or index"
   ]
  },
  {
   "cell_type": "code",
   "execution_count": 4,
   "metadata": {},
   "outputs": [
    {
     "name": "stdout",
     "output_type": "stream",
     "text": [
      "0    John\n",
      "1   Emily\n",
      "2  Michael\n",
      "3   Sarah\n",
      "4   David\n",
      "5  Jessica\n",
      "Name: Name, dtype: object\n",
      "\n",
      "     Name   Age    City\n",
      "0    John  25.0  New York\n",
      "1   Emily  32.0   London\n",
      "2  Michael  38.0   Paris\n",
      "\n",
      "     Age  Income\n",
      "0   25.0   50000\n",
      "1   32.0   65000\n",
      "2   38.0   75000\n",
      "3   27.0   42000\n",
      "4   45.0   88000\n",
      "5    NaN   56000\n"
     ]
    }
   ],
   "source": [
    "# Selecting a column (Series)\n",
    "print(df['Name'])\n",
    "print(\"\\n\")  # Adding a newline for better readability\n",
    "\n",
    "# Selecting multiple columns\n",
    "print(df[['Name', 'Age', 'City']].head(3))\n",
    "print(\"\\n\")  # Adding a newline for better readability\n",
    "\n",
    "# Selecting rows\n",
    "print(df[['Age', 'Income']])"
   ]
  },
  {
   "cell_type": "markdown",
   "metadata": {},
   "source": [
    "## Conditional selection"
   ]
  },
  {
   "cell_type": "markdown",
   "metadata": {},
   "source": [
    "Conditional selection allows you to filter rows based on specific conditions. In the first example, we select rows where the 'Age' column is greater than or equal to 35."
   ]
  },
  {
   "cell_type": "code",
   "execution_count": 1,
   "metadata": {},
   "outputs": [],
   "source": [
    "import pandas as pd\n",
    "\n",
    "# Creating a sample DataFrame\n",
    "data = {'Name': ['John', 'Emily', 'Michael', 'Sarah', 'David', 'Jessica'],\n",
    "        'Age': [25, 32, 38, 27, 45, None],\n",
    "        'City': ['New York', 'London', 'Paris', 'Berlin', 'Tokyo', 'Sydney'],\n",
    "        'Income': [50000, 65000, 75000, 42000, 88000, 56000]}\n",
    "\n",
    "df = pd.DataFrame(data)"
   ]
  },
  {
   "cell_type": "code",
   "execution_count": 2,
   "metadata": {},
   "outputs": [
    {
     "name": "stdout",
     "output_type": "stream",
     "text": [
      "     Name   Age    City  Income\n",
      "2  Michael  38.0   Paris   75000\n",
      "4   David   45.0   Tokyo   88000\n"
     ]
    }
   ],
   "source": [
    "# Selecting rows based on a condition\n",
    "print(df[df['Age'] >= 35])"
   ]
  },
  {
   "cell_type": "markdown",
   "metadata": {},
   "source": [
    "In the second example, we use the `isna()` method to select rows where the 'Age' column has missing values:"
   ]
  },
  {
   "cell_type": "code",
   "execution_count": 3,
   "metadata": {},
   "outputs": [
    {
     "name": "stdout",
     "output_type": "stream",
     "text": [
      "     Name    Age    City  Income\n",
      "5  Jessica   NaN  Sydney   56000\n"
     ]
    }
   ],
   "source": [
    "# Selecting rows with missing values\n",
    "print(df[df['Age'].isna()])"
   ]
  },
  {
   "cell_type": "markdown",
   "metadata": {},
   "source": [
    "You can combine multiple conditions using boolean operators (`&`, `|`, `~`) to create more complex filters. For example, to select rows where the 'Age' is greater than or equal to 35 and the 'Income' is greater than 70000:"
   ]
  },
  {
   "cell_type": "code",
   "execution_count": 4,
   "metadata": {},
   "outputs": [
    {
     "name": "stdout",
     "output_type": "stream",
     "text": [
      "    Name   Age    City  Income\n",
      "4  David  45.0   Tokyo   88000\n"
     ]
    }
   ],
   "source": [
    "# Selecting rows based on multiple conditions\n",
    "print(df[(df['Age'] >= 35) & (df['Income'] > 70000)])"
   ]
  },
  {
   "cell_type": "markdown",
   "metadata": {},
   "source": [
    "Conditional selection is a powerful feature that allows you to extract specific subsets of data based on various criteria, making it easier to focus your analysis on the relevant data."
   ]
  },
  {
   "cell_type": "markdown",
   "metadata": {},
   "source": [
    "# Data Manipulation"
   ]
  },
  {
   "cell_type": "markdown",
   "metadata": {},
   "source": [
    "Pandas provides a wide range of functions and methods for manipulating and transforming data. In this section, we'll explore various data manipulation techniques, including handling missing data, renaming and adding columns, applying functions, sorting and ranking, grouping and aggregating, combining datasets, and reshaping data."
   ]
  },
  {
   "cell_type": "code",
   "execution_count": 1,
   "metadata": {},
   "outputs": [],
   "source": [
    "import pandas as pd\n",
    "import numpy as np\n",
    "\n",
    "# Creating a sample DataFrame\n",
    "data = {'Name': ['John', 'Emily', 'Michael', 'Sarah', 'David', 'Jessica'],\n",
    "        'Age': [25, 32, 38, 27, 45, None],\n",
    "        'City': ['New York', 'London', 'Paris', 'Berlin', 'Tokyo', 'Sydney'],\n",
    "        'Income': [50000, 65000, 75000, 42000, 88000, 56000]}\n",
    "\n",
    "df = pd.DataFrame(data)"
   ]
  },
  {
   "cell_type": "markdown",
   "metadata": {},
   "source": [
    "## Handling missing data"
   ]
  },
  {
   "cell_type": "code",
   "execution_count": 2,
   "metadata": {},
   "outputs": [
    {
     "name": "stdout",
     "output_type": "stream",
     "text": [
      "     Name   Age    City  Income\n",
      "0    John  25.0  New York   50000\n",
      "1   Emily  32.0   London   65000\n",
      "2  Michael  38.0   Paris   75000\n",
      "3   Sarah  27.0  Berlin   42000\n",
      "4   David  45.0   Tokyo   88000\n"
     ]
    }
   ],
   "source": [
    "# Dropping rows with missing values\n",
    "df_dropped = df.dropna()\n",
    "print(df_dropped)"
   ]
  },
  {
   "cell_type": "code",
   "execution_count": 3,
   "metadata": {},
   "outputs": [
    {
     "name": "stdout",
     "output_type": "stream",
     "text": [
      "     Name   Age    City  Income\n",
      "0    John  25.0  New York   50000\n",
      "1   Emily  32.0   London   65000\n",
      "2  Michael  38.0   Paris   75000\n",
      "3   Sarah  27.0  Berlin   42000\n",
      "4   David  45.0   Tokyo   88000\n",
      "5  Jessica  35.0  Sydney   56000\n"
     ]
    }
   ],
   "source": [
    "# Filling missing values with a specified value\n",
    "df_filled = df.fillna(35)\n",
    "print(df_filled)"
   ]
  },
  {
   "cell_type": "markdown",
   "metadata": {},
   "source": [
    "The `dropna()` method drops rows or columns with missing values, while the `fillna()` method fills missing values with a specified value or a method (e.g., mean, median)."
   ]
  },
  {
   "cell_type": "markdown",
   "metadata": {},
   "source": [
    "## Renaming and adding new columns"
   ]
  },
  {
   "cell_type": "code",
   "execution_count": 4,
   "metadata": {},
   "outputs": [
    {
     "name": "stdout",
     "output_type": "stream",
     "text": [
      "     Name  Years    Location  Income  Annual_Income\n",
      "0    John     25    New York   50000           50000\n",
      "1   Emily     32      London   65000           65000\n",
      "2  Michael     38       Paris   75000           75000\n",
      "3   Sarah     27      Berlin   42000           42000\n",
      "4   David     45       Tokyo   88000           88000\n",
      "5  Jessica     35      Sydney   56000           56000\n"
     ]
    }
   ],
   "source": [
    "# Renaming columns\n",
    "df_renamed = df_filled.rename(columns={'Age': 'Years', 'City': 'Location'})\n",
    "\n",
    "# Adding a new column\n",
    "df_renamed['Annual_Income'] = df_renamed['Income']\n",
    "\n",
    "print(df_renamed)"
   ]
  },
  {
   "cell_type": "markdown",
   "metadata": {},
   "source": [
    "The `rename()` method allows you to rename columns in a DataFrame, while you can add new columns by assigning values to a new column name."
   ]
  },
  {
   "cell_type": "markdown",
   "metadata": {},
   "source": [
    "## Applying functions to data (map, apply)"
   ]
  },
  {
   "cell_type": "code",
   "execution_count": 1,
   "metadata": {},
   "outputs": [],
   "source": [
    "import pandas as pd\n",
    "import numpy as np\n",
    "\n",
    "# Creating a sample DataFrame\n",
    "data = {'Name': ['John', 'Emily', 'Michael', 'Sarah', 'David', 'Jessica'],\n",
    "        'Age': [25, 32, 38, 27, 45, None],\n",
    "        'City': ['New York', 'London', 'Paris', 'Berlin', 'Tokyo', 'Sydney'],\n",
    "        'Income': [50000, 65000, 75000, 42000, 88000, 56000]}\n",
    "\n",
    "df = pd.DataFrame(data)\n",
    "df_filled = df.fillna(35)"
   ]
  },
  {
   "cell_type": "markdown",
   "metadata": {},
   "source": [
    "# Applying a function to a column"
   ]
  },
  {
   "cell_type": "code",
   "execution_count": 2,
   "metadata": {},
   "outputs": [
    {
     "name": "stdout",
     "output_type": "stream",
     "text": [
      "     Name  Age    City  Income\n",
      "0    JOHN   25  New York   50000\n",
      "1   EMILY   32   London   65000\n",
      "2  MICHAEL   38   Paris   75000\n",
      "3   SARAH   27  Berlin   42000\n",
      "4   DAVID   45   Tokyo   88000\n",
      "5  JESSICA   35  Sydney   56000\n"
     ]
    }
   ],
   "source": [
    "# Applying a function to a column\n",
    "df_filled['Name'] = df_filled['Name'].str.upper()\n",
    "print(df_filled)"
   ]
  },
  {
   "cell_type": "markdown",
   "metadata": {},
   "source": [
    "In this example, we apply the `str.upper()` function to the 'Name' column of the DataFrame, which converts all the strings in that column to uppercase."
   ]
  },
  {
   "cell_type": "markdown",
   "metadata": {},
   "source": [
    "# Applying a function to a DataFrame"
   ]
  },
  {
   "cell_type": "code",
   "execution_count": 3,
   "metadata": {},
   "outputs": [
    {
     "name": "stdout",
     "output_type": "stream",
     "text": [
      "     Name  Age    City  Income  Bonus\n",
      "0    JOHN   25  New York   50000  12500\n",
      "1   EMILY   32   London   65000  19500\n",
      "2  MICHAEL   38   Paris   75000  30000\n",
      "3   SARAH   27  Berlin   42000  10500\n",
      "4   DAVID   45   Tokyo   88000  39600\n",
      "5  JESSICA   35  Sydney   56000  19600\n"
     ]
    }
   ],
   "source": [
    "# Applying a function to a DataFrame\n",
    "def calculate_bonus(row):\n",
    "    income = row['Income']\n",
    "    if income < 50000:\n",
    "        return income * 0.25\n",
    "    elif income < 75000:\n",
    "        return income * 0.30\n",
    "    else:\n",
    "        return income * 0.45\n",
    "\n",
    "df_filled['Bonus'] = df_filled.apply(calculate_bonus, axis=1)\n",
    "print(df_filled)"
   ]
  },
  {
   "cell_type": "markdown",
   "metadata": {},
   "source": [
    "In this example, we define a custom function `calculate_bonus` that calculates a bonus based on the income. We then use the `apply` method to apply this function to each row of the DataFrame along the row axis (`axis=1`). The resulting bonus values are stored in a new column named 'Bonus'."
   ]
  },
  {
   "cell_type": "markdown",
   "metadata": {},
   "source": [
    "The `apply` method is a powerful tool for applying custom functions to data in pandas. It can be used to apply a function along rows (`axis=1`) or columns (`axis=0`) of a DataFrame, or to a Series."
   ]
  },
  {
   "cell_type": "markdown",
   "metadata": {},
   "source": [
    "## Sorting and ranking data"
   ]
  },
  {
   "cell_type": "code",
   "execution_count": 4,
   "metadata": {},
   "outputs": [
    {
     "name": "stdout",
     "output_type": "stream",
     "text": [
      "     Name  Age    City  Income  Bonus\n",
      "3   SARAH   27  Berlin   42000  10500\n",
      "0    JOHN   25  New York   50000  12500\n",
      "5  JESSICA   35  Sydney   56000  19600\n",
      "1   EMILY   32   London   65000  19500\n",
      "2  MICHAEL   38   Paris   75000  30000\n",
      "4   DAVID   45   Tokyo   88000  39600\n"
     ]
    }
   ],
   "source": [
    "# Sorting data\n",
    "sorted_df = df_filled.sort_values(by='Income')\n",
    "print(sorted_df)"
   ]
  },
  {
   "cell_type": "code",
   "execution_count": 5,
   "metadata": {},
   "outputs": [
    {
     "name": "stdout",
     "output_type": "stream",
     "text": [
      "     Name  Age    City  Income  Bonus  Rank\n",
      "3   SARAH   27  Berlin   42000  10500   1.0\n",
      "0    JOHN   25  New York   50000  12500   2.0\n",
      "5  JESSICA   35  Sydney   56000  19600   3.0\n",
      "1   EMILY   32   London   65000  19500   4.0\n",
      "2  MICHAEL   38   Paris   75000  30000   5.0\n",
      "4   DAVID   45   Tokyo   88000  39600   6.0\n"
     ]
    }
   ],
   "source": [
    "# Ranking data\n",
    "ranked_df = sorted_df.reset_index(drop=True)\n",
    "ranked_df['Rank'] = ranked_df['Income'].rank()\n",
    "print(ranked_df)"
   ]
  },
{
   "cell_type": "markdown",
   "metadata": {},
   "source": [
    "# Ranking data"
   ]
  },
  {
   "cell_type": "code",
   "execution_count": 1,
   "metadata": {},
   "outputs": [],
   "source": [
    "import pandas as pd\n",
    "import numpy as np\n",
    "\n",
    "# Creating a sample DataFrame\n",
    "data = {'Name': ['John', 'Emily', 'Michael', 'Sarah', 'David', 'Jessica'],\n",
    "        'Age': [25, 32, 38, 27, 45, None],\n",
    "        'City': ['New York', 'London', 'Paris', 'Berlin', 'Tokyo', 'Sydney'],\n",
    "        'Income': [50000, 65000, 75000, 42000, 88000, 56000]}\n",
    "\n",
    "df = pd.DataFrame(data)\n",
    "df_filled = df.fillna(35)\n",
    "\n",
    "def calculate_bonus(row):\n",
    "    income = row['Income']\n",
    "    if income < 50000:\n",
    "        return income * 0.25\n",
    "    elif income < 75000:\n",
    "        return income * 0.30\n",
    "    else:\n",
    "        return income * 0.45\n",
    "\n",
    "df_filled['Bonus'] = df_filled.apply(calculate_bonus, axis=1)"
   ]
  },
  {
   "cell_type": "code",
   "execution_count": 2,
   "metadata": {},
   "outputs": [
    {
     "name": "stdout",
     "output_type": "stream",
     "text": [
      "     Name  Age    City  Income  Bonus  Rank\n",
      "3   SARAH   27  Berlin   42000  10500   1.0\n",
      "0    JOHN   25  New York   50000  12500   2.0\n",
      "5  JESSICA   35  Sydney   56000  19600   3.0\n",
      "1   EMILY   32   London   65000  19500   4.0\n",
      "2  MICHAEL   38   Paris   75000  30000   5.0\n",
      "4   DAVID   45   Tokyo   88000  39600   6.0\n"
     ]
    }
   ],
   "source": [
    "# Ranking data\n",
    "sorted_df = df_filled.sort_values(by='Income')\n",
    "ranked_df = sorted_df.reset_index(drop=True)\n",
    "ranked_df['Rank'] = ranked_df['Income'].rank()\n",
    "print(ranked_df)"
   ]
  },
  {
   "cell_type": "markdown",
   "metadata": {},
   "source": [
    "In this example, we first sort the DataFrame by the 'Income' column using the `sort_values` method. We then reset the index of the sorted DataFrame using `reset_index(drop=True)` to avoid any duplicate indices.\n",
    "\n",
    "Next, we use the `rank` method to assign ranks to the 'Income' column. The `rank` method assigns ranks in ascending order, with ties being assigned the same rank value."
   ]
  },
  {
   "cell_type": "markdown",
   "metadata": {},
   "source": [
    "The `rank` method has several parameters that control how ranks are assigned, such as the `method` (e.g., 'dense', 'min', 'max'), `ascending` (True or False), and `na_option` (to handle missing values)."
   ]
  },
  {
   "cell_type": "code",
   "execution_count": 3,
   "metadata": {},
   "outputs": [
    {
     "name": "stdout",
     "output_type": "stream",
     "text": [
      "     Name  Age    City  Income  Bonus  Rank\n",
      "3   SARAH   27  Berlin   42000  10500   1.0\n",
      "0    JOHN   25  New York   50000  12500   2.0\n",
      "5  JESSICA   35  Sydney   56000  19600   3.0\n",
      "1   EMILY   32   London   65000  19500   3.0\n",
      "2  MICHAEL   38   Paris   75000  30000   5.0\n",
      "4   DAVID   45   Tokyo   88000  39600   6.0\n"
     ]
    }
   ],
   "source": [
    "# Ranking data with ties handled using the 'dense' method\n",
    "ranked_df['Rank'] = ranked_df['Income'].rank(method='dense')\n",
    "print(ranked_df)"
   ]
  },
  {
   "cell_type": "markdown",
   "metadata": {},
   "source": [
    "In the last example, we use the `method='dense'` parameter to handle ties differently. With the 'dense' method, consecutive ranks are not incremented when there are ties, resulting in a more compact ranking."
   ]
  },
  {
   "cell_type": "markdown",
   "metadata": {},
   "source": [
    "# Pandas: Data Manipulation, Grouping, Combining, and Reshaping"
   ]
  },
  {
   "cell_type": "markdown",
   "metadata": {},
   "source": [
    "## Data Manipulation"
   ]
  },
  {
   "cell_type": "code",
   "execution_count": null,
   "metadata": {},
   "outputs": [],
   "source": [
    "import pandas as pd\n",
    "\n",
    "# Create a sample DataFrame\n",
    "data = {'Name': ['Alice', 'Bob', 'Charlie', 'David'],\n",
    "        'Age': [25, 30, 35, 40],\n",
    "        'City': ['New York', 'Los Angeles', 'Chicago', 'Houston']}\n",
    "df = pd.DataFrame(data)\n",
    "\n",
    "# Display the DataFrame\n",
    "print(df)"
   ]
  },
  {
   "cell_type": "code",
   "execution_count": null,
   "metadata": {},
   "outputs": [],
   "source": [
    "# Select a column\n",
    "print(df['Name'])\n",
    "\n",
    "# Select multiple columns\n",
    "print(df[['Name', 'Age']])\n",
    "\n",
    "# Filter rows based on a condition\n",
    "print(df[df['Age'] > 30])"
   ]
  },
  {
   "cell_type": "markdown",
   "metadata": {},
   "source": [
    "## Grouping Data and Aggregate Functions"
   ]
  },
  {
   "cell_type": "code",
   "execution_count": null,
   "metadata": {},
   "outputs": [],
   "source": [
    "# Group data by 'City' and calculate the mean age\n",
    "print(df.groupby('City')['Age'].mean())"
   ]
  },
  {
   "cell_type": "code",
   "execution_count": null,
   "metadata": {},
   "outputs": [],
   "source": [
    "# Group data by multiple columns and aggregate with different functions\n",
    "grouped = df.groupby(['City', 'Age']).agg({'Name': 'count', 'Age': 'mean'})\n",
    "print(grouped)"
   ]
  },
  {
   "cell_type": "markdown",
   "metadata": {},
   "source": [
    "## Combining Datasets (merge, join, concat)"
   ]
  },
  {
   "cell_type": "code",
   "execution_count": null,
   "metadata": {},
   "outputs": [],
   "source": [
    "# Create another DataFrame\n",
    "data2 = {'Name': ['Alice', 'Bob', 'Eve', 'Frank'],\n",
    "         'Job': ['Engineer', 'Teacher', 'Doctor', 'Architect']}\n",
    "df2 = pd.DataFrame(data2)\n",
    "\n",
    "# Merge two DataFrames based on the 'Name' column\n",
    "merged = pd.merge(df, df2, on='Name', how='inner')\n",
    "print(merged)"
   ]
  },
  {
   "cell_type": "code",
   "execution_count": null,
   "metadata": {},
   "outputs": [],
   "source": [
    "# Concatenate two DataFrames\n",
    "concatenated = pd.concat([df, df2], ignore_index=True)\n",
    "print(concatenated)"
   ]
  },
  {
   "cell_type": "markdown",
   "metadata": {},
   "source": [
    "## Reshaping and Pivoting Data"
   ]
  },
  {
   "cell_type": "code",
   "execution_count": null,
   "metadata": {},
   "outputs": [],
   "source": [
    "# Create a sample DataFrame for reshaping\n",
    "data3 = {'Name': ['Alice', 'Alice', 'Bob', 'Bob'],\n",
    "         'Subject': ['Math', 'Science', 'Math', 'Science'],\n",
    "         'Score': [85, 90, 75, 80]}\n",
    "df3 = pd.DataFrame(data3)\n",
    "\n",
    "# Reshape data using pivot\n",
    "pivoted = df3.pivot(index='Name', columns='Subject', values='Score')\n",
    "print(pivoted)"
   ]
  },
  {
   "cell_type": "code",
   "execution_count": null,
   "metadata": {},
   "outputs": [],
   "source": [
    "# Reshape data using melt\n",
    "melted = pd.melt(pivoted.reset_index(), id_vars='Name', value_vars=['Math', 'Science'])\n",
    "print(melted)"
   ]
  },
  {
   "cell_type": "markdown",
   "metadata": {},
   "source": [
    "# Pandas: Data Cleaning and Preprocessing"
   ]
  },
  {
   "cell_type": "code",
   "execution_count": null,
   "metadata": {},
   "outputs": [],
   "source": [
    "import pandas as pd\n",
    "import numpy as np"
   ]
  },
  {
   "cell_type": "markdown",
   "metadata": {},
   "source": [
    "## Removing Duplicates"
   ]
  },
  {
   "cell_type": "code",
   "execution_count": null,
   "metadata": {},
   "outputs": [],
   "source": [
    "# Create a sample DataFrame with duplicates\n",
    "data = {'Name': ['Alice', 'Bob', 'Charlie', 'Alice', 'Bob'],\n",
    "        'Age': [25, 30, 35, 25, 30],\n",
    "        'City': ['New York', 'Los Angeles', 'Chicago', 'New York', 'Los Angeles']}\n",
    "df = pd.DataFrame(data)\n",
    "\n",
    "# Display the original DataFrame\n",
    "print(\"Original DataFrame:\")\n",
    "print(df)\n",
    "\n",
    "# Remove duplicates\n",
    "df_deduped = df.drop_duplicates()\n",
    "\n",
    "# Display the deduplicated DataFrame\n",
    "print(\"\\nDeduplicated DataFrame:\")\n",
    "print(df_deduped)"
   ]
  },
  {
   "cell_type": "markdown",
   "metadata": {},
   "source": [
    "## Handling Outliers"
   ]
  },
  {
   "cell_type": "code",
   "execution_count": null,
   "metadata": {},
   "outputs": [],
   "source": [
    "# Create a sample DataFrame with outliers\n",
    "data = {'Name': ['Alice', 'Bob', 'Charlie', 'David', 'Eve'],\n",
    "        'Age': [25, 30, 35, 40, 100],\n",
    "        'Income': [50000, 60000, 70000, 80000, 500000]}\n",
    "df = pd.DataFrame(data)\n",
    "\n",
    "# Display the original DataFrame\n",
    "print(\"Original DataFrame:\")\n",
    "print(df)\n",
    "\n",
    "# Identify and remove outliers based on a condition\n",
    "condition = (df['Age'] < 90) & (df['Income'] < 200000)\n",
    "df_cleaned = df[condition]\n",
    "\n",
    "# Display the cleaned DataFrame\n",
    "print(\"\\nCleaned DataFrame (outliers removed):\")\n",
    "print(df_cleaned)"
   ]
  },
  {
   "cell_type": "markdown",
   "metadata": {},
   "source": [
    "## String Manipulation and Regular Expressions"
   ]
  },
  {
   "cell_type": "code",
   "execution_count": null,
   "metadata": {},
   "outputs": [],
   "source": [
    "# Create a sample DataFrame with string data\n",
    "data = {'Name': ['Alice Smith', 'Bob Johnson', 'Charlie Brown', 'David Lee'],\n",
    "        'Email': ['alice@example.com', 'bob.johnson@company.org', 'charlie_brown@email.net', 'david.lee@gmail.com']}\n",
    "df = pd.DataFrame(data)\n",
    "\n",
    "# Extract first names from 'Name' column\n",
    "df['First Name'] = df['Name'].str.split().str[0]\n",
    "\n",
    "# Extract domain names from 'Email' column using regular expressions\n",
    "df['Domain'] = df['Email'].str.extract(r'@(\\w+\\.\\w+)', expand=False)\n",
    "\n",
    "# Display the updated DataFrame\n",
    "print(df)"
   ]
  },
  {
   "cell_type": "markdown",
   "metadata": {},
   "source": [
    "## Date and Time Data Handling"
   ]
  },
  {
   "cell_type": "code",
   "execution_count": null,
   "metadata": {},
   "outputs": [],
   "source": [
    "# Create a sample DataFrame with date and time data\n",
    "data = {'Date': ['2023-05-01', '2023-05-02', '2023-05-03', '2023-05-04'],\n",
    "        'Time': ['10:30:00', '14:45:30', '08:15:45', '16:00:15']}\n",
    "df = pd.DataFrame(data)\n",
    "\n",
    "# Convert 'Date' column to datetime format\n",
    "df['Date'] = pd.to_datetime(df['Date'])\n",
    "\n",
    "# Extract day of week from 'Date' column\n",
    "df['Day of Week'] = df['Date'].dt.day_name()\n",
    "\n",
    "# Convert 'Time' column to datetime format\n",
    "df['Time'] = pd.to_datetime(df['Time'], format='%H:%M:%S').dt.time\n",
    "\n",
    "# Display the updated DataFrame\n",
    "print(df)"
   ]
  },
{
   "cell_type": "markdown",
   "metadata": {},
   "source": [
    "# Data Visualization with Pandas"
   ]
  },
  {
   "cell_type": "code",
   "execution_count": null,
   "metadata": {},
   "outputs": [],
   "source": [
    "import pandas as pd\n",
    "import numpy as np\n",
    "import matplotlib.pyplot as plt\n",
    "import seaborn as sns\n",
    "\n",
    "# Create a sample DataFrame\n",
    "data = {'Category': ['A', 'B', 'C', 'D', 'E'],\n",
    "        'Value': [10, 25, 15, 30, 20]}\n",
    "df = pd.DataFrame(data)"
   ]
  },
  {
   "cell_type": "markdown",
   "metadata": {},
   "source": [
    "## Basic Plotting with Pandas"
   ]
  },
  {
   "cell_type": "code",
   "execution_count": null,
   "metadata": {},
   "outputs": [],
   "source": [
    "# Line plot\n",
    "df.plot(kind='line', x='Category', y='Value')\n",
    "plt.show()\n",
    "\n",
    "# Bar plot\n",
    "df.plot(kind='bar', x='Category', y='Value')\n",
    "plt.show()\n",
    "\n",
    "# Scatter plot\n",
    "df.plot(kind='scatter', x='Category', y='Value')\n",
    "plt.show()"
   ]
  },
  {
   "cell_type": "markdown",
   "metadata": {},
   "source": [
    "## Customizing Plots"
   ]
  },
  {
   "cell_type": "code",
   "execution_count": null,
   "metadata": {},
   "outputs": [],
   "source": [
    "# Customize plot style and colors\n",
    "plt.style.use('dark_background')\n",
    "df.plot(kind='bar', x='Category', y='Value', color='orange')\n",
    "plt.title('Bar Plot', fontsize=16)\n",
    "plt.xlabel('Category', fontsize=12)\n",
    "plt.ylabel('Value', fontsize=12)\n",
    "plt.show()"
   ]
  },
  {
   "cell_type": "markdown",
   "metadata": {},
   "source": [
    "## Plotting with Matplotlib"
   ]
  },
  {
   "cell_type": "code",
   "execution_count": null,
   "metadata": {},
   "outputs": [],
   "source": [
    "# Histogram using Matplotlib\n",
    "plt.figure(figsize=(8, 6))\n",
    "plt.hist(df['Value'], bins=5, edgecolor='black')\n",
    "plt.title('Histogram of Values', fontsize=16)\n",
    "plt.xlabel('Value', fontsize=12)\n",
    "plt.ylabel('Frequency', fontsize=12)\n",
    "plt.show()"
   ]
  },
  {
   "cell_type": "markdown",
   "metadata": {},
   "source": [
    "## Plotting with Seaborn"
   ]
  },
  {
   "cell_type": "code",
   "execution_count": null,
   "metadata": {},
   "outputs": [],
   "source": [
    "# Scatter plot with regression line using Seaborn\n",
    "tips = sns.load_dataset(\"tips\")\n",
    "sns.regplot(x=\"total_bill\", y=\"tip\", data=tips)\n",
    "plt.title('Relationship between Total Bill and Tip', fontsize=16)\n",
    "plt.show()"
   ]
  },
  {
   "cell_type": "markdown",
   "metadata": {},
   "source": [
    "# Advanced Pandas Topics"
   ]
  },
  {
   "cell_type": "code",
   "execution_count": null,
   "metadata": {},
   "outputs": [],
   "source": [
    "import pandas as pd\n",
    "import numpy as np"
   ]
  },
  {
   "cell_type": "markdown",
   "metadata": {},
   "source": [
    "## Hierarchical Indexing"
   ]
  },
  {
   "cell_type": "code",
   "execution_count": null,
   "metadata": {},
   "outputs": [],
   "source": [
    "# Create a multi-index DataFrame\n",
    "data = np.random.randn(4, 2)\n",
    "columns = pd.MultiIndex.from_product([['A', 'B'], ['X', 'Y']], names=['Level1', 'Level2'])\n",
    "df = pd.DataFrame(data, columns=columns)\n",
    "\n",
    "print(\"Multi-Index DataFrame:\")\n",
    "print(df)\n",
    "\n",
    "# Select data using hierarchical indexing\n",
    "print(\"\\nSelect data from 'A' level1 columns:\")\n",
    "print(df['A'])"
   ]
  },
  {
   "cell_type": "markdown",
   "metadata": {},
   "source": [
    "## Working with Large Datasets"
   ]
  },
  {
   "cell_type": "code",
   "execution_count": null,
   "metadata": {},
   "outputs": [],
   "source": [
    "# Create a large DataFrame\n",
    "large_df = pd.DataFrame(np.random.randn(1000000, 4), columns=['A', 'B', 'C', 'D'])\n",
    "\n",
    "# Chunking data for processing\n",
    "chunk_size = 100000\n",
    "for chunk in range(0, len(large_df), chunk_size):\n",
    "    data_chunk = large_df.iloc[chunk:chunk+chunk_size]\n",
    "    # Process the data chunk here\n",
    "    print(f\"Processing chunk from {chunk} to {chunk+chunk_size}\")"
   ]
  },
  {
   "cell_type": "markdown",
   "metadata": {},
   "source": [
    "## Categoricals and Data Types"
   ]
  },
  {
   "cell_type": "code",
   "execution_count": null,
   "metadata": {},
   "outputs": [],
   "source": [
    "# Create a DataFrame with categorical data\n",
    "data = {'Name': ['Alice', 'Bob', 'Charlie', 'Alice', 'Bob'],\n",
    "        'Age': [25, 30, 35, 25, 30],\n",
    "        'City': ['New York', 'Los Angeles', 'Chicago', 'New York', 'Los Angeles']}\n",
    "df = pd.DataFrame(data)\n",
    "\n",
    "# Convert a column to categorical data type\n",
    "df['City'] = df['City'].astype('category')\n",
    "\n",
    "print(\"DataFrame with categorical data:\")\n",
    "print(df)\n",
    "print(\"\\nData types:\")\n",
    "print(df.dtypes)"
   ]
  },
  {
   "cell_type": "markdown",
   "metadata": {},
   "source": [
    "## Advanced Indexing and Selection Techniques"
   ]
  },
  {
   "cell_type": "code",
   "execution_count": null,
   "metadata": {},
   "outputs": [],
   "source": [
    "# Create a sample DataFrame\n",
    "data = {'Name': ['Alice', 'Bob', 'Charlie', 'David', 'Eve'],\n",
    "        'Age': [25, 30, 35, 40, 45],\n",
    "        'City': ['New York', 'Los Angeles', 'Chicago', 'Houston', 'San Francisco']}\n",
    "df = pd.DataFrame(data)\n",
    "\n",
    "# Select rows based on a condition\n",
    "print(\"Rows where Age > 30:\")\n",
    "print(df[df['Age'] > 30])\n",
    "\n",
    "# Select rows using .isin()\n",
    "print(\"\\nRows where City is New York or Chicago:\")\n",
    "print(df[df['City'].isin(['New York', 'Chicago'])])"
   ]
  },
  {
   "cell_type": "markdown",
   "metadata": {},
   "source": [
    "## Styling and Formatting Data for Reports"
   ]
  },
  {
   "cell_type": "code",
   "execution_count": null,
   "metadata": {},
   "outputs": [],
   "source": [
    "# Create a sample DataFrame\n",
    "data = {'Name': ['Alice', 'Bob', 'Charlie', 'David', 'Eve'],\n",
    "        'Age': [25, 30, 35, 40, 45],\n",
    "        'City': ['New York', 'Los Angeles', 'Chicago', 'Houston', 'San Francisco'],\n",
    "        'Score': [85, 92, 78, 88, 95]}\n",
    "df = pd.DataFrame(data)\n",
    "\n",
    "# Style the DataFrame with conditional formatting\n",
    "styled_df = df.style.apply(lambda x: ['background-color: lightgreen' if v > 90 else '' for v in x], subset=['Score'])\n",
    "\n",
    "# Format numeric columns\n",
    "styled_df = styled_df.format({'Age': '{:,.0f}', 'Score': '{:,.2f}'})\n",
    "\n",
    "# Display the styled DataFrame\n",
    "styled_df"
   ]
  },
{
   "cell_type": "markdown",
   "metadata": {},
   "source": [
    "# Pandas and Machine Learning"
   ]
  },
  {
   "cell_type": "code",
   "execution_count": null,
   "metadata": {},
   "outputs": [],
   "source": [
    "import pandas as pd\n",
    "from sklearn.datasets import load_boston\n",
    "from sklearn.model_selection import train_test_split\n",
    "from sklearn.linear_model import LinearRegression"
   ]
  },
  {
   "cell_type": "markdown",
   "metadata": {},
   "source": [
    "## Preparing Data for Machine Learning Tasks"
   ]
  },
  {
   "cell_type": "code",
   "execution_count": null,
   "metadata": {},
   "outputs": [],
   "source": [
    "# Load the Boston Housing dataset\n",
    "boston = load_boston()\n",
    "data = pd.DataFrame(boston.data, columns=boston.feature_names)\n",
    "data['MEDV'] = boston.target\n",
    "\n",
    "# Split the data into features and target\n",
    "X = data.drop('MEDV', axis=1)\n",
    "y = data['MEDV']\n",
    "\n",
    "# Split the data into training and testing sets\n",
    "X_train, X_test, y_train, y_test = train_test_split(X, y, test_size=0.2, random_state=42)\n",
    "\n",
    "print(f\"Training Features Shape: {X_train.shape}\")\n",
    "print(f\"Training Target Shape: {y_train.shape}\")\n",
    "print(f\"Testing Features Shape: {X_test.shape}\")\n",
    "print(f\"Testing Target Shape: {y_test.shape}\")"
   ]
  },
  {
   "cell_type": "markdown",
   "metadata": {},
   "source": [
    "## Feature Engineering with Pandas"
   ]
  },
  {
   "cell_type": "code",
   "execution_count": null,
   "metadata": {},
   "outputs": [],
   "source": [
    "# Create a new feature\n",
    "data['LIVING_AREA'] = data['RM'] * data['DIS']\n",
    "\n",
    "# One-hot encoding categorical features\n",
    "categorical_cols = ['RAD']\n",
    "data = pd.get_dummies(data, columns=categorical_cols)\n",
    "\n",
    "# Split the data into features and target again\n",
    "X = data.drop('MEDV', axis=1)\n",
    "y = data['MEDV']\n",
    "\n",
    "print(\"Updated Features:\\n\", X.columns)"
   ]
  },
  {
   "cell_type": "markdown",
   "metadata": {},
   "source": [
    "## Integrating Pandas with Scikit-Learn"
   ]
  },
  {
   "cell_type": "code",
   "execution_count": null,
   "metadata": {},
   "outputs": [],
   "source": [
    "# Train a linear regression model\n",
    "model = LinearRegression()\n",
    "model.fit(X_train, y_train)\n",
    "\n",
    "# Evaluate the model on the test set\n",
    "score = model.score(X_test, y_test)\n",
    "print(f\"Model Score: {score:.2f}\")"
   ]
  },
{
   "cell_type": "markdown",
   "metadata": {},
   "source": [
    "# Pandas Performance and Best Practices"
   ]
  },
  {
   "cell_type": "code",
   "execution_count": null,
   "metadata": {},
   "outputs": [],
   "source": [
    "import pandas as pd\n",
    "import numpy as np\n",
    "%load_ext line_profiler"
   ]
  },
  {
   "cell_type": "markdown",
   "metadata": {},
   "source": [
    "## Vectorization and Efficient Operations"
   ]
  },
  {
   "cell_type": "code",
   "execution_count": null,
   "metadata": {},
   "outputs": [],
   "source": [
    "# Create a sample DataFrame\n",
    "df = pd.DataFrame({'A': np.random.rand(1000000),\n",
    "                   'B': np.random.rand(1000000)})\n",
    "\n",
    "# Vectorized operation\n",
    "%timeit df['C'] = df['A'] * df['B']\n",
    "\n",
    "# Non-vectorized operation\n",
    "%timeit df['C'] = [a * b for a, b in zip(df['A'], df['B'])]"
   ]
  },
  {
   "cell_type": "markdown",
   "metadata": {},
   "source": [
    "## Caching and Indexing Strategies"
   ]
  },
  {
   "cell_type": "code",
   "execution_count": null,
   "metadata": {},
   "outputs": [],
   "source": [
    "# Create a large DataFrame\n",
    "large_df = pd.DataFrame(np.random.rand(1000000, 4), columns=['A', 'B', 'C', 'D'])\n",
    "\n",
    "# Cache the result of a computation\n",
    "result = large_df['A'] + large_df['B']\n",
    "\n",
    "# Set index for faster lookups\n",
    "large_df = large_df.set_index('A')"
   ]
  },
  {
   "cell_type": "markdown",
   "metadata": {},
   "source": [
    "## Profiling and Optimizing Pandas Code"
   ]
  },
  {
   "cell_type": "code",
   "execution_count": null,
   "metadata": {},
   "outputs": [],
   "source": [
    "def slow_function(df):\n",
    "    result = []\n",
    "    for i in range(len(df)):\n",
    "        row = df.iloc[i]\n",
    "        result.append(row['A'] * row['B'])\n",
    "    return result\n",
    "\n",
    "def optimized_function(df):\n",
    "    return df['A'] * df['B']\n",
    "\n",
    "df = pd.DataFrame({'A': np.random.rand(1000000),\n",
    "                   'B': np.random.rand(1000000)})\n",
    "\n",
    "%timeit slow_function(df)\n",
    "%timeit optimized_function(df)\n",
    "\n",
    "%lprun -f slow_function slow_function(df)"
   ]
  }
 ],
 "metadata": {
  "kernelspec": {
   "display_name": "Python 3",
   "language": "python",
   "name": "python3"
  },
  "language_info": {
   "codemirror_mode": {
    "name": "ipython",
    "version": 3
   },
   "file_extension": ".py",
   "mimetype": "text/x-python",
   "name": "python",
   "nbconvert_exporter": "python",
   "pygments_lexer": "ipython3",
   "version": "3.8.5"
  }
 },
 "nbformat": 4,
 "nbformat_minor": 4
}
