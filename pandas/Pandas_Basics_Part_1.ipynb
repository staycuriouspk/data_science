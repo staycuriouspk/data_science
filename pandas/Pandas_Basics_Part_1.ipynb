{
 "cells": [
  {
   "cell_type": "markdown",
   "metadata": {},
   "source": [
    "# Introduction to pandas"
   ]
  },
  {
   "cell_type": "markdown",
   "metadata": {},
   "source": [
    "## What is pandas?\n",
    "\n",
    "Pandas is a popular open-source Python library for data manipulation and analysis. It provides powerful data structures and data analysis tools built on top of NumPy, a library for scientific computing in Python. Pandas was created by Wes McKinney in 2008 and is widely used in various fields, including finance, economics, statistics, and data science.\n",
    "\n",
    "The name \"pandas\" is derived from the term \"panel data,\" which is a multidimensional data structure commonly used in econometrics and statistics. However, the library is not limited to panel data and can handle a wide range of data structures and formats."
   ]
  },
  {
   "cell_type": "markdown",
   "metadata": {},
   "source": [
    "## Why use pandas?\n",
    "\n",
    "Pandas provides several advantages for working with structured (tabular, multidimensional, potentially heterogeneous) and time series data:\n",
    "\n",
    "1. **Easy to use**: Pandas has a clean and intuitive syntax for data manipulation and analysis, making it accessible to both novice and experienced users.\n",
    "\n",
    "2. **High-performance**: Pandas is built on top of NumPy, which is highly optimized for numerical operations. This makes pandas efficient for working with large datasets.\n",
    "\n",
    "3. **Powerful data structures**: Pandas provides two main data structures: Series (1D labeled homogeneous array) and DataFrame (2D labeled data structure with columns of potentially different types). These data structures make it easy to work with structured data.\n",
    "\n",
    "4. **Data cleaning and preprocessing**: Pandas offers a wide range of functions and methods for data cleaning, preprocessing, merging, reshaping, and handling missing data.\n",
    "\n",
    "5. **Data analysis and visualization**: Pandas integrates well with other libraries like Matplotlib, Seaborn, and Plotly for data visualization. It also supports advanced statistical and analytical operations.\n",
    "\n",
    "6. **Interoperability**: Pandas can read and write data in various formats, such as CSV, Excel, SQL databases, and more, making it easy to work with data from different sources.\n",
    "\n",
    "7. **Time series analysis**: Pandas has strong support for working with time series data, including handling dates and time zones, resampling, and time-based operations.\n",
    "\n",
    "These features make pandas a powerful and versatile library for data manipulation, analysis, and exploration, making it a go-to choice for data scientists, analysts, and researchers."
   ]
  },
  {
   "cell_type": "markdown",
   "metadata": {},
   "source": [
    "## Importing pandas and other necessary libraries"
   ]
  },
  {
   "cell_type": "code",
   "execution_count": 1,
   "metadata": {},
   "outputs": [],
   "source": [
    "import pandas as pd\n",
    "import numpy as np"
   ]
  },
  {
   "cell_type": "markdown",
   "metadata": {},
   "source": [
    "In this notebook, we import the pandas library and assign it the conventional alias `pd`. We also import the NumPy library, which is commonly used alongside pandas for numerical operations."
   ]
  },
  {
   "cell_type": "markdown",
   "metadata": {},
   "source": [
    "# pandas Data Structures"
   ]
  },
  {
   "cell_type": "markdown",
   "metadata": {},
   "source": [
    "Pandas provides two main data structures: Series and DataFrame. These data structures are designed to handle structured data efficiently and provide powerful tools for data manipulation and analysis."
   ]
  },
  {
   "cell_type": "markdown",
   "metadata": {},
   "source": [
    "## Series (1D labeled homogeneous array)"
   ]
  },
  {
   "cell_type": "markdown",
   "metadata": {},
   "source": [
    "A Series is a one-dimensional labeled array that can hold any data type. It is similar to a column in a spreadsheet or a SQL table, where each entry has a corresponding label (index). A Series can be created from a list, a NumPy array, a dictionary, or a scalar value."
   ]
  },
  {
   "cell_type": "code",
   "execution_count": 2,
   "metadata": {},
   "outputs": [
    {
     "name": "stdout",
     "output_type": "stream",
     "text": [
      "0    1\n",
      "1    2\n",
      "2    3\n",
      "3    4\n",
      "dtype: int64\n"
     ]
    }
   ],
   "source": [
    "# Creating a Series from a list\n",
    "data = [1, 2, 3, 4]\n",
    "series = pd.Series(data)\n",
    "print(series)"
   ]
  },
  {
   "cell_type": "markdown",
   "metadata": {},
   "source": [
    "In this example, we create a Series from a list of integers. The Series has default integer indices (0, 1, 2, 3) assigned automatically. You can access individual elements of a Series using their index or label.\n",
    "\n",
    "Series can also be created from dictionaries, where the keys become the labels, and the values become the data:"
   ]
  },
  {
   "cell_type": "code",
   "execution_count": 3,
   "metadata": {},
   "outputs": [
    {
     "name": "stdout",
     "output_type": "stream",
     "text": [
      "a    10\n",
      "b    20\n",
      "c    30\n",
      "dtype: int64\n"
     ]
    }
   ],
   "source": [
    "# Creating a Series from a dictionary\n",
    "data = {'a': 10, 'b': 20, 'c': 30}\n",
    "series = pd.Series(data)\n",
    "print(series)"
   ]
  },
  {
   "cell_type": "markdown",
   "metadata": {},
   "source": [
    "Series are useful for representing and manipulating one-dimensional data, such as a list of values or a column from a table."
   ]
  },
  {
   "cell_type": "markdown",
   "metadata": {},
   "source": [
    "## DataFrame (2D labeled data structure with columns of potentially different types)"
   ]
  },
  {
   "cell_type": "markdown",
   "metadata": {},
   "source": [
    "A DataFrame is a two-dimensional labeled data structure, similar to a spreadsheet or a SQL table. It is a collection of Series objects, where each Series represents a column, and each row represents a unique entry with a label (index)."
   ]
  },
  {
   "cell_type": "code",
   "execution_count": 4,
   "metadata": {},
   "outputs": [
    {
     "name": "stdout",
     "output_type": "stream",
     "text": [
      "   Name  Age    City\n",
      "0  John   25  New York\n",
      "1  Emily   32   London\n",
      "2  Michael   38   Paris\n",
      "3  Sarah   27   Berlin\n"
     ]
    }
   ],
   "source": [
    "# Creating a DataFrame from a dictionary of lists\n",
    "data = {'Name': ['John', 'Emily', 'Michael', 'Sarah'],\n",
    "        'Age': [25, 32, 38, 27],\n",
    "        '
