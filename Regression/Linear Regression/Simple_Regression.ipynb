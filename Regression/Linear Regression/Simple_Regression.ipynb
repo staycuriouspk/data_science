{
 "cells": [
  {
   "cell_type": "markdown",
   "metadata": {},
   "source": [
    "# Introduction to Linear Regression\n",
    "\n",
    "Linear regression is a basic and commonly used type of predictive analysis. It establishes a linear relationship between a dependent variable (Y) and one or more independent variables (X)"
   ]
  },
  {
   "cell_type": "markdown",
   "metadata": {},
   "source": [
    "## Key Concepts\n",
    "- **Dependent Variable (Y)**: The variable we are trying to predict or explain.\n",
    "- **Independent Variable (X)**: The variable we use to make predictions.\n",
    "- **Data Points**: Each individual pair of X and Y values.\n",
    "- **Regression Line**: The line that best fits all the data points.\n",
    "- **Slope**: The rate at which Y changes with respect to X.\n",
    "- **Intercept**: The value of Y when X is 0.\n",
    "- **Random Error**: The difference between the observed value and the value predicted by the model."
   ]
  },
  {
   "cell_type": "markdown",
   "metadata": {},
   "source": [
    "## How Does It Work?\n",
    "\n",
    "The goal of linear regression is to find the best-fitting straight line through the data points. This line can be used to predict values of Y based on X. The line is defined by the equation:\n",
    "\n",
    "**Y = a + bX**\n",
    "\n",
    "Where:\n",
    "\n",
    "- **Y** is the predicted value of the dependent variable (what we want to find out).\n",
    "- **X** is the independent variable (the input).\n",
    "- **a** is the intercept of the line (where the line crosses the Y-axis).\n",
    "- **b** is the slope of the line (how much Y changes with each unit change in X).\n"
   ]
  },
  {
   "cell_type": "markdown",
   "metadata": {},
   "source": [
    "### a and b can be computed by the following formulas:"
   ]
  },
  {
   "cell_type": "markdown",
   "metadata": {},
   "source": [
    "![Alt Text](formula.png)"
   ]
  },
  {
   "cell_type": "markdown",
   "metadata": {},
   "source": [
    "### Regression\n",
    "\n",
    "![Alt Text](Regression.png)"
   ]
  },
  {
   "cell_type": "markdown",
   "metadata": {},
   "source": [
    "## Example: Predicting House Prices,\n",
    "Let's create a simple example to predict house prices based on the number of rooms"
   ]
  },
  {
   "cell_type": "code",
   "execution_count": null,
   "metadata": {},
   "outputs": [],
   "source": [
    "!pip install scikit-learn"
   ]
  },
  {
   "cell_type": "code",
   "execution_count": null,
   "metadata": {},
   "outputs": [],
   "source": [
    "# Import necessary libraries\n",
    "import pandas as pd\n",
    "import numpy as np\n",
    "import matplotlib.pyplot as plt"
   ]
  },
  {
   "cell_type": "code",
   "execution_count": null,
   "metadata": {},
   "outputs": [],
   "source": [
    "df = pd.read_csv(\"Bengaluru_House_Data.csv\")\n",
    "print(df.head())"
   ]
  },
  {
   "cell_type": "code",
   "execution_count": null,
   "metadata": {},
   "outputs": [],
   "source": [
    "# Plotting the data\n",
    "plt.figure(figsize=(10, 6))\n",
    "plt.scatter(df['total_sqft'], df['price'], color='blue')\n",
    "plt.title('House Prices vs. Total Square Feet')\n",
    "plt.xlabel('Total Square Feet')\n",
    "plt.ylabel('House Price(In Lakhs)')\n",
    "plt.show()"
   ]
  },
  {
   "cell_type": "markdown",
   "metadata": {},
   "source": [
    "In the above plot:\n",
    "- **X-axis**:Total Square Feet (Independent Variable)\n",
    "- **Y-axis**: House Price (Dependent Variable)\n",
    "\n",
    "The blue dots represent our data points."
   ]
  },
  {
   "cell_type": "markdown",
   "metadata": {},
   "source": [
    "## Building the Regression Model\n",
    "Now, let's build a linear regression model to predict house prices based on the number of rooms."
   ]
  },
  {
   "cell_type": "code",
   "execution_count": null,
   "metadata": {},
   "outputs": [],
   "source": [
    "from sklearn.linear_model import LinearRegression\n",
    "from sklearn.model_selection import train_test_split\n",
    "\n",
    "X = df[['total_sqft']]\n",
    "y = df[['price']]\n",
    "\n",
    "# Split the data into training and testing sets\n",
    "X_train, X_test, y_train, y_test = train_test_split(X, y, test_size=0.2, random_state=42)\n",
    "\n",
    "# Create and train the linear regression model\n",
    "model = LinearRegression()\n",
    "model.fit(X_train, y_train)"
   ]
  },
  {
   "cell_type": "code",
   "execution_count": null,
   "metadata": {},
   "outputs": [],
   "source": [
    "# Get the model parameters\n",
    "slope = model.coef_\n",
    "intercept = model.intercept_\n",
    "\n",
    "# Print the slope and intercept\n",
    "print(f\"Slope: {slope}\")\n",
    "print(f\"Intercept: {intercept}\")"
   ]
  },
  {
   "cell_type": "markdown",
   "metadata": {},
   "source": [
    "The `LinearRegression` model in `scikit-learn` computes the best-fitting line for our data by minimizing the sum of squared differences between the observed values (actual house prices) and the predicted values (values on the regression line). The `slope` represents how much the house price changes for each additional room, and the `intercept` is the predicted house price when the number of rooms is zero."
   ]
  },
  {
   "cell_type": "markdown",
   "metadata": {},
   "source": [
    "## Making Predictions\n",
    "Let's use our trained model to make predictions."
   ]
  },
  {
   "cell_type": "code",
   "execution_count": null,
   "metadata": {},
   "outputs": [],
   "source": [
    "# Make predictions on the training set\n",
    "y_train_pred = model.predict(X_train)\n",
    "\n",
    "# Make predictions on the test set\n",
    "y_test_pred = model.predict(X_test)"
   ]
  },
  {
   "cell_type": "code",
   "execution_count": null,
   "metadata": {},
   "outputs": [],
   "source": [
    "# Plotting the data points and the regression line\n",
    "plt.figure(figsize=(10, 6))\n",
    "\n",
    "# Plot training data points\n",
    "plt.scatter(X_train, y_train, color='blue', label='Training data points')\n",
    "plt.scatter(X_test, y_test, color='green', label='Test data points')\n",
    "plt.plot(X_train, y_train_pred, color='red', linewidth=2, label='Regression line (Train)')\n",
    "\n",
    "# Add labels, title, and legend\n",
    "plt.title('House Prices vs. Total Square Feet')\n",
    "plt.xlabel('Total Square Feet')\n",
    "plt.ylabel('Price')\n",
    "plt.legend()\n",
    "plt.show()"
   ]
  },
  {
   "cell_type": "markdown",
   "metadata": {},
   "source": [
    "The red line in the plot above is the regression line. It represents the best-fit line that minimizes the distance between the observed data points (blue dots) and the predicted values (red line)."
   ]
  },
  {
   "cell_type": "markdown",
   "metadata": {},
   "source": [
    "## Evaluating the Model\n",
    "We can evaluate how well our model fits the data using metrics like Mean Squared Error (MSE) and R-squared (R²)."
   ]
  },
  {
   "cell_type": "code",
   "execution_count": null,
   "metadata": {},
   "outputs": [],
   "source": [
    "from sklearn.metrics import mean_squared_error, r2_score\n",
    "# Calculate and print the mean squared error and R^2 score\n",
    "mse_train = mean_squared_error(y_train, y_train_pred)\n",
    "r2_train = r2_score(y_train, y_train_pred)\n",
    "mse_test = mean_squared_error(y_test, y_test_pred)\n",
    "r2_test = r2_score(y_test, y_test_pred)\n",
    "\n",
    "print(f\"Training set Mean Squared Error: {mse_train}\")\n",
    "print(f\"Training set R^2 Score: {r2_train}\")\n",
    "print(f\"Test set Mean Squared Error: {mse_test}\")\n",
    "print(f\"Test set R^2 Score: {r2_test}\")"
   ]
  },
  {
   "cell_type": "markdown",
   "metadata": {},
   "source": [
    "The Mean Squared Error (MSE) measures the average squared difference between the observed values and the predicted values. A lower MSE indicates a better fit.\n",
    "\n",
    "The R-squared (R²) score is a statistical measure that represents the proportion of the variance for a dependent variable that's explained by an independent variable or variables in a regression model. It ranges from 0 to 1, where 1 indicates a perfect fit."
   ]
  },
  {
   "cell_type": "code",
   "execution_count": null,
   "metadata": {},
   "outputs": [],
   "source": [
    "def predict_price(total_sqft):\n",
    "    # Ensure the input is a DataFrame with the correct feature name\n",
    "    total_sqft_df = pd.DataFrame({'total_sqft': [total_sqft]})\n",
    "\n",
    "    predicted_price = model.predict(total_sqft_df)\n",
    "    return predicted_price[0][0]"
   ]
  },
  {
   "cell_type": "code",
   "execution_count": null,
   "metadata": {},
   "outputs": [],
   "source": [
    "print(predict_price(500))"
   ]
  },
  {
   "cell_type": "markdown",
   "metadata": {},
   "source": [
    "## Summary\n",
    "In this notebook, we:\n",
    "- Explained the key concepts of simple linear regression\n",
    "- Used a simple example to demonstrate simple linear regression\n",
    "- Built a simple linear regression model\n",
    "- Made predictions using the model\n",
    "- Visualized the regression line\n",
    "- Evaluated the model's performance using MSE and R-squared\n",
    "\n",
    "This completes our introduction to simple linear regression."
   ]
  }
 ],
 "metadata": {
  "kernelspec": {
   "display_name": "Python 3 (ipykernel)",
   "language": "python",
   "name": "python3"
  },
  "language_info": {
   "codemirror_mode": {
    "name": "ipython",
    "version": 3
   },
   "file_extension": ".py",
   "mimetype": "text/x-python",
   "name": "python",
   "nbconvert_exporter": "python",
   "pygments_lexer": "ipython3",
   "version": "3.12.3"
  }
 },
 "nbformat": 4,
 "nbformat_minor": 4
}
