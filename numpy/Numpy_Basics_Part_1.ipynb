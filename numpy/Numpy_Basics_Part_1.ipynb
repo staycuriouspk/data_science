{
 "cells": [
  {
   "cell_type": "markdown",
   "metadata": {},
   "source": [
    "# Array Creation"
   ]
  },
  {
   "cell_type": "code",
   "execution_count": 1,
   "metadata": {},
   "outputs": [
    {
     "name": "stdout",
     "output_type": "stream",
     "text": [
      "1D array from list: [1 2 3 4 5]\n",
      "\n",
      "2D array from list of lists:\n",
      " [[1 2 3]\n",
      " [4 5 6]]\n",
      "\n",
      "Array of zeros:\n",
      " [[0. 0. 0. 0.]\n",
      " [0. 0. 0. 0.]\n",
      " [0. 0. 0. 0.]]\n",
      "\n",
      "Array of ones:\n",
      " [[1. 1. 1.]\n",
      " [1. 1. 1.]]\n",
      "\n",
      "Array with a range of values:\n",
      " [0 1 2 3 4 5 6 7 8 9]\n",
      "\n",
      "Array with evenly spaced values:\n",
      " [ 0.          2.5         5.          7.5         10.        ]\n"
     ]
    }
   ],
   "source": [
    "import numpy as np\n",
    "\n",
    "# 1D array from list\n",
    "a = np.array([1, 2, 3, 4, 5])\n",
    "print(\"1D array from list:\", a)\n",
    "\n",
    "# 2D array from list of lists\n",
    "b = np.array([[1, 2, 3], [4, 5, 6]])\n",
    "print(\"\\n2D array from list of lists:\\n\", b)\n",
    "\n",
    "# Create an array of zeros\n",
    "zeros = np.zeros((3, 4))\n",
    "print(\"\\nArray of zeros:\\n\", zeros)\n",
    "\n",
    "# Create an array of ones\n",
    "ones = np.ones((2, 3))\n",
    "print(\"\\nArray of ones:\\n\", ones)\n",
    "\n",
    "# Create an array with a range of values\n",
    "range_array = np.arange(10)\n",
    "print(\"\\nArray with a range of values:\\n\", range_array)\n",
    "\n",
    "# Create an array with evenly spaced values\n",
    "linspace_array = np.linspace(0, 10, 5)\n",
    "print(\"\\nArray with evenly spaced values:\\n\", linspace_array)"
   ]
  },
  {
   "cell_type": "markdown",
   "metadata": {},
   "source": [
    "# Array Manipulation"
   ]
  },
  {
   "cell_type": "code",
   "execution_count": 2,
   "metadata": {},
   "outputs": [
    {
     "name": "stdout",
     "output_type": "stream",
     "text": [
      "\n",
      "Reshaped 1D array to 2D:\n",
      " [[1]\n",
      " [2]\n",
      " [3]\n",
      " [4]\n",
      " [5]]\n",
      "\n",
      "First row of 2D array:\n",
      " [1 2 3]\n",
      "\n",
      "Second column of 2D array:\n",
      " [2 5]\n",
      "\n",
      "Transposed 2D array:\n",
      " [[1 4]\n",
      " [2 5]\n",
      " [3 6]]\n",
      "\n",
      "Concatenated arrays:\n",
      " [[1 2 3]\n",
      " [4 5 6]\n",
      " [7 8 9]]\n"
     ]
    }
   ],
   "source": [
    "# Reshaping arrays\n",
    "reshaped = a.reshape(5, 1)\n",
    "print(\"\\nReshaped 1D array to 2D:\\n\", reshaped)\n",
    "\n",
    "# Slicing and indexing\n",
    "print(\"\\nFirst row of 2D array:\\n\", b[0, :])\n",
    "print(\"\\nSecond column of 2D array:\\n\", b[:, 1])\n",
    "\n",
    "# Transposing arrays\n",
    "transposed = b.T\n",
    "print(\"\\nTransposed 2D array:\\n\", transposed)\n",
    "\n",
    "# Concatenating arrays\n",
    "c = np.array([[7, 8, 9]])\n",
    "concatenated = np.concatenate((b, c), axis=0)\n",
    "print(\"\\nConcatenated arrays:\\n\", concatenated)"
   ]
  },
  {
   "cell_type": "markdown",
   "metadata": {},
   "source": [
    "# Mathematical Operations"
   ]
  },
  {
   "cell_type": "code",
   "execution_count": 3,
   "metadata": {},
   "outputs": [
    {
     "name": "stdout",
     "output_type": "stream",
     "text": [
      "\n",
      "Squared values of 1D array:\n",
      " [ 1  4  9 16 25]\n",
      "\n",
      "Matrix multiplication:\n",
      " [[19 22]\n",
      " [43 50]]\n",
      "\n",
      "Sine values:\n",
      " [ 0.00000000e+00  6.12323400e-17  8.66025404e-01  1.00000000e+00\n",
      "  3.09016994e-01]\n",
      "\n",
      "Mean value: 3.5\n",
      "Max value: 6\n",
      "Min value: 1\n"
     ]
    }
   ],
   "source": [
    "# Element-wise operations\n",
    "squared = a ** 2\n",
    "print(\"\\nSquared values of 1D array:\\n\", squared)\n",
    "\n",
    "# Matrix multiplication\n",
    "matrix1 = np.array([[1, 2], [3, 4]])\n",
    "matrix2 = np.array([[5, 6], [7, 8]])\n",
    "product = np.dot(matrix1, matrix2)\n",
    "print(\"\\nMatrix multiplication:\\n\", product)\n",
    "\n",
    "# Trigonometric functions\n",
    "angles = np.linspace(0, 2 * np.pi, 5)\n",
    "sines = np.sin(angles)\n",
    "print(\"\\nSine values:\\n\", sines)\n",
    "\n",
    "# Statistical functions\n",
    "stats = np.array([[1, 2, 3], [4, 5, 6]])\n",
    "mean_val = np.mean(stats)\n",
    "max_val = np.max(stats)\n",
    "min_val = np.min(stats)\n",
    "print(\"\\nMean value:\", mean_val)\n",
    "print(\"Max
