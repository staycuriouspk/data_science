{
 "cells": [
  {
   "cell_type": "markdown",
   "metadata": {},
   "source": [
    "# NumPy: Array Creation, Manipulation, and Mathematical Operations"
   ]
  },
  {
   "cell_type": "code",
   "execution_count": null,
   "metadata": {},
   "outputs": [],
   "source": [
    "import numpy as np"
   ]
  },
  {
   "cell_type": "markdown",
   "metadata": {},
   "source": [
    "## Array Creation"
   ]
  },
  {
   "cell_type": "code",
   "execution_count": null,
   "metadata": {},
   "outputs": [],
   "source": [
    "# 1D array from list\n",
    "a = np.array([1, 2, 3, 4, 5])\n",
    "print(\"1D array from list:\", a)"
   ]
  },
  {
   "cell_type": "code",
   "execution_count": null,
   "metadata": {},
   "outputs": [],
   "source": [
    "# 2D array from list of lists\n",
    "b = np.array([[1, 2, 3], [4, 5, 6]])\n",
    "print(\"\\n2D array from list of lists:\\n\", b)"
   ]
  },
  {
   "cell_type": "code",
   "execution_count": null,
   "metadata": {},
   "outputs": [],
   "source": [
    "# Create an array of zeros\n",
    "zeros = np.zeros((3, 4))\n",
    "print(\"\\nArray of zeros:\\n\", zeros)"
   ]
  },
  {
   "cell_type": "code",
   "execution_count": null,
   "metadata": {},
   "outputs": [],
   "source": [
    "# Create an array of ones\n",
    "ones = np.ones((2, 3))\n",
    "print(\"\\nArray of ones:\\n\", ones)"
   ]
  },
  {
   "cell_type": "code",
   "execution_count": null,
   "metadata": {},
   "outputs": [],
   "source": [
    "# Create an array with a range of values\n",
    "range_array = np.arange(10)\n",
    "print(\"\\nArray with a range of values:\\n\", range_array)"
   ]
  },
  {
   "cell_type": "code",
   "execution_count": null,
   "metadata": {},
   "outputs": [],
   "source": [
    "# Create an array with evenly spaced values\n",
    "linspace_array = np.linspace(0, 10, 5)\n",
    "print(\"\\nArray with evenly spaced values:\\n\", linspace_array)"
   ]
  },
  {
   "cell_type": "markdown",
   "metadata": {},
   "source": [
    "## Array Manipulation"
   ]
  },
  {
   "cell_type": "code",
   "execution_count": null,
   "metadata": {},
   "outputs": [],
   "source": [
    "# Reshaping arrays\n",
    "reshaped = a.reshape(5, 1)\n",
    "print(\"\\nReshaped 1D array to 2D:\\n\", reshaped)"
   ]
  },
  {
   "cell_type": "code",
   "execution_count": null,
   "metadata": {},
   "outputs": [],
   "source": [
    "# Slicing and indexing\n",
    "print(\"\\nFirst row of 2D array:\\n\", b[0, :])\n",
    "print(\"\\nSecond column of 2D array:\\n\", b[:, 1])"
   ]
  },
  {
   "cell_type": "code",
   "execution_count": null,
   "metadata": {},
   "outputs": [],
   "source": [
    "# Transposing arrays\n",
    "transposed = b.T\n",
    "print(\"\\nTransposed 2D array:\\n\", transposed)"
   ]
  },
  {
   "cell_type": "code",
   "execution_count": null,
   "metadata": {},
   "outputs": [],
   "source": [
    "# Concatenating arrays\n",
    "c = np.array([[7, 8, 9]])\n",
    "concatenated = np.concatenate((b, c), axis=0)\n",
    "print(\"\\nConcatenated arrays:\\n\", concatenated)"
   ]
  },
  {
   "cell_type": "markdown",
   "metadata": {},
   "source": [
    "## Mathematical Operations"
   ]
  },
  {
   "cell_type": "code",
   "execution_count": null,
   "metadata": {},
   "outputs": [],
   "source": [
    "# Element-wise operations\n",
    "squared = a ** 2\n",
    "print(\"\\nSquared values of 1D array:\\n\", squared)"
   ]
  },
  {
   "cell_type": "code",
   "execution_count": null,
   "metadata": {},
   "outputs": [],
   "source": [
    "# Matrix multiplication\n",
    "matrix1 = np.array([[1, 2], [3, 4]])\n",
    "matrix2 = np.array([[5, 6], [7, 8]])\n",
    "product = np.dot(matrix1, matrix2)\n",
    "print(\"\\nMatrix multiplication:\\n\", product)"
   ]
  },
  {
   "cell_type": "code",
   "execution_count": null,
   "metadata": {},
   "outputs": [],
   "source": [
    "# Trigonometric functions\n",
    "angles = np.linspace(0, 2 * np.pi, 5)\n",
    "sines = np.sin(angles)\n",
    "print(\"\\nSine values:\\n\", sines)"
   ]
  },
  {
   "cell_type": "code",
   "execution_count": null,
   "metadata": {},
   "outputs": [],
   "source": [
    "# Statistical functions\n",
    "stats = np.array([[1, 2, 3], [4, 5, 6]])\n",
    "mean_val = np.mean(stats)\n",
    "max_val = np.max(stats)\n",
    "min_val = np.min(stats)\n",
    "print(\"\\nMean value:\", mean_val)\n",
    "print(\"Max value:\", max_val)\n",
    "print(\"Min value:\", min_val)"
   ]
  }
 ],
 "metadata": {
  "kernelspec": {
   "display_name": "Python 3",
   "language": "python",
   "name": "python3"
  },
  "language_info": {
   "codemirror_mode": {
    "name": "ipython",
    "version": 3
   },
   "file_extension": ".py",
   "mimetype": "text/x-python",
   "name": "python",
   "nbconvert_exporter": "python",
   "pygments_lexer": "ipython3",
   "version": "3.7.6"
  }
 },
 "nbformat": 4,
 "nbformat_minor": 4
}
