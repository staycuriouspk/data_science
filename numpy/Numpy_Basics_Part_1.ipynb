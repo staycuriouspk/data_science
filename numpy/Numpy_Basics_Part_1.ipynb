import numpy as np

# Array Creation
print("Array Creation")
print("===============")

# 1D array from list
a = np.array([1, 2, 3, 4, 5])
print("1D array from list:", a)

# 2D array from list of lists
b = np.array([[1, 2, 3], [4, 5, 6]])
print("\n2D array from list of lists:\n", b)

# Create an array of zeros
zeros = np.zeros((3, 4))
print("\nArray of zeros:\n", zeros)

# Create an array of ones
ones = np.ones((2, 3))
print("\nArray of ones:\n", ones)

# Create an array with a range of values
range_array = np.arange(10)
print("\nArray with a range of values:\n", range_array)

# Create an array with evenly spaced values
linspace_array = np.linspace(0, 10, 5)
print("\nArray with evenly spaced values:\n", linspace_array)

print("\nArray Manipulation")
print("==================")

# Reshaping arrays
reshaped = a.reshape(5, 1)
print("\nReshaped 1D array to 2D:\n", reshaped)

# Slicing and indexing
print("\nFirst row of 2D array:\n", b[0, :])
print("\nSecond column of 2D array:\n", b[:, 1])

# Transposing arrays
transposed = b.T
print("\nTransposed 2D array:\n", transposed)

# Concatenating arrays
c = np.array([[7, 8, 9]])
concatenated = np.concatenate((b, c), axis=0)
print("\nConcatenated arrays:\n", concatenated)

print("\nMathematical Operations")
print("=======================")

# Element-wise operations
squared = a ** 2
print("\nSquared values of 1D array:\n", squared)

# Matrix multiplication
matrix1 = np.array([[1, 2], [3, 4]])
matrix2 = np.array([[5, 6], [7, 8]])
product = np.dot(matrix1, matrix2)
print("\nMatrix multiplication:\n", product)

# Trigonometric functions
angles = np.linspace(0, 2 * np.pi, 5)
sines = np.sin(angles)
print("\nSine values:\n", sines)

# Statistical functions
stats = np.array([[1, 2, 3], [4, 5, 6]])
mean_val = np.mean(stats)
max_val = np.max(stats)
min_val = np.min(stats)
print("\nMean value:", mean_val)
print("Max value:", max_val)
print("Min value:", min_val)
