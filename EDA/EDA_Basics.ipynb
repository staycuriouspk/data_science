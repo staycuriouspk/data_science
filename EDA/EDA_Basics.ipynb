{
 "cells": [
  {
   "cell_type": "markdown",
   "id": "c76bf0fb",
   "metadata": {},
   "source": [
    "# Introduction to Data Preprocessing\n",
    "\n",
    "## Importance of Data Quality\n",
    "Data quality is crucial because the performance of machine learning models depends heavily on the quality of the data used for training. Poor quality data can lead to inaccurate models, misleading conclusions, and suboptimal decision-making. High-quality data should be accurate, complete, consistent, and relevant.\n",
    "\n",
    "Key aspects of data quality include:\n",
    "1. Accuracy: Correctness of data values.\n",
    "2. Completeness: All necessary data is present.\n",
    "3. Consistency: Data should be consistent across different sources.\n",
    "4. Relevance: Data should be relevant to the problem being solved.\n"
   ]
  },
  {
   "cell_type": "code",
   "execution_count": null,
   "id": "ff2c4f0a",
   "metadata": {},
   "outputs": [],
   "source": [
    "import pandas as pd\n",
    "import numpy as np\n",
    "import matplotlib.pyplot as plt\n",
    "import seaborn as sns"
   ]
  },
  {
   "cell_type": "markdown",
   "id": "2c65f6e1",
   "metadata": {},
   "source": [
    "## 1. Load the Spotify Tracks Dataset\n",
    "We'll use the Spotify Tracks Dataset dataset available on Kaggle. This dataset contains information about Spotify songs with different genres and their audio features\n",
    "\n",
    "Link to the dataset: [Spotify Tracks](https://www.kaggle.com/datasets/maharshipandya/-spotify-tracks-dataset?resource=download)"
   ]
  },
  {
   "cell_type": "code",
   "execution_count": null,
   "id": "6908829a",
   "metadata": {},
   "outputs": [],
   "source": [
    "# Load the Spotify Tracks Dataset\n",
    "df = pd.read_csv('spotify_songs.csv')\n",
    "\n",
    "# Display the first few rows of the dataset\n",
    "print(\"First few rows of the Spotify Tracks Dataset\")\n",
    "df.head()"
   ]
  },
  {
   "cell_type": "markdown",
   "id": "4cb552f0-8758-43c8-a0b7-2ac15d31bd8b",
   "metadata": {},
   "source": [
    "## 2. Initial Data Exploration"
   ]
  },
  {
   "cell_type": "code",
   "execution_count": null,
   "id": "58e69e95-617c-4f04-ba81-b05851588c17",
   "metadata": {},
   "outputs": [],
   "source": [
    "# Check the shape of the dataset\n",
    "df.shape"
   ]
  },
  {
   "cell_type": "code",
   "execution_count": null,
   "id": "2313a9fb-eac7-486c-9719-49901f288b6a",
   "metadata": {},
   "outputs": [],
   "source": [
    "# Check the columns in the dataset\n",
    "df.columns"
   ]
  },
  {
   "cell_type": "code",
   "execution_count": null,
   "id": "89ea002c-2e06-4a4d-9af4-785fd5f7a0f5",
   "metadata": {},
   "outputs": [],
   "source": [
    "# Check the data types of each column\n",
    "print(\"Data types of each column:\\n\", df.dtypes)"
   ]
  },
  {
   "cell_type": "code",
   "execution_count": null,
   "id": "43f87453-2cdf-4c79-baad-d1b5cf1c0ea7",
   "metadata": {},
   "outputs": [],
   "source": [
    "# Get basic information about the dataset\n",
    "df.info()"
   ]
  },
  {
   "cell_type": "code",
   "execution_count": null,
   "id": "75f1fa80-e20f-4b8f-9557-39e283ec2849",
   "metadata": {
    "scrolled": true
   },
   "outputs": [],
   "source": [
    "# Get statistical summary of the dataset\n",
    "df.describe()"
   ]
  },
  {
   "cell_type": "markdown",
   "id": "116ab90e",
   "metadata": {},
   "source": [
    "## Common Data Issues"
   ]
  },
  {
   "cell_type": "code",
   "execution_count": null,
   "id": "bb2783b0",
   "metadata": {
    "scrolled": true
   },
   "outputs": [],
   "source": [
    "# Checking for missing values\n",
    "print(\"\\nMissing values in each column:\")\n",
    "print(df.isnull().sum())"
   ]
  },
  {
   "cell_type": "code",
   "execution_count": null,
   "id": "0303551e-838b-46f9-b1b8-a5e19fdebbcf",
   "metadata": {},
   "outputs": [],
   "source": [
    "# Handle missing values (if any)\n",
    "# Assuming 'track_name' and 'artists' should not have missing values\n",
    "df.dropna(subset=['track_name', 'artists'], inplace=True)"
   ]
  },
  {
   "cell_type": "code",
   "execution_count": null,
   "id": "3e656631-08fb-4b0f-963c-3e7026801b45",
   "metadata": {},
   "outputs": [],
   "source": [
    "# Verify there are no missing values left\n",
    "df.isnull().sum()"
   ]
  },
  {
   "cell_type": "code",
   "execution_count": null,
   "id": "b79a0af6-9ee3-4585-b407-b2bdd9b1876d",
   "metadata": {},
   "outputs": [],
   "source": [
    "# Check for duplicate rows\n",
    "duplicate_rows = df.duplicated().sum()\n",
    "print(\"Number of duplicate rows:\", duplicate_rows)"
   ]
  },
  {
   "cell_type": "code",
   "execution_count": null,
   "id": "13160dc3-e3a1-44a6-b980-74d43efd499a",
   "metadata": {},
   "outputs": [],
   "source": [
    "# Drop duplicate rows\n",
    "df.drop_duplicates(inplace=True)"
   ]
  },
  {
   "cell_type": "code",
   "execution_count": null,
   "id": "2ea30e5a-bd0a-4cd8-81ec-f829b09f5cd3",
   "metadata": {},
   "outputs": [],
   "source": [
    "# Verify that duplicates are removed\n",
    "print(df.duplicated().sum())"
   ]
  },
  {
   "cell_type": "code",
   "execution_count": null,
   "id": "69194a0f-9a8e-4ba1-8a02-c42ea1e52b55",
   "metadata": {},
   "outputs": [],
   "source": [
    "# Check the shape of the cleaned dataset\n",
    "df.shape"
   ]
  },
  {
   "cell_type": "markdown",
   "id": "13055639-5aa8-4742-b91f-861bd667a695",
   "metadata": {},
   "source": [
    "## 3. Visualization"
   ]
  },
  {
   "cell_type": "code",
   "execution_count": null,
   "id": "1155c4c1",
   "metadata": {},
   "outputs": [],
   "source": [
    "# Visualize distributions of numerical features\n",
    "numerical_features = ['popularity', 'duration_ms', 'danceability', 'energy', 'loudness', 'speechiness', 'acousticness', 'instrumentalness', 'liveness', 'valence', 'tempo']\n",
    "plt.figure(figsize=(15, 10))\n",
    "for i, feature in enumerate(numerical_features, 1):\n",
    "    plt.subplot(3, 4, i)\n",
    "    sns.histplot(df[feature], kde=True)\n",
    "    plt.title(feature)\n",
    "plt.tight_layout()\n",
    "plt.show()"
   ]
  },
  {
   "cell_type": "code",
   "execution_count": null,
   "id": "2241213f-6fe8-40b2-b475-5423db78a38a",
   "metadata": {},
   "outputs": [],
   "source": [
    "# Bar plot for count of tracks per artists\n",
    "plt.figure(figsize=(12, 6))\n",
    "sns.countplot(y='artists', data=df, order=df['artists'].value_counts().index[:20], hue='artists')\n",
    "plt.title('Top 20 Artists by Number of Tracks')\n",
    "plt.xlabel('Count of Tracks')\n",
    "plt.ylabel('Artists')\n",
    "plt.tight_layout()\n",
    "plt.show()"
   ]
  },
  {
   "cell_type": "code",
   "execution_count": null,
   "id": "97500ac3-60b2-456d-a3cd-19cdf6e84bf3",
   "metadata": {
    "scrolled": true
   },
   "outputs": [],
   "source": [
    "# Bar Plot the distribution of genres\n",
    "plt.figure(figsize=(12, 6))\n",
    "sns.countplot(y='track_genre', data=df, order=df['track_genre'].value_counts().index[:25], hue='track_genre')\n",
    "plt.title('Distribution of Music Genres')\n",
    "plt.xlabel('Count')\n",
    "plt.ylabel('Genre')\n",
    "plt.tight_layout()\n",
    "plt.show()"
   ]
  },
  {
   "cell_type": "code",
   "execution_count": null,
   "id": "fba15b69-9da0-4794-8fa7-64fe19256c3d",
   "metadata": {},
   "outputs": [],
   "source": [
    "# Count Plot for 'explicit'\n",
    "plt.figure(figsize=(10, 6))\n",
    "sns.countplot(y='explicit', data=df, hue='explicit')\n",
    "plt.xlabel('Explicit')\n",
    "plt.ylabel('Count')\n",
    "plt.title('Count Plot: Explicit vs Non-explicit Tracks')\n",
    "plt.show()"
   ]
  },
  {
   "cell_type": "code",
   "execution_count": null,
   "id": "a5306505-a111-4e1a-9bba-d4e51512e208",
   "metadata": {},
   "outputs": [],
   "source": [
    "# Count Plot for 'mode'\n",
    "plt.figure(figsize=(10, 6))\n",
    "sns.countplot(x='mode', data=df, hue='mode')\n",
    "plt.xlabel('Mode (0 = Minor, 1 = Major)')\n",
    "plt.ylabel('Count')\n",
    "plt.title('Count Plot: Mode (Minor vs Major)')\n",
    "plt.show()"
   ]
  },
  {
   "cell_type": "code",
   "execution_count": null,
   "id": "6b7fce5a-bd77-43b4-aa71-7f99a22c5468",
   "metadata": {
    "scrolled": true
   },
   "outputs": [],
   "source": [
    "# Count Plot for 'key'\n",
    "plt.figure(figsize=(12, 6))\n",
    "sns.countplot(x='key', data=df, hue='key')\n",
    "plt.xlabel('Key')\n",
    "plt.ylabel('Count')\n",
    "plt.title('Count Plot: Distribution of Keys')\n",
    "plt.show()"
   ]
  },
  {
   "cell_type": "code",
   "execution_count": null,
   "id": "f88c184e-274a-478a-a49a-5989bd759413",
   "metadata": {},
   "outputs": [],
   "source": [
    "# Count Plot for 'time_signature'\n",
    "plt.figure(figsize=(10, 6))\n",
    "sns.countplot(x='time_signature', data=df, hue='time_signature')\n",
    "plt.xlabel('Time Signature')\n",
    "plt.ylabel('Count')\n",
    "plt.title('Count Plot: Distribution of Time Signatures')\n",
    "plt.show()"
   ]
  },
  {
   "cell_type": "code",
   "execution_count": null,
   "id": "6e1dba9a-17c8-4692-86c6-411431c75c15",
   "metadata": {},
   "outputs": [],
   "source": [
    "# Scatter plot between Duration and Popularity\n",
    "plt.figure(figsize=(8, 6))\n",
    "plt.scatter(df['duration_ms'].head(100), df['popularity'].head(100))\n",
    "plt.title('Duration vs Popularity')\n",
    "plt.xlabel('Duration')\n",
    "plt.ylabel('Popularity')\n",
    "plt.show()"
   ]
  },
  {
   "cell_type": "code",
   "execution_count": null,
   "id": "38285ec2-130a-413b-87de-a1e8eca488b2",
   "metadata": {},
   "outputs": [],
   "source": [
    "# Box plot for distribution of popularity \n",
    "plt.figure(figsize=(12, 6))\n",
    "sns.boxplot(x='mode', y='popularity', data=df)\n",
    "plt.xlabel('Mode (0 = Minor, 1 = Major)')\n",
    "plt.ylabel('Popularity')\n",
    "plt.title('Box Plot: Popularity by Mode')\n",
    "plt.show()"
   ]
  },
  {
   "cell_type": "code",
   "execution_count": null,
   "id": "fa6d3c38-e2a2-4504-953f-e46723619a9d",
   "metadata": {},
   "outputs": [],
   "source": [
    "# Histogram for popularity\n",
    "sns.histplot(df['popularity'], bins=20, kde=True)\n",
    "plt.xlabel('Popularity')\n",
    "plt.ylabel('Frequency')\n",
    "plt.title('Distribution of Popularity')\n",
    "plt.tight_layout()\n",
    "plt.show()"
   ]
  },
  {
   "cell_type": "code",
   "execution_count": null,
   "id": "8e992103-5705-4fbb-b95d-7859f9e9000a",
   "metadata": {},
   "outputs": [],
   "source": [
    "# Pie chart for percentage of key\n",
    "key_counts = df['key'].value_counts()\n",
    "\n",
    "# Plot pie chart\n",
    "plt.figure(figsize=(8, 8))\n",
    "plt.pie(key_counts, labels=key_counts.index, autopct='%1.1f%%', startangle=140)\n",
    "plt.title('Percentage of Keys')\n",
    "plt.axis('equal')  # Equal aspect ratio ensures that pie is drawn as a circle.\n",
    "plt.show()"
   ]
  },
  {
   "cell_type": "code",
   "execution_count": null,
   "id": "f859aa32-f6d0-4403-bd38-e06896f761b3",
   "metadata": {},
   "outputs": [],
   "source": [
    "# Exclude non-numeric columns\n",
    "numeric_columns = df.select_dtypes(include=['int64', 'float64']).columns\n",
    "\n",
    "# Compute the correlation matrix\n",
    "corr = df[numeric_columns].corr()\n",
    "\n",
    "# Plot the heatmap of the correlation matrix\n",
    "plt.figure(figsize=(10, 8))\n",
    "sns.heatmap(corr, annot=True, cmap='coolwarm', fmt='.2f', linewidths=0.5)\n",
    "plt.title('Correlation Matrix')\n",
    "plt.show()"
   ]
  },
  {
   "cell_type": "code",
   "execution_count": null,
   "id": "be4c1bf2-c3e1-4b53-95e2-e9de2dee7c56",
   "metadata": {},
   "outputs": [],
   "source": [
    "# Pair plot for pairwise relationships between numerical features\n",
    "numerical_columns = ['popularity', 'danceability', 'energy', 'valence', 'tempo']\n",
    "\n",
    "# Create pair plot\n",
    "sns.pairplot(df[numerical_columns].head(50), diag_kind='kde', plot_kws={'alpha':0.5})\n",
    "plt.suptitle('Pair Plots', y=1.02)\n",
    "plt.show()\n"
   ]
  },
  {
   "cell_type": "code",
   "execution_count": null,
   "id": "ad338ac4-ce1a-4e1a-9b22-13e94ae7f202",
   "metadata": {},
   "outputs": [],
   "source": [
    "# Stacked bar plot for popularity of tracks per time_signature\n",
    "time_signature_popularity = df.groupby('time_signature')['popularity'].mean()\n",
    "plt.bar(time_signature_popularity.index, time_signature_popularity, color='skyblue')\n",
    "plt.title('Popularity of Tracks per Time Signature')\n",
    "plt.xlabel('Time Signature')\n",
    "plt.ylabel('Mean Popularity')\n",
    "plt.tight_layout()\n",
    "plt.show()"
   ]
  },
  {
   "cell_type": "code",
   "execution_count": null,
   "id": "2390b74e-f4cd-4c45-90fb-1146551666f8",
   "metadata": {},
   "outputs": [],
   "source": [
    "# KDE Plot for Danceability\n",
    "plt.figure(figsize=(10, 6))\n",
    "sns.kdeplot(df['danceability'], fill=True, color='b')\n",
    "plt.title('KDE Plot: Danceability')\n",
    "plt.xlabel('Danceability')\n",
    "plt.ylabel('Density')\n",
    "plt.show()"
   ]
  },
  {
   "cell_type": "code",
   "execution_count": null,
   "id": "b621a328-381b-44b7-8758-84ade9860666",
   "metadata": {},
   "outputs": [],
   "source": [
    "pip install wordcloud"
   ]
  },
  {
   "cell_type": "code",
   "execution_count": null,
   "id": "9e593a9a-c410-477a-9445-b256a20eb227",
   "metadata": {},
   "outputs": [],
   "source": [
    "from wordcloud import WordCloud\n",
    "\n",
    "album_name = ' '.join(df['album_name'].dropna().astype(str).tolist())\n",
    "\n",
    "# Generate a word cloud\n",
    "wordcloud = WordCloud(width=800, height=400, background_color='white').generate(album_name)\n",
    "\n",
    "# Plot the word cloud\n",
    "plt.figure(figsize=(10, 5))\n",
    "plt.imshow(wordcloud, interpolation='bilinear')\n",
    "plt.axis('off')\n",
    "plt.title('Word Cloud: Artists')\n",
    "plt.show()"
   ]
  }
 ],
 "metadata": {
  "kernelspec": {
   "display_name": "Python 3 (ipykernel)",
   "language": "python",
   "name": "python3"
  },
  "language_info": {
   "codemirror_mode": {
    "name": "ipython",
    "version": 3
   },
   "file_extension": ".py",
   "mimetype": "text/x-python",
   "name": "python",
   "nbconvert_exporter": "python",
   "pygments_lexer": "ipython3",
   "version": "3.12.3"
  }
 },
 "nbformat": 4,
 "nbformat_minor": 5
}
