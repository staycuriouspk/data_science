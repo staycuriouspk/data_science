{
 "cells": [
  {
   "cell_type": "markdown",
   "id": "dbc9a604-ee08-4715-8fad-142a17b4ad99",
   "metadata": {},
   "source": [
    "# Python Basics - Part 1 (Variables, Printing, User Input, Data Types, and Basic Operations)"
   ]
  },
  {
   "cell_type": "markdown",
   "id": "276898dd-d202-4623-8314-a7b2fa28695e",
   "metadata": {},
   "source": [
    "## Python Variables\n",
    "Variables are used to store values in Python. You can assign values to variables using the `=` operator."
   ]
  },
  {
   "cell_type": "code",
   "execution_count": null,
   "id": "3e68fe01-e8c1-456a-bb3c-4e2eeccbaa7d",
   "metadata": {},
   "outputs": [],
   "source": [
    "x = 10  # Integer variable\",\n",
    "y = 3.5  # Float variable\",\n",
    "name = \"Alice\"  # String variable\",\n",
    "is_student = True  # Boolean variable\""
   ]
  },
  {
   "cell_type": "markdown",
   "id": "402e5e2a-6d3f-46c4-bc67-b3359a2074e2",
   "metadata": {},
   "source": [
    "## Printing and User Input"
   ]
  },
  {
   "cell_type": "markdown",
   "id": "3b91ebd5-315b-410b-8b68-b7c07f49cea6",
   "metadata": {},
   "source": [
    "### Printing"
   ]
  },
  {
   "cell_type": "markdown",
   "id": "3d2214e8-be27-428d-ae6f-eecf9028564b",
   "metadata": {},
   "source": [
    "The print() function is used to display output in Python."
   ]
  },
  {
   "cell_type": "code",
   "execution_count": null,
   "id": "4cae7054-73d7-42d7-961a-fc7cb36ad1b3",
   "metadata": {},
   "outputs": [],
   "source": [
    "print(\"Hello, World!\")\n",
    "print(\"The value of x is:\", x)"
   ]
  },
  {
   "cell_type": "markdown",
   "id": "3ad0f626-e8bd-4eef-9c34-658e00fbdbd4",
   "metadata": {},
   "source": [
    "### User Input"
   ]
  },
  {
   "cell_type": "markdown",
   "id": "c3938ffe-647f-41bf-894c-64fbed4e9185",
   "metadata": {},
   "source": [
    "The input() function is used to take user input in Python."
   ]
  },
  {
   "cell_type": "code",
   "execution_count": null,
   "id": "6a600d94-e710-43c1-becd-879fdd030a0c",
   "metadata": {},
   "outputs": [],
   "source": [
    "user_name = input(\"Enter your name: \")\n",
    "print(\"Hello,\", user_name + \"!\")"
   ]
  },
  {
   "cell_type": "code",
   "execution_count": null,
   "id": "7ecbde39-6e3b-45b9-b0eb-0dbd4bf5fa58",
   "metadata": {},
   "outputs": [],
   "source": [
    "user_input = input(\"Enter a number: \")\n",
    "print(\"You entered:\", user_input)"
   ]
  },
  {
   "cell_type": "markdown",
   "id": "fd644687-4f55-4c9f-aa50-7147ee857bd8",
   "metadata": {},
   "source": [
    "## Python Data Types\n",
    "Python has several built-in data types. In this notebook, we'll explore the most common ones with examples."
   ]
  },
  {
   "cell_type": "markdown",
   "id": "09d9df9e-1b47-4282-8b7f-18f0d250a59d",
   "metadata": {},
   "source": [
    "### 1. Integers\n",
    "Integers are whole numbers, positive or negative, without any fractional part."
   ]
  },
  {
   "cell_type": "code",
   "execution_count": null,
   "id": "e7588e07-f4eb-4717-8ddc-05ef6de6d709",
   "metadata": {},
   "outputs": [],
   "source": [
    "x = 10\n",
    "print(x, type(x))"
   ]
  },
  {
   "cell_type": "markdown",
   "id": "11eb3663-e18d-4f38-8428-8bd515eae399",
   "metadata": {},
   "source": [
    "### 2. Floats\n",
    "Floats are decimal numbers, representing real numbers."
   ]
  },
  {
   "cell_type": "code",
   "execution_count": null,
   "id": "b79e856b-9432-4d8d-b9db-b441510c34d5",
   "metadata": {},
   "outputs": [],
   "source": [
    "y = 3.14\n",
    "print(y, type(y))"
   ]
  },
  {
   "cell_type": "markdown",
   "id": "7d36cad5-c224-49f8-9248-1bf81918b886",
   "metadata": {},
   "source": [
    "### 3. Strings\n",
    "Strings are sequences of characters enclosed in single or double quotes."
   ]
  },
  {
   "cell_type": "code",
   "execution_count": null,
   "id": "0092b2e5-1e1d-4b2e-9a8a-a31ccb73f990",
   "metadata": {},
   "outputs": [],
   "source": [
    "greeting = \"Hello\"\n",
    "print(greeting, type(greeting))"
   ]
  },
  {
   "cell_type": "markdown",
   "id": "7d893867-d453-4371-900d-af0d18305cc0",
   "metadata": {},
   "source": [
    "### 4. Booleans\n",
    "Booleans represent either True or False values."
   ]
  },
  {
   "cell_type": "code",
   "execution_count": null,
   "id": "a8bebc57-6664-4dda-8ab7-8922a0e6463a",
   "metadata": {},
   "outputs": [],
   "source": [
    "is_student = True\n",
    "print(is_student, type(is_student))\n",
    "is_teacher = False\n",
    "print(is_teacher, type(is_teacher))"
   ]
  },
  {
   "cell_type": "markdown",
   "id": "d4ec87ff-5062-4e9c-86b9-ff66acdfc8c4",
   "metadata": {},
   "source": [
    "### 5. Lists\n",
    "Lists are ordered collections of items, which can be of different data types."
   ]
  },
  {
   "cell_type": "code",
   "execution_count": null,
   "id": "20e798c0-48a9-4055-8424-6bc438871eba",
   "metadata": {},
   "outputs": [],
   "source": [
    "my_list = [1, 2, 3, \"four\", 5.5]\n",
    "print(my_list, type(my_list))"
   ]
  },
  {
   "cell_type": "markdown",
   "id": "6969accf-080a-415f-9ae0-98d83cf35962",
   "metadata": {},
   "source": [
    "### 6. Tuples\n",
    "Tuples are ordered collections of items, similar to lists, but they are immutable (cannot be modified after creation)."
   ]
  },
  {
   "cell_type": "code",
   "execution_count": null,
   "id": "288b252c-4c66-41d7-8d73-515041c52c0e",
   "metadata": {},
   "outputs": [],
   "source": [
    "my_tuple = (1, 2, \"three\", 4.5)\n",
    "print(my_tuple, type(my_tuple))"
   ]
  },
  {
   "cell_type": "markdown",
   "id": "480794a9-bb52-49f4-bbe3-86b30e541283",
   "metadata": {},
   "source": [
    "### 7. Dictionaries\n",
    "Dictionaries are unordered collections of key-value pairs."
   ]
  },
  {
   "cell_type": "code",
   "execution_count": null,
   "id": "136bf32d-9c8e-432a-ac1d-1c48df4eb489",
   "metadata": {},
   "outputs": [],
   "source": [
    "person = {\"name\": \"Alice\", \"age\": 25, \"is_student\": True}\n",
    "print(person, type(person))"
   ]
  },
  {
   "cell_type": "code",
   "execution_count": null,
   "id": "6a03ba6a-b5a0-4148-a0e7-7ffde780a701",
   "metadata": {},
   "outputs": [],
   "source": [
    "x = 10  # Integer variable\n",
    "y = 3.5  # Float variable\n",
    "name = \"Alice\"  # String variable\n",
    "is_student = True  # Boolean variable"
   ]
  },
  {
   "cell_type": "markdown",
   "id": "40ea376b-ba11-4aa3-bb0d-bb8742986e64",
   "metadata": {},
   "source": [
    "## Python Basic Operations"
   ]
  },
  {
   "cell_type": "code",
   "execution_count": null,
   "id": "4b964121-57d7-40a9-85fe-063a7fa2724d",
   "metadata": {},
   "outputs": [],
   "source": [
    "a = 5\n",
    "b = 3"
   ]
  },
  {
   "cell_type": "markdown",
   "id": "6c89fc3e-88fa-49a1-a38a-85b433f52bf6",
   "metadata": {},
   "source": [
    "### 1. Addition"
   ]
  },
  {
   "cell_type": "code",
   "execution_count": null,
   "id": "ea6bfd5d-d44d-4ddf-a596-9a690fe67fc9",
   "metadata": {},
   "outputs": [],
   "source": [
    "print(a + b)"
   ]
  },
  {
   "cell_type": "markdown",
   "id": "4dccd002-62a6-42a6-9262-d4d212607eb8",
   "metadata": {},
   "source": [
    "### 2. Subtraction"
   ]
  },
  {
   "cell_type": "code",
   "execution_count": null,
   "id": "7155bb0d-5884-45ff-bf32-4e21638b0e34",
   "metadata": {},
   "outputs": [],
   "source": [
    "print(a - b)"
   ]
  },
  {
   "cell_type": "markdown",
   "id": "e271f33e-288a-4468-af89-e40a1e658a26",
   "metadata": {},
   "source": [
    "### 3. Multiplication"
   ]
  },
  {
   "cell_type": "code",
   "execution_count": null,
   "id": "df4f7e28-491a-4754-a71d-35494c3ef6ed",
   "metadata": {},
   "outputs": [],
   "source": [
    "print(a * b)"
   ]
  },
  {
   "cell_type": "markdown",
   "id": "e2b95325-ed16-456c-9e63-7974c3cce398",
   "metadata": {},
   "source": [
    "### 4. Division"
   ]
  },
  {
   "cell_type": "code",
   "execution_count": null,
   "id": "dead2e69-527f-4002-951e-4ae47510c9ce",
   "metadata": {},
   "outputs": [],
   "source": [
    "print(a / b)"
   ]
  },
  {
   "cell_type": "markdown",
   "id": "236741cb-4434-4e12-9a02-a200307595db",
   "metadata": {},
   "source": [
    "### 5. Integer Division"
   ]
  },
  {
   "cell_type": "code",
   "execution_count": null,
   "id": "c29cbce4-449e-42b4-82fc-ffe6327f0c0b",
   "metadata": {},
   "outputs": [],
   "source": [
    "print(a // b)"
   ]
  },
  {
   "cell_type": "markdown",
   "id": "8edfafb8-23f9-4b17-810c-41313192178c",
   "metadata": {},
   "source": [
    "### 6. Modulus"
   ]
  },
  {
   "cell_type": "code",
   "execution_count": null,
   "id": "ac55be6a-8ba6-4a1a-b17d-33e7a1b88d8a",
   "metadata": {},
   "outputs": [],
   "source": [
    "print(a % b)"
   ]
  },
  {
   "cell_type": "markdown",
   "id": "70a27001-3371-4c74-a36e-d382eac9c213",
   "metadata": {},
   "source": [
    "### 7. Exponentiation"
   ]
  },
  {
   "cell_type": "code",
   "execution_count": null,
   "id": "7e03733d-f345-4fb5-9828-307f1e1382cf",
   "metadata": {},
   "outputs": [],
   "source": [
    "print(a ** b)"
   ]
  }
 ],
 "metadata": {
  "kernelspec": {
   "display_name": "Python 3.11 (torch)",
   "language": "python",
   "name": "pytorch"
  },
  "language_info": {
   "codemirror_mode": {
    "name": "ipython",
    "version": 3
   },
   "file_extension": ".py",
   "mimetype": "text/x-python",
   "name": "python",
   "nbconvert_exporter": "python",
   "pygments_lexer": "ipython3",
   "version": "3.12.3"
  }
 },
 "nbformat": 4,
 "nbformat_minor": 5
}
