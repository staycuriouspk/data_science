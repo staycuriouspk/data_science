{
 "cells": [
  {
   "cell_type": "markdown",
   "id": "ea1144c1-dc06-44ef-8d7b-131cf4e98db1",
   "metadata": {},
   "source": [
    "# Python Basics - Part 3 (Functions, Lambda, Map, and Filter)"
   ]
  },
  {
   "cell_type": "code",
   "execution_count": null,
   "id": "0e636169-d70f-4bbd-ad11-63fcdaf4d575",
   "metadata": {},
   "outputs": [],
   "source": [
    "person = {\"name\": \"Alice\", \"age\": 25, \"is_student\": True}\n",
    "print(person)\n",
    "\n",
    "# Accessing dictionary values\n",
    "print(person[\"name\"])  # Output: Alice\n",
    "\n",
    "# Adding a new key-value pair\n",
    "person[\"grade\"] = \"A\"\n",
    "print(person)\n",
    "\n",
    "# Getting all keys\n",
    "print(person.keys())\n",
    "\n",
    "# Getting all values\n",
    "print(person.values())\n",
    "\n",
    "# Getting all key-value pairs\n",
    "print(person.items())\n",
    "\n",
    "# Getting a subset of key-value pairs\n",
    "print({k: v for k, v in person.items() if k in ['age', 'grade']})\n",
    "\n",
    "# Checking if a key is in the dictionary\n",
    "print(\"name\" in person)\n",
    "print(\"city\" in person)\n",
    "\n",
    "# Updating a value\n",
    "person[\"age\"] = 26\n",
    "print(person)\n",
    "\n",
    "# Removing a key-value pair\n",
    "del person[\"age\"]\n",
    "print(person)"
   ]
  },
  {
   "cell_type": "markdown",
   "id": "2e493817-1c54-4bed-9b8d-c70057b5d1d0",
   "metadata": {},
   "source": [
    "## Python Functions"
   ]
  },
  {
   "cell_type": "markdown",
   "id": "2448cd12-a840-479f-baff-7a9b26564600",
   "metadata": {},
   "source": [
    "### Defining and Calling Functions"
   ]
  },
  {
   "cell_type": "markdown",
   "id": "a5c153be-4598-453e-affd-557c9f143142",
   "metadata": {},
   "source": [
    "Functions are reusable blocks of code that perform a specific task. In Python, you define a function using the `def` keyword, followed by the function name, and parentheses `()` for parameters (if any). The function body is indented and contains the code to be executed when the function is called."
   ]
  },
  {
   "cell_type": "code",
   "execution_count": null,
   "id": "14e98b83-b6cc-48da-94fc-91c2d403da17",
   "metadata": {},
   "outputs": [],
   "source": [
    "def greet():\n",
    "    print(\"Hello from the greet function!\")\n",
    "\n",
    "# Calling the function\n",
    "greet()"
   ]
  },
  {
   "cell_type": "markdown",
   "id": "d03780ce-6e9b-47e4-936b-9d10d38a5113",
   "metadata": {},
   "source": [
    "### Parameters and Arguments"
   ]
  },
  {
   "cell_type": "markdown",
   "id": "f52bd2d9-8a96-406c-99ea-b871213fe074",
   "metadata": {},
   "source": [
    "Parameters are the variables defined in the function definition, and arguments are the values passed to the function when it's called."
   ]
  },
  {
   "cell_type": "code",
   "execution_count": null,
   "id": "293097be-27e4-4324-bb6f-c4dc76a28855",
   "metadata": {},
   "outputs": [],
   "source": [
    "def greet_person(name):\n",
    "    print(f\"Hello, {name}!\")\n",
    "\n",
    "greet_person(\"Alice\")  # Argument: \"Alice\"\n",
    "\n",
    "def add_numbers(x, y):\n",
    "    result = x + y\n",
    "    print(f\"The sum of {x} and {y} is {result}.\")\n",
    "\n",
    "add_numbers(5, 3)  # Arguments: 5, 3"
   ]
  },
  {
   "cell_type": "markdown",
   "id": "9e6b2685-1287-4f85-b0c8-6e2084e6da35",
   "metadata": {},
   "source": [
    "### Return Statements"
   ]
  },
  {
   "cell_type": "markdown",
   "id": "da6e82a0-9c60-4adc-a529-92c0cc823c78",
   "metadata": {},
   "source": [
    "The `return` statement is used to return a value from a function. If a function doesn't have a `return` statement, it implicitly returns `None`."
   ]
  },
  {
   "cell_type": "code",
   "execution_count": null,
   "id": "bdec2c04-6df9-43a2-a4a9-84ad64c42a62",
   "metadata": {},
   "outputs": [],
   "source": [
    "def multiply(x, y):\n",
    "    return x * y\n",
    "\n",
    "result = multiply(3, 5)\n",
    "print(result)\n",
    "\n",
    "def print_message(message):\n",
    "    print(message)\n",
    "\n",
    "return_value = print_message(\"Hello, World!\")\n",
    "print(return_value)"
   ]
  },
  {
   "cell_type": "markdown",
   "id": "f0e20e97-fbe8-4f7e-a5bd-74b017dd6460",
   "metadata": {},
   "source": [
    "You can also return multiple values from a function by separating them with commas."
   ]
  },
  {
   "cell_type": "code",
   "execution_count": null,
   "id": "823b4e59-6909-405b-a499-2947ffd6504c",
   "metadata": {},
   "outputs": [],
   "source": [
    "def get_values():\n",
    "    x = 10\n",
    "    y = 20\n",
    "    return x, y\n",
    "\n",
    "result = get_values()\n",
    "print(result)"
   ]
  },
  {
   "cell_type": "markdown",
   "id": "117144ad-e7d5-4044-bede-3b7b69d11217",
   "metadata": {},
   "source": [
    "## Lambda Functions"
   ]
  },
  {
   "cell_type": "markdown",
   "id": "abd39cc5-88ba-499b-bbd0-ff54c64742bc",
   "metadata": {},
   "source": [
    "Lambda functions, also known as anonymous functions, are small, one-line functions that can take any number of arguments but can only have one expression. They are typically used in situations where you need a simple function for a short period of time."
   ]
  },
  {
   "cell_type": "code",
   "execution_count": null,
   "id": "ab8df6b7-7db2-4edc-9b4e-31fc184ec662",
   "metadata": {},
   "outputs": [],
   "source": [
    "# Regular function\n",
    "def square(x):\n",
    "    return x ** 2\n",
    "\n",
    "# Lambda function\n",
    "square_lambda = lambda x: x ** 2\n",
    "\n",
    "print(square(5))     # Output: 15\n",
    "print(square_lambda(5))  # Output: 15\n",
    "\n",
    "add = lambda x, y: x + y\n",
    "print(add(5, 6))  # Output: 11"
   ]
  },
  {
   "cell_type": "markdown",
   "id": "a023d57a-40a8-4eac-8b6a-47776d70d8a2",
   "metadata": {},
   "source": [
    "## map()"
   ]
  },
  {
   "cell_type": "markdown",
   "id": "1a022978-4f76-4af3-8082-1cb785f17945",
   "metadata": {},
   "source": [
    "The `map()` function applies a given function to each item of an iterable (e.g., list, tuple) and returns a map object (which is an iterator) with the results."
   ]
  },
  {
   "cell_type": "code",
   "execution_count": null,
   "id": "1ee5e699-367d-492c-9309-cd64e40d51d8",
   "metadata": {},
   "outputs": [],
   "source": [
    "numbers = [1, 2, 3, 4, 5]\n",
    "\n",
    "# Using map() with a regular function\n",
    "squared_numbers = list(map(lambda x: x ** 2, numbers))\n",
    "print(squared_numbers)\n",
    "\n",
    "# Using map() with a lambda function\n",
    "cubed_numbers = list(map(lambda x: x ** 3, numbers))\n",
    "print(cubed_numbers)"
   ]
  },
  {
   "cell_type": "markdown",
   "id": "4749bd09-6b0c-414c-96a8-e3eb8d3b0206",
   "metadata": {},
   "source": [
    "## filter()"
   ]
  },
  {
   "cell_type": "markdown",
   "id": "4fd457be-832b-4542-b9b1-efff9c3ba124",
   "metadata": {},
   "source": [
    "The `filter()` function creates an iterator from the elements of an iterable for which the provided function returns `True`."
   ]
  },
  {
   "cell_type": "code",
   "execution_count": null,
   "id": "d6b22613-6523-40f0-bdda-5e5806e29e29",
   "metadata": {},
   "outputs": [],
   "source": [
    "numbers = [1, 2, 3, 4, 5, 6, 7, 8]\n",
    "\n",
    "# Filter even numbers\n",
    "even_numbers = list(filter(lambda x: x % 2 == 0, numbers))\n",
    "print(even_numbers)\n",
    "\n",
    "# Filter odd numbers\n",
    "odd_numbers = list(filter(lambda x: x % 2 != 0, numbers))\n",
    "print(odd_numbers)"
   ]
  }
 ],
 "metadata": {
  "kernelspec": {
   "display_name": "Python 3.11 (torch)",
   "language": "python",
   "name": "pytorch"
  },
  "language_info": {
   "codemirror_mode": {
    "name": "ipython",
    "version": 3
   },
   "file_extension": ".py",
   "mimetype": "text/x-python",
   "name": "python",
   "nbconvert_exporter": "python",
   "pygments_lexer": "ipython3",
   "version": "3.12.3"
  }
 },
 "nbformat": 4,
 "nbformat_minor": 5
}
