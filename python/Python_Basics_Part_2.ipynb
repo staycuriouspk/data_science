{
 "cells": [
  {
   "cell_type": "markdown",
   "id": "ea1144c1-dc06-44ef-8d7b-131cf4e98db1",
   "metadata": {},
   "source": [
    "# Python Basics - Part 2 (Conditional Statements, Loops, Strings, Lists, and Dictionaries)"
   ]
  },
  {
   "cell_type": "markdown",
   "id": "22588f71-db14-4c87-8633-4a5ac642c3a7",
   "metadata": {},
   "source": [
    "## Conditional Statements"
   ]
  },
  {
   "cell_type": "markdown",
   "id": "cf731dca-6e04-4c81-82eb-999b74d28b99",
   "metadata": {},
   "source": [
    "Conditional statements are used to execute different blocks of code based on certain conditions."
   ]
  },
  {
   "cell_type": "code",
   "execution_count": null,
   "id": "10a5dda2-4b05-4527-8abf-9a548a84f2a7",
   "metadata": {},
   "outputs": [],
   "source": [
    "# If-else statement\n",
    "age = 25\n",
    "if age >= 18:\n",
    "    print(\"You are an adult.\")\n",
    "else:\n",
    "    print(\"You are a minor.\")\n",
    "\n",
    "# If-elif-else statement\n",
    "grade = 85\n",
    "if grade >= 90:\n",
    "    print(\"Grade: A\")\n",
    "elif grade >= 80:\n",
    "    print(\"Grade: B\")\n",
    "elif grade >= 70:\n",
    "    print(\"Grade: C\")\n",
    "else:\n",
    "    print(\"Grade: F\")"
   ]
  },
  {
   "cell_type": "markdown",
   "id": "074f0892-3898-4a7a-a71f-bfca6ae4af20",
   "metadata": {},
   "source": [
    "## Strings"
   ]
  },
  {
   "cell_type": "markdown",
   "id": "4083fd71-ddbf-4dab-a043-77f8fb86c315",
   "metadata": {},
   "source": [
    "Strings in Python are sequences of characters enclosed within single quotes (`'`), double quotes (`\\\"`), or triple quotes (`'''` or `\\\"\\\"\\\"`). Python provides various operations and methods to work with strings."
   ]
  },
  {
   "cell_type": "code",
   "execution_count": null,
   "id": "34c3c44e-5650-4100-b398-17fa7ddf8d90",
   "metadata": {},
   "outputs": [],
   "source": [
    "string1 = \"Hello, World!\"\n",
    "print(string1)\n",
    "\n",
    "# Converting to uppercase\n",
    "print(string1.upper())\n",
    "\n",
    "# Concatenating strings\n",
    "string2 = string1 + string1\n",
    "print(string2)\n",
    "\n",
    "# Replacing substring\n",
    "string3 = string1.replace(\"World\", \"Python\")\n",
    "print(string3)\n",
    "\n",
    "# Finding length of string\n",
    "print(len(string1))\n",
    "\n",
    "# Slicing strings\n",
    "print(string1[0:13])  # Prints the whole string"
   ]
  },
  {
   "cell_type": "markdown",
   "id": "b1070017-d8db-4637-b563-daff364b266c",
   "metadata": {},
   "source": [
    "## Loops"
   ]
  },
  {
   "cell_type": "markdown",
   "id": "3c2f5e15-22e2-4c52-98e6-7336ba69bcbf",
   "metadata": {},
   "source": [
    "Loops are used to repeat a block of code multiple times. Python provides two types of loops: for and while. The range() function is commonly used with for loops to iterate over a sequence of numbers."
   ]
  },
  {
   "cell_type": "code",
   "execution_count": null,
   "id": "a5a0d0b0-f474-40c9-bd5f-3ba9451daf68",
   "metadata": {},
   "outputs": [],
   "source": [
    "# For loop\n",
    "fruits = [\"apple\", \"banana\", \"cherry\"]\n",
    "for fruit in fruits:\n",
    "    print(fruit)\n",
    "\n",
    "print(\"\\n\")  # Print a new line\n",
    "\n",
    "# While loop\n",
    "count = 0\n",
    "while count < 5:\n",
    "    print(count)\n",
    "    count += 1\n",
    "\n",
    "print(\"\\n\")\n",
    "# Using range() with for loop\n",
    "for i in range(5):\n",
    "    print(i)\n",
    "\n",
    "print(\"\\n\")\n",
    "\n",
    "# range(start, stop, step)\n",
    "for i in range(10, 20, 2):\n",
    "    print(i)"
   ]
  },
  {
   "cell_type": "markdown",
   "id": "c9899619-b2af-4aab-9338-0692734d5892",
   "metadata": {},
   "source": [
    "## Lists"
   ]
  },
  {
   "cell_type": "markdown",
   "id": "d4946743-7511-48fd-a372-27694f63fbb4",
   "metadata": {},
   "source": [
    "Lists are ordered collections of items, which can be of different data types."
   ]
  },
  {
   "cell_type": "code",
   "execution_count": null,
   "id": "a3dba039-3472-496c-836a-dffe63c3d3e3",
   "metadata": {},
   "outputs": [],
   "source": [
    "numbers = [1, 2, 3, 4, 5]\n",
    "print(numbers)\n",
    "\n",
    "# Accessing list elements\n",
    "print(numbers[1]) \n",
    "\n",
    "# Modifying list elements\n",
    "numbers[2] = \"three\"\n",
    "print(numbers)\n",
    "\n",
    "# Adding an element to the list\n",
    "numbers.append(6)\n",
    "print(numbers)\n",
    "\n",
    "# Slicing a list\n",
    "print(numbers[0:4])  \n",
    "print(numbers[3:6]) \n",
    "\n",
    "# List concatenation\n",
    "new_list = [1, 6, \"three\"] + numbers[2:]\n",
    "print(new_list)\n",
    "\n",
    "# Extending a list\n",
    "new_list.extend([7, 8])\n",
    "print(new_list)\n",
    "\n",
    "# Length of a list\n",
    "print(len(new_list))\n",
    "\n",
    "# Checking if an item is in a list\n",
    "print(\"three\" in new_list)\n",
    "print(10 in new_list)"
   ]
  },
  {
   "cell_type": "markdown",
   "id": "06f88811-22ea-4027-888c-2e9dc7b39f5d",
   "metadata": {},
   "source": [
    "## Dictionaries"
   ]
  },
  {
   "cell_type": "code",
   "execution_count": null,
   "id": "0e636169-d70f-4bbd-ad11-63fcdaf4d575",
   "metadata": {},
   "outputs": [],
   "source": [
    "person = {\"name\": \"Alice\", \"age\": 25, \"is_student\": True}\n",
    "print(person)\n",
    "\n",
    "# Accessing dictionary values\n",
    "print(person[\"name\"]) \n",
    "\n",
    "# Adding a new key-value pair\n",
    "person[\"grade\"] = \"A\"\n",
    "print(person)\n",
    "\n",
    "# Getting all keys\n",
    "print(person.keys())\n",
    "\n",
    "# Getting all values\n",
    "print(person.values())\n",
    "\n",
    "# Getting all key-value pairs\n",
    "print(person.items())\n",
    "\n",
    "# Getting a subset of key-value pairs\n",
    "print({k: v for k, v in person.items() if k in ['age', 'grade']})\n",
    "\n",
    "# Checking if a key is in the dictionary\n",
    "print(\"name\" in person)\n",
    "print(\"city\" in person)\n",
    "\n",
    "# Updating a value\n",
    "person[\"age\"] = 26\n",
    "print(person)\n",
    "\n",
    "# Removing a key-value pair\n",
    "del person[\"age\"]\n",
    "print(person)"
   ]
  },
  {
   "cell_type": "markdown",
   "id": "2448cd12-a840-479f-baff-7a9b26564600",
   "metadata": {},
   "source": [
    "### Defining and Calling Functions"
   ]
  },
  {
   "cell_type": "markdown",
   "id": "a5c153be-4598-453e-affd-557c9f143142",
   "metadata": {},
   "source": [
    "Functions are reusable blocks of code that perform a specific task. In Python, you define a function using the `def` keyword, followed by the function name, and parentheses `()` for parameters (if any). The function body is indented and contains the code to be executed when the function is called."
   ]
  },
  {
   "cell_type": "code",
   "execution_count": null,
   "id": "14e98b83-b6cc-48da-94fc-91c2d403da17",
   "metadata": {},
   "outputs": [],
   "source": [
    "def greet():\n",
    "    print(\"Hello from the greet function!\")\n",
    "\n",
    "# Calling the function\n",
    "greet()"
   ]
  },
  {
   "cell_type": "markdown",
   "id": "d03780ce-6e9b-47e4-936b-9d10d38a5113",
   "metadata": {},
   "source": [
    "### Parameters and Arguments"
   ]
  },
  {
   "cell_type": "markdown",
   "id": "f52bd2d9-8a96-406c-99ea-b871213fe074",
   "metadata": {},
   "source": [
    "Parameters are the variables defined in the function definition, and arguments are the values passed to the function when it's called."
   ]
  },
  {
   "cell_type": "code",
   "execution_count": null,
   "id": "293097be-27e4-4324-bb6f-c4dc76a28855",
   "metadata": {},
   "outputs": [],
   "source": [
    "def greet_person(name):\n",
    "    print(f\"Hello, {name}!\")\n",
    "\n",
    "greet_person(\"Alice\")  # Argument: \"Alice\"\n",
    "\n",
    "def add_numbers(x, y):\n",
    "    result = x + y\n",
    "    print(f\"The sum of {x} and {y} is {result}.\")\n",
    "\n",
    "add_numbers(5, 3)  # Arguments: 5, 3"
   ]
  },
  {
   "cell_type": "markdown",
   "id": "9e6b2685-1287-4f85-b0c8-6e2084e6da35",
   "metadata": {},
   "source": [
    "### Return Statements"
   ]
  },
  {
   "cell_type": "markdown",
   "id": "da6e82a0-9c60-4adc-a529-92c0cc823c78",
   "metadata": {},
   "source": [
    "The `return` statement is used to return a value from a function. If a function doesn't have a `return` statement, it implicitly returns `None`."
   ]
  },
  {
   "cell_type": "code",
   "execution_count": null,
   "id": "bdec2c04-6df9-43a2-a4a9-84ad64c42a62",
   "metadata": {},
   "outputs": [],
   "source": [
    "def multiply(x, y):\n",
    "    return x * y\n",
    "\n",
    "result = multiply(3, 5)\n",
    "print(result)\n",
    "\n",
    "def print_message(message):\n",
    "    print(message)\n",
    "\n",
    "return_value = print_message(\"Hello, World!\")\n",
    "print(return_value)"
   ]
  },
  {
   "cell_type": "markdown",
   "id": "f0e20e97-fbe8-4f7e-a5bd-74b017dd6460",
   "metadata": {},
   "source": [
    "You can also return multiple values from a function by separating them with commas."
   ]
  },
  {
   "cell_type": "code",
   "execution_count": null,
   "id": "823b4e59-6909-405b-a499-2947ffd6504c",
   "metadata": {},
   "outputs": [],
   "source": [
    "def get_values():\n",
    "    x = 10\n",
    "    y = 20\n",
    "    return x, y\n",
    "\n",
    "result = get_values()\n",
    "print(result)"
   ]
  }
 ],
 "metadata": {
  "kernelspec": {
   "display_name": "Python 3.11 (torch)",
   "language": "python",
   "name": "pytorch"
  },
  "language_info": {
   "codemirror_mode": {
    "name": "ipython",
    "version": 3
   },
   "file_extension": ".py",
   "mimetype": "text/x-python",
   "name": "python",
   "nbconvert_exporter": "python",
   "pygments_lexer": "ipython3",
   "version": "3.12.3"
  }
 },
 "nbformat": 4,
 "nbformat_minor": 5
}
