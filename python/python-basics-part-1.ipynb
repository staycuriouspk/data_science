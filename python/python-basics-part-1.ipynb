{
 "cells": [
  {
   "cell_type": "markdown",
   "metadata": {},
   "source": [
    "# Python Basics: Conditional Statements, Loops, Lists, and Dictionaries"
   ]
  },
  {
   "cell_type": "markdown",
   "metadata": {},
   "source": [
    "## Conditional Statements"
   ]
  },
  {
   "cell_type": "code",
   "execution_count": null,
   "metadata": {},
   "outputs": [],
   "source": [
    "# ... (previous code for Conditional Statements remains the same)"
   ]
  },
  {
   "cell_type": "markdown",
   "metadata": {},
   "source": [
    "## Loops"
   ]
  },
  {
   "cell_type": "code",
   "execution_count": null,
   "metadata": {},
   "outputs": [],
   "source": [
    "# ... (previous code for Loops remains the same)"
   ]
  },
  {
   "cell_type": "markdown",
   "metadata": {},
   "source": [
    "## Lists"
   ]
  },
  {
   "cell_type": "code",
   "execution_count": null,
   "metadata": {},
   "outputs": [],
   "source": [
    "# ... (previous code for Lists remains the same)"
   ]
  },
  {
   "cell_type": "markdown",
   "metadata": {},
   "source": [
    "## Dictionaries"
   ]
  },
  {
   "cell_type": "markdown",
   "metadata": {},
   "source": [
    "Dictionaries are unordered collections of key-value pairs. Python provides various operations and functions to work with dictionaries."
   ]
  },
  {
   "cell_type": "code",
   "execution_count": 1,
   "metadata": {},
   "outputs": [
    {
     "name": "stdout",
     "output_type": "stream",
     "text": [
      "{'name': 'Alice', 'age': 25, 'is_student': True}\n",
      "Alice\n",
      "{'name': 'Alice', 'age': 25, 'is_student': True, 'grade': 'A'}\n",
      "dict_keys(['name', 'age', 'is_student', 'grade'])\n",
      "dict_values(['Alice', 25, True, 'A'])\n",
      "dict_items([('name', 'Alice'), ('age', 25), ('is_student', True), ('grade', 'A')])\n",
      "{'age': 25, 'grade': 'A'}\n",
      "True\n",
      "False\n",
      "{'name': 'Alice', 'age': 26, 'is_student': True, 'grade': 'A'}\n",
      "{'name': 'Alice', 'is_student': True, 'grade': 'A'}\n"
     ]
    }
   ],
   "source": [
    "person = {\"name\": \"Alice\", \"age\": 25, \"is_student\": True}\n",
    "print(person)\n",
    "\n",
    "# Accessing dictionary values\n",
    "print(person[\"name\"])  # Output: Alice\n",
    "\n",
    "# Adding a new key-value pair\n",
    "person[\"grade\"] = \"A\"\n",
    "print(person)\n",
    "\n",
    "# Getting all keys\n",
    "print(person.keys())\n",
    "\n",
    "# Getting all values\n",
    "print(person.values())\n",
    "\n",
    "# Getting all key-value pairs\n",
    "print(person.items())\n",
    "\n",
    "# Getting a subset of key-value pairs\n",
    "print({k: v for k, v in person.items() if k in ['age', 'grade']})\n",
    "\n",
    "# Checking if a key is in the dictionary\n",
    "print(\"name\" in person)\n",
    "print(\"city\" in person)\n",
    "\n",
    "# Updating a value\n",
    "person[\"age\"] = 26\n",
    "print(person)\n",
    "\n",
    "# Removing a key-value pair\n",
    "del person[\"age\"]\n",
    "print(person)"
   ]
  }
 ],
 "metadata": {
  "kernelspec": {
   "display_name": "Python 3 (ipykernel)",
   "language": "python",
   "name": "python3"
  },
  "language_info": {
   "codemirror_mode": {
    "name": "ipython",
    "version": 3
   },
   "file_extension": ".py",
   "mimetype": "text/x-python",
   "name": "python",
   "nbconvert_exporter": "python",
   "pygments_lexer": "ipython3",
   "version": "3.9.13"
  }
 },
 "nbformat": 4,
 "nbformat_minor": 2
}
