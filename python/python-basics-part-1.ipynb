{
 "cells": [
  {
   "cell_type": "markdown",
   "metadata": {},
   "source": [
    "# Python Basics: Conditional Statements, Loops, Lists, and Dictionaries"
   ]
  },
  {
   "cell_type": "markdown",
   "metadata": {},
   "source": [
    "## Conditional Statements"
   ]
  },
  {
   "cell_type": "code",
   "execution_count": null,
   "metadata": {},
   "outputs": [],
   "source": [
    "# ... (previous code for Conditional Statements remains the same)"
   ]
  },
  {
   "cell_type": "markdown",
   "metadata": {},
   "source": [
    "## Loops"
   ]
  },
  {
   "cell_type": "code",
   "execution_count": null,
   "metadata": {},
   "outputs": [],
   "source": [
    "# ... (previous code for Loops remains the same)"
   ]
  },
  {
   "cell_type": "markdown",
   "metadata": {},
   "source": [
    "## Lists"
   ]
  },
  {
   "cell_type": "markdown",
   "metadata": {},
   "source": [
    "Lists are ordered collections of items, which can be of different data types. Python provides various operations and functions to work with lists."
   ]
  },
  {
   "cell_type": "code",
   "execution_count": 1,
   "metadata": {},
   "outputs": [
    {
     "name": "stdout",
     "output_type": "stream",
     "text": [
      "[1, 2, 3, 4, 5]\n",
      "2\n",
      "[1, 2, 'three', 4, 5]\n",
      "[1, 2, 'three', 4, 5, 6]\n",
      "[1, 2, 'three', 4]\n",
      "[4, 5, 6]\n",
      "[1, 6, 'three', 4, 5]\n",
      "[1, 6, 'three', 4, 5, 7, 8]\n",
      "3\n",
      "True\n",
      "False\n"
     ]
    }
   ],
   "source": [
    "numbers = [1, 2, 3, 4, 5]\n",
    "print(numbers)\n",
    "\n",
    "# Accessing list elements\n",
    "print(numbers[1])  # Output: 2\n",
    "\n",
    "# Modifying list elements\n",
    "numbers[2] = \"three\"\n",
    "print(numbers)\n",
    "\n",
    "# Adding an element to the list\n",
    "numbers.append(6)\n",
    "print(numbers)\n",
    "\n",
    "# Slicing a list\n",
    "print(numbers[0:4])  # Output: [1, 2, 'three', 4]\n",
    "print(numbers[3:6])  # Output: [4, 5, 6]\n",
    "\n",
    "# List concatenation\n",
    "new_list = [1, 6, \"three\"] + numbers[2:]\n",
    "print(new_list)\n",
    "\n",
    "# Extending a list\n",
    "new_list.extend([7, 8])\n",
    "print(new_list)\n",
    "\n",
    "# Length of a list\n",
    "print(len(new_list))\n",
    "\n",
    "# Checking if an item is in a list\n",
    "print(\"three\" in new_list)\n",
    "print(10 in new_list)"
   ]
  },
  {
   "cell_type": "markdown",
   "metadata": {},
   "source": [
    "## Dictionaries"
   ]
  },
  {
   "cell_type": "code",
   "execution_count": null,
   "metadata": {},
   "outputs": [],
   "source": [
    "# ... (previous code for Dictionaries remains the same)"
   ]
  }
 ],
 "metadata": {
  "kernelspec": {
   "display_name": "Python 3 (ipykernel)",
   "language": "python",
   "name": "python3"
  },
  "language_info": {
   "codemirror_mode": {
    "name": "ipython",
    "version": 3
   },
   "file_extension": ".py",
   "mimetype": "text/x-python",
   "name": "python",
   "nbconvert_exporter": "python",
   "pygments_lexer": "ipython3",
   "version": "3.9.13"
  }
 },
 "nbformat": 4,
 "nbformat_minor": 2
}
