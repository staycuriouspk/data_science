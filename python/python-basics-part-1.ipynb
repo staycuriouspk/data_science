{
 "cells": [
  {
   "cell_type": "markdown",
   "metadata": {},
   "source": [
    "# Python Basics: Strings, Loops, and Functions"
   ]
  },
  {
   "cell_type": "markdown",
   "metadata": {},
   "source": [
    "## Strings"
   ]
  },
  {
   "cell_type": "markdown",
   "metadata": {},
   "source": [
    "Strings in Python are sequences of characters enclosed within single quotes (`'`), double quotes (`\"`), or triple quotes (`'''` or `\"\"\"`). Python provides various operations and methods to work with strings."
   ]
  },
  {
   "cell_type": "code",
   "execution_count": 1,
   "metadata": {},
   "outputs": [
    {
     "name": "stdout",
     "output_type": "stream",
     "text": [
      "Hello, World!\n",
      "HELLO, WORLD!\n",
      "Hello, World!Hello, World!\n",
      "Hello, Python!\n",
      "5\n",
      "Hello, World!\n"
     ]
    }
   ],
   "source": [
    "string1 = \"Hello, World!\"\n",
    "print(string1)\n",
    "\n",
    "# Converting to uppercase\n",
    "print(string1.upper())\n",
    "\n",
    "# Concatenating strings\n",
    "string2 = string1 + string1\n",
    "print(string2)\n",
    "\n",
    "# Replacing substring\n",
    "string3 = string1.replace(\"World\", \"Python\")\n",
    "print(string3)\n",
    "\n",
    "# Finding length of string\n",
    "print(len(string1))\n",
    "\n",
    "# Slicing strings\n",
    "print(string1[0:13])  # Prints the whole string"
   ]
  },
  {
   "cell_type": "markdown",
   "metadata": {},
   "source": [
    "## Loops"
   ]
  },
  {
   "cell_type": "markdown",
   "metadata": {},
   "source": [
    "Loops are used to repeat a block of code multiple times. Python provides two types of loops: `for` and `while`. The `range()` function is commonly used with `for` loops to iterate over a sequence of numbers."
   ]
  },
  {
   "cell_type": "code",
   "execution_count": 2,
   "metadata": {},
   "outputs": [
    {
     "name": "stdout",
     "output_type": "stream",
     "text": [
      "0\n",
      "1\n",
      "2\n",
      "3\n",
      "4\n",
      "\n",
      "5\n",
      "6\n",
      "7\n",
      "8\n",
      "9\n",
      "\n",
      "10\n",
      "12\n",
      "14\n",
      "16\n",
      "18\n"
     ]
    }
   ],
   "source": [
    "# Using range() with for loop\n",
    "for i in range(5):\n",
    "    print(i)\n",
    "\n",
    "print(\"\\n\")  # Print a newline for better readability\n",
    "\n",
    "# range(start, stop)\n",
    "for i in range(5, 10):\n",
    "    print(i)\n",
    "\n",
    "print(\"\\n\")  # Print a newline for better readability\n",
    "\n",
    "# range(start, stop, step)\n",
    "for i in range(10, 20, 2):\n",
    "    print(i)"
   ]
  },
  {
   "cell_type": "markdown",
   "metadata": {},
   "source": [
    "## Functions"
   ]
  },
  {
   "cell_type": "code",
   "execution_count": null,
   "metadata": {},
   "outputs": [],
   "source": [
    "# ... (previous code for Functions remains the same)"
   ]
  }
 ],
 "metadata": {
  "kernelspec": {
   "display_name": "Python 3 (ipykernel)",
   "language": "python",
   "name": "python3"
  },
  "language_info": {
   "codemirror_mode": {
    "name": "ipython",
    "version": 3
   },
   "file_extension": ".py",
   "mimetype": "text/x-python",
   "name": "python",
   "nbconvert_exporter": "python",
   "pygments_lexer": "ipython3",
   "version": "3.9.13"
  }
 },
 "nbformat": 4,
 "nbformat_minor": 2
}
